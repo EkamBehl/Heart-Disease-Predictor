{
 "cells": [
  {
   "cell_type": "markdown",
   "metadata": {
    "cell_id": "80454f4c-4c88-4cb5-9084-6f989ce1c660",
    "deepnote_cell_height": 1049,
    "deepnote_cell_type": "markdown",
    "owner_user_id": "a1fb4e76-af9b-42e9-89eb-f6e42bc90591",
    "tags": []
   },
   "source": [
    "# SIT307 - Group 8\n",
    "\n",
    "Source of dataset:\n",
    "https://www.kaggle.com/datasets/dileep070/heart-disease-prediction-using-logistic-regression\n",
    "\n",
    "### Content\n",
    "\n",
    "##### 1. **Information**\n",
    "- Tables of Contents\n",
    "- Attributes in Dataset\n",
    "- Packages Used\n",
    "- Dataset Information\n",
    "- Duplicate Values\n",
    "- NaN Values\n",
    "- Outliers\n",
    "- Data Distribution for Raw Dataset\n",
    "\n",
    "##### 2. **Data Preprocessing**\n",
    "- Data cleaning: Handling NaN value\n",
    "- Data cleaning: Handling Outliers\n",
    "\n",
    "##### 3. **Machine Learning**\n",
    "- Dataset Splitting\n",
    "1. Logistic Regression Model\n",
    "2. Decision Tree Classifier\n",
    "3. kNN Algorithm\n",
    "4. Random Forest Classifier\n",
    "5. Support Vector Machine (SVC)\n",
    "6. Extreme Gradient Boost Classifier\n",
    "7. Naive Bayes\n",
    "- Model Summary\n",
    "\n",
    "##### 4. Models' Accuracy Improvement\n",
    "1. Feature Selection\n",
    "    - Feature Selection\n",
    "    - Re-train Model after Feature Selection\n",
    "2. Feature Scaling\n",
    "3. Stacked Classifier\n",
    "4. Cross Validation\n",
    "\n",
    "---------------------------\n",
    "---------------------------\n",
    "---------------------------"
   ]
  },
  {
   "cell_type": "markdown",
   "metadata": {
    "cell_id": "00002-98d5c1d6-7a74-4daf-8af0-6117a56a211a",
    "deepnote_cell_height": 754,
    "deepnote_cell_type": "markdown",
    "tags": []
   },
   "source": [
    "### Attributes in Dataset\n",
    "\n",
    "Demographic:\n",
    "- Sex: male or female(Nominal)\n",
    "- Age: Age of the patient;(Continuous - Although the recorded ages have been truncated to whole numbers, the concept of age is continuous)\n",
    "Behavioral\n",
    "- Current Smoker: whether or not the patient is a current smoker (Nominal)\n",
    "- Cigs Per Day: the number of cigarettes that the person smoked on average in one day.(can be considered continuous as one can have any number of cigarettes, even half a cigarette.)\n",
    "Medical( history)\n",
    "- BP Meds: whether or not the patient was on blood pressure medication (Nominal)\n",
    "- Prevalent Stroke: whether or not the patient had previously had a stroke (Nominal)\n",
    "- Prevalent Hyp: whether or not the patient was hypertensive (Nominal)\n",
    "- Diabetes: whether or not the patient had diabetes (Nominal)\n",
    "Medical(current)\n",
    "- Tot Chol: total cholesterol level (Continuous)\n",
    "- Sys BP: systolic blood pressure (Continuous)\n",
    "- Dia BP: diastolic blood pressure (Continuous)\n",
    "- BMI: Body Mass Index (Continuous)\n",
    "- Heart Rate: heart rate (Continuous - In medical research, variables such as heart rate though in fact discrete, yet are considered continuous because of large number of possible values.)\n",
    "- Glucose: glucose level (Continuous)\n",
    "Predict variable (desired target)\n",
    "- 10 year risk of coronary heart disease CHD (binary: “1”, means “Yes”, “0” means “No”)\n"
   ]
  },
  {
   "cell_type": "markdown",
   "metadata": {
    "cell_id": "00003-2c06393b-ef03-47dc-b6e9-20e9a76e22f6",
    "deepnote_cell_height": 62,
    "deepnote_cell_type": "markdown"
   },
   "source": [
    "### Packages Used"
   ]
  },
  {
   "cell_type": "code",
   "execution_count": null,
   "metadata": {
    "cell_id": "00004-e1fc9d8b-3a0b-4cfe-9021-c805a2ff7145",
    "deepnote_cell_height": 760,
    "deepnote_cell_type": "code",
    "deepnote_to_be_reexecuted": false,
    "execution_millis": 11062,
    "execution_start": 1652940482355,
    "source_hash": "bfa7289a",
    "tags": []
   },
   "outputs": [
    {
     "name": "stdout",
     "output_type": "stream",
     "text": [
      "Requirement already satisfied: statsmodels==0.13.2 in /root/venv/lib/python3.7/site-packages (0.13.2)\n",
      "Requirement already satisfied: scipy>=1.3 in /shared-libs/python3.7/py/lib/python3.7/site-packages (from statsmodels==0.13.2) (1.7.3)\n",
      "Requirement already satisfied: numpy>=1.17 in /shared-libs/python3.7/py/lib/python3.7/site-packages (from statsmodels==0.13.2) (1.21.6)\n",
      "Requirement already satisfied: pandas>=0.25 in /shared-libs/python3.7/py/lib/python3.7/site-packages (from statsmodels==0.13.2) (1.2.5)\n",
      "Requirement already satisfied: packaging>=21.3 in /shared-libs/python3.7/py/lib/python3.7/site-packages (from statsmodels==0.13.2) (21.3)\n",
      "Requirement already satisfied: patsy>=0.5.2 in /root/venv/lib/python3.7/site-packages (from statsmodels==0.13.2) (0.5.2)\n",
      "Requirement already satisfied: pytz>=2017.3 in /shared-libs/python3.7/py/lib/python3.7/site-packages (from pandas>=0.25->statsmodels==0.13.2) (2022.1)\n",
      "Requirement already satisfied: python-dateutil>=2.7.3 in /shared-libs/python3.7/py-core/lib/python3.7/site-packages (from pandas>=0.25->statsmodels==0.13.2) (2.8.2)\n",
      "Requirement already satisfied: pyparsing!=3.0.5,>=2.0.2 in /shared-libs/python3.7/py/lib/python3.7/site-packages (from packaging>=21.3->statsmodels==0.13.2) (3.0.8)\n",
      "Requirement already satisfied: six in /shared-libs/python3.7/py-core/lib/python3.7/site-packages (from patsy>=0.5.2->statsmodels==0.13.2) (1.16.0)\n",
      "\u001b[33mWARNING: You are using pip version 20.1.1; however, version 22.1 is available.\n",
      "You should consider upgrading via the '/root/venv/bin/python -m pip install --upgrade pip' command.\u001b[0m\n",
      "Requirement already satisfied: xgboost==1.6.1 in /root/venv/lib/python3.7/site-packages (1.6.1)\n",
      "Requirement already satisfied: numpy in /shared-libs/python3.7/py/lib/python3.7/site-packages (from xgboost==1.6.1) (1.21.6)\n",
      "Requirement already satisfied: scipy in /shared-libs/python3.7/py/lib/python3.7/site-packages (from xgboost==1.6.1) (1.7.3)\n",
      "\u001b[33mWARNING: You are using pip version 20.1.1; however, version 22.1 is available.\n",
      "You should consider upgrading via the '/root/venv/bin/python -m pip install --upgrade pip' command.\u001b[0m\n"
     ]
    }
   ],
   "source": [
    "#import and install all packages\n",
    "!pip install statsmodels==0.13.2\n",
    "!pip install xgboost==1.6.1\n",
    "import matplotlib.pyplot as plt\n",
    "import pandas as pd\n",
    "import numpy as np\n",
    "import sklearn\n",
    "import scipy.stats as stz\n",
    "import statsmodels.api as sm\n",
    "import warnings\n",
    "from sklearn.metrics import plot_confusion_matrix\n",
    "from sklearn.metrics import accuracy_score\n",
    "from sklearn.metrics import precision_score\n",
    "from numpy import nan as NA\n",
    "from sklearn.impute import SimpleImputer\n",
    "from sklearn.model_selection import train_test_split\n",
    "from sklearn.preprocessing import MinMaxScaler\n",
    "from sklearn.linear_model import LogisticRegression\n",
    "import seaborn as sns"
   ]
  },
  {
   "cell_type": "code",
   "execution_count": null,
   "metadata": {
    "cell_id": "00005-b1e43d01-6f8e-4e72-a71f-4a678273ed82",
    "deepnote_cell_height": 81,
    "deepnote_cell_type": "code",
    "deepnote_to_be_reexecuted": false,
    "execution_millis": 4,
    "execution_start": 1652940493424,
    "source_hash": "c3f3c9ec"
   },
   "outputs": [],
   "source": [
    "warnings.filterwarnings('ignore') # irgnore unnecessary warning"
   ]
  },
  {
   "cell_type": "code",
   "execution_count": null,
   "metadata": {
    "cell_id": "00006-e6c2894a-a0ff-4719-be3e-97b2d9ee0eb3",
    "deepnote_cell_height": 636,
    "deepnote_cell_type": "code",
    "deepnote_table_invalid": false,
    "deepnote_table_loading": false,
    "deepnote_table_state": {
     "filters": [],
     "pageIndex": 0,
     "pageSize": 10,
     "sortBy": []
    },
    "deepnote_to_be_reexecuted": false,
    "execution_millis": 693,
    "execution_start": 1652940493438,
    "source_hash": "58d2cd72",
    "tags": []
   },
   "outputs": [
    {
     "data": {
      "application/vnd.deepnote.dataframe.v3+json": {
       "column_count": 16,
       "columns": [
        {
         "dtype": "int64",
         "name": "male",
         "stats": {
          "histogram": [
           {
            "bin_end": 0.1,
            "bin_start": 0,
            "count": 2419
           },
           {
            "bin_end": 0.2,
            "bin_start": 0.1,
            "count": 0
           },
           {
            "bin_end": 0.30000000000000004,
            "bin_start": 0.2,
            "count": 0
           },
           {
            "bin_end": 0.4,
            "bin_start": 0.30000000000000004,
            "count": 0
           },
           {
            "bin_end": 0.5,
            "bin_start": 0.4,
            "count": 0
           },
           {
            "bin_end": 0.6000000000000001,
            "bin_start": 0.5,
            "count": 0
           },
           {
            "bin_end": 0.7000000000000001,
            "bin_start": 0.6000000000000001,
            "count": 0
           },
           {
            "bin_end": 0.8,
            "bin_start": 0.7000000000000001,
            "count": 0
           },
           {
            "bin_end": 0.9,
            "bin_start": 0.8,
            "count": 0
           },
           {
            "bin_end": 1,
            "bin_start": 0.9,
            "count": 1819
           }
          ],
          "max": "1",
          "min": "0",
          "nan_count": 0,
          "unique_count": 2
         }
        },
        {
         "dtype": "int64",
         "name": "age",
         "stats": {
          "histogram": [
           {
            "bin_end": 35.8,
            "bin_start": 32,
            "count": 66
           },
           {
            "bin_end": 39.6,
            "bin_start": 35.8,
            "count": 489
           },
           {
            "bin_end": 43.4,
            "bin_start": 39.6,
            "count": 704
           },
           {
            "bin_end": 47.2,
            "bin_start": 43.4,
            "count": 651
           },
           {
            "bin_end": 51,
            "bin_start": 47.2,
            "count": 445
           },
           {
            "bin_end": 54.8,
            "bin_start": 51,
            "count": 566
           },
           {
            "bin_end": 58.599999999999994,
            "bin_start": 54.8,
            "count": 508
           },
           {
            "bin_end": 62.4,
            "bin_start": 58.599999999999994,
            "count": 439
           },
           {
            "bin_end": 66.19999999999999,
            "bin_start": 62.4,
            "count": 298
           },
           {
            "bin_end": 70,
            "bin_start": 66.19999999999999,
            "count": 72
           }
          ],
          "max": "70",
          "min": "32",
          "nan_count": 0,
          "unique_count": 39
         }
        },
        {
         "dtype": "float64",
         "name": "education",
         "stats": {
          "histogram": [
           {
            "bin_end": 1.3,
            "bin_start": 1,
            "count": 1720
           },
           {
            "bin_end": 1.6,
            "bin_start": 1.3,
            "count": 0
           },
           {
            "bin_end": 1.9,
            "bin_start": 1.6,
            "count": 0
           },
           {
            "bin_end": 2.2,
            "bin_start": 1.9,
            "count": 1253
           },
           {
            "bin_end": 2.5,
            "bin_start": 2.2,
            "count": 0
           },
           {
            "bin_end": 2.8,
            "bin_start": 2.5,
            "count": 0
           },
           {
            "bin_end": 3.1,
            "bin_start": 2.8,
            "count": 687
           },
           {
            "bin_end": 3.4,
            "bin_start": 3.1,
            "count": 0
           },
           {
            "bin_end": 3.6999999999999997,
            "bin_start": 3.4,
            "count": 0
           },
           {
            "bin_end": 4,
            "bin_start": 3.6999999999999997,
            "count": 473
           }
          ],
          "max": "4.0",
          "min": "1.0",
          "nan_count": 105,
          "unique_count": 4
         }
        },
        {
         "dtype": "int64",
         "name": "currentSmoker",
         "stats": {
          "histogram": [
           {
            "bin_end": 0.1,
            "bin_start": 0,
            "count": 2144
           },
           {
            "bin_end": 0.2,
            "bin_start": 0.1,
            "count": 0
           },
           {
            "bin_end": 0.30000000000000004,
            "bin_start": 0.2,
            "count": 0
           },
           {
            "bin_end": 0.4,
            "bin_start": 0.30000000000000004,
            "count": 0
           },
           {
            "bin_end": 0.5,
            "bin_start": 0.4,
            "count": 0
           },
           {
            "bin_end": 0.6000000000000001,
            "bin_start": 0.5,
            "count": 0
           },
           {
            "bin_end": 0.7000000000000001,
            "bin_start": 0.6000000000000001,
            "count": 0
           },
           {
            "bin_end": 0.8,
            "bin_start": 0.7000000000000001,
            "count": 0
           },
           {
            "bin_end": 0.9,
            "bin_start": 0.8,
            "count": 0
           },
           {
            "bin_end": 1,
            "bin_start": 0.9,
            "count": 2094
           }
          ],
          "max": "1",
          "min": "0",
          "nan_count": 0,
          "unique_count": 2
         }
        },
        {
         "dtype": "float64",
         "name": "cigsPerDay",
         "stats": {
          "histogram": [
           {
            "bin_end": 7,
            "bin_start": 0,
            "count": 2477
           },
           {
            "bin_end": 14,
            "bin_start": 7,
            "count": 307
           },
           {
            "bin_end": 21,
            "bin_start": 14,
            "count": 966
           },
           {
            "bin_end": 28,
            "bin_start": 21,
            "count": 61
           },
           {
            "bin_end": 35,
            "bin_start": 28,
            "count": 218
           },
           {
            "bin_end": 42,
            "bin_start": 35,
            "count": 103
           },
           {
            "bin_end": 49,
            "bin_start": 42,
            "count": 59
           },
           {
            "bin_end": 56,
            "bin_start": 49,
            "count": 6
           },
           {
            "bin_end": 63,
            "bin_start": 56,
            "count": 11
           },
           {
            "bin_end": 70,
            "bin_start": 63,
            "count": 1
           }
          ],
          "max": "70.0",
          "min": "0.0",
          "nan_count": 29,
          "unique_count": 33
         }
        },
        {
         "dtype": "float64",
         "name": "BPMeds",
         "stats": {
          "histogram": [
           {
            "bin_end": 0.1,
            "bin_start": 0,
            "count": 4061
           },
           {
            "bin_end": 0.2,
            "bin_start": 0.1,
            "count": 0
           },
           {
            "bin_end": 0.30000000000000004,
            "bin_start": 0.2,
            "count": 0
           },
           {
            "bin_end": 0.4,
            "bin_start": 0.30000000000000004,
            "count": 0
           },
           {
            "bin_end": 0.5,
            "bin_start": 0.4,
            "count": 0
           },
           {
            "bin_end": 0.6000000000000001,
            "bin_start": 0.5,
            "count": 0
           },
           {
            "bin_end": 0.7000000000000001,
            "bin_start": 0.6000000000000001,
            "count": 0
           },
           {
            "bin_end": 0.8,
            "bin_start": 0.7000000000000001,
            "count": 0
           },
           {
            "bin_end": 0.9,
            "bin_start": 0.8,
            "count": 0
           },
           {
            "bin_end": 1,
            "bin_start": 0.9,
            "count": 124
           }
          ],
          "max": "1.0",
          "min": "0.0",
          "nan_count": 53,
          "unique_count": 2
         }
        },
        {
         "dtype": "int64",
         "name": "prevalentStroke",
         "stats": {
          "histogram": [
           {
            "bin_end": 0.1,
            "bin_start": 0,
            "count": 4213
           },
           {
            "bin_end": 0.2,
            "bin_start": 0.1,
            "count": 0
           },
           {
            "bin_end": 0.30000000000000004,
            "bin_start": 0.2,
            "count": 0
           },
           {
            "bin_end": 0.4,
            "bin_start": 0.30000000000000004,
            "count": 0
           },
           {
            "bin_end": 0.5,
            "bin_start": 0.4,
            "count": 0
           },
           {
            "bin_end": 0.6000000000000001,
            "bin_start": 0.5,
            "count": 0
           },
           {
            "bin_end": 0.7000000000000001,
            "bin_start": 0.6000000000000001,
            "count": 0
           },
           {
            "bin_end": 0.8,
            "bin_start": 0.7000000000000001,
            "count": 0
           },
           {
            "bin_end": 0.9,
            "bin_start": 0.8,
            "count": 0
           },
           {
            "bin_end": 1,
            "bin_start": 0.9,
            "count": 25
           }
          ],
          "max": "1",
          "min": "0",
          "nan_count": 0,
          "unique_count": 2
         }
        },
        {
         "dtype": "int64",
         "name": "prevalentHyp",
         "stats": {
          "histogram": [
           {
            "bin_end": 0.1,
            "bin_start": 0,
            "count": 2922
           },
           {
            "bin_end": 0.2,
            "bin_start": 0.1,
            "count": 0
           },
           {
            "bin_end": 0.30000000000000004,
            "bin_start": 0.2,
            "count": 0
           },
           {
            "bin_end": 0.4,
            "bin_start": 0.30000000000000004,
            "count": 0
           },
           {
            "bin_end": 0.5,
            "bin_start": 0.4,
            "count": 0
           },
           {
            "bin_end": 0.6000000000000001,
            "bin_start": 0.5,
            "count": 0
           },
           {
            "bin_end": 0.7000000000000001,
            "bin_start": 0.6000000000000001,
            "count": 0
           },
           {
            "bin_end": 0.8,
            "bin_start": 0.7000000000000001,
            "count": 0
           },
           {
            "bin_end": 0.9,
            "bin_start": 0.8,
            "count": 0
           },
           {
            "bin_end": 1,
            "bin_start": 0.9,
            "count": 1316
           }
          ],
          "max": "1",
          "min": "0",
          "nan_count": 0,
          "unique_count": 2
         }
        },
        {
         "dtype": "int64",
         "name": "diabetes",
         "stats": {
          "histogram": [
           {
            "bin_end": 0.1,
            "bin_start": 0,
            "count": 4129
           },
           {
            "bin_end": 0.2,
            "bin_start": 0.1,
            "count": 0
           },
           {
            "bin_end": 0.30000000000000004,
            "bin_start": 0.2,
            "count": 0
           },
           {
            "bin_end": 0.4,
            "bin_start": 0.30000000000000004,
            "count": 0
           },
           {
            "bin_end": 0.5,
            "bin_start": 0.4,
            "count": 0
           },
           {
            "bin_end": 0.6000000000000001,
            "bin_start": 0.5,
            "count": 0
           },
           {
            "bin_end": 0.7000000000000001,
            "bin_start": 0.6000000000000001,
            "count": 0
           },
           {
            "bin_end": 0.8,
            "bin_start": 0.7000000000000001,
            "count": 0
           },
           {
            "bin_end": 0.9,
            "bin_start": 0.8,
            "count": 0
           },
           {
            "bin_end": 1,
            "bin_start": 0.9,
            "count": 109
           }
          ],
          "max": "1",
          "min": "0",
          "nan_count": 0,
          "unique_count": 2
         }
        },
        {
         "dtype": "float64",
         "name": "totChol",
         "stats": {
          "histogram": [
           {
            "bin_end": 165.9,
            "bin_start": 107,
            "count": 164
           },
           {
            "bin_end": 224.8,
            "bin_start": 165.9,
            "count": 1553
           },
           {
            "bin_end": 283.7,
            "bin_start": 224.8,
            "count": 1898
           },
           {
            "bin_end": 342.6,
            "bin_start": 283.7,
            "count": 503
           },
           {
            "bin_end": 401.5,
            "bin_start": 342.6,
            "count": 60
           },
           {
            "bin_end": 460.4,
            "bin_start": 401.5,
            "count": 7
           },
           {
            "bin_end": 519.3,
            "bin_start": 460.4,
            "count": 1
           },
           {
            "bin_end": 578.2,
            "bin_start": 519.3,
            "count": 0
           },
           {
            "bin_end": 637.1,
            "bin_start": 578.2,
            "count": 1
           },
           {
            "bin_end": 696,
            "bin_start": 637.1,
            "count": 1
           }
          ],
          "max": "696.0",
          "min": "107.0",
          "nan_count": 50,
          "unique_count": 248
         }
        },
        {
         "dtype": "float64",
         "name": "sysBP",
         "stats": {
          "histogram": [
           {
            "bin_end": 104.65,
            "bin_start": 83.5,
            "count": 219
           },
           {
            "bin_end": 125.8,
            "bin_start": 104.65,
            "count": 1642
           },
           {
            "bin_end": 146.95,
            "bin_start": 125.8,
            "count": 1472
           },
           {
            "bin_end": 168.1,
            "bin_start": 146.95,
            "count": 604
           },
           {
            "bin_end": 189.25,
            "bin_start": 168.1,
            "count": 206
           },
           {
            "bin_end": 210.39999999999998,
            "bin_start": 189.25,
            "count": 78
           },
           {
            "bin_end": 231.54999999999998,
            "bin_start": 210.39999999999998,
            "count": 11
           },
           {
            "bin_end": 252.7,
            "bin_start": 231.54999999999998,
            "count": 5
           },
           {
            "bin_end": 273.85,
            "bin_start": 252.7,
            "count": 0
           },
           {
            "bin_end": 295,
            "bin_start": 273.85,
            "count": 1
           }
          ],
          "max": "295.0",
          "min": "83.5",
          "nan_count": 0,
          "unique_count": 234
         }
        },
        {
         "dtype": "float64",
         "name": "diaBP",
         "stats": {
          "histogram": [
           {
            "bin_end": 57.45,
            "bin_start": 48,
            "count": 18
           },
           {
            "bin_end": 66.9,
            "bin_start": 57.45,
            "count": 242
           },
           {
            "bin_end": 76.35,
            "bin_start": 66.9,
            "count": 1015
           },
           {
            "bin_end": 85.8,
            "bin_start": 76.35,
            "count": 1427
           },
           {
            "bin_end": 95.25,
            "bin_start": 85.8,
            "count": 966
           },
           {
            "bin_end": 104.69999999999999,
            "bin_start": 95.25,
            "count": 358
           },
           {
            "bin_end": 114.14999999999999,
            "bin_start": 104.69999999999999,
            "count": 150
           },
           {
            "bin_end": 123.6,
            "bin_start": 114.14999999999999,
            "count": 38
           },
           {
            "bin_end": 133.05,
            "bin_start": 123.6,
            "count": 18
           },
           {
            "bin_end": 142.5,
            "bin_start": 133.05,
            "count": 6
           }
          ],
          "max": "142.5",
          "min": "48.0",
          "nan_count": 0,
          "unique_count": 146
         }
        },
        {
         "dtype": "float64",
         "name": "BMI",
         "stats": {
          "histogram": [
           {
            "bin_end": 19.665999999999997,
            "bin_start": 15.54,
            "count": 158
           },
           {
            "bin_end": 23.791999999999998,
            "bin_start": 19.665999999999997,
            "count": 1210
           },
           {
            "bin_end": 27.918,
            "bin_start": 23.791999999999998,
            "count": 1750
           },
           {
            "bin_end": 32.044,
            "bin_start": 27.918,
            "count": 824
           },
           {
            "bin_end": 36.169999999999995,
            "bin_start": 32.044,
            "count": 196
           },
           {
            "bin_end": 40.29599999999999,
            "bin_start": 36.169999999999995,
            "count": 58
           },
           {
            "bin_end": 44.422,
            "bin_start": 40.29599999999999,
            "count": 17
           },
           {
            "bin_end": 48.547999999999995,
            "bin_start": 44.422,
            "count": 4
           },
           {
            "bin_end": 52.67399999999999,
            "bin_start": 48.547999999999995,
            "count": 1
           },
           {
            "bin_end": 56.8,
            "bin_start": 52.67399999999999,
            "count": 1
           }
          ],
          "max": "56.8",
          "min": "15.54",
          "nan_count": 19,
          "unique_count": 1363
         }
        },
        {
         "dtype": "float64",
         "name": "heartRate",
         "stats": {
          "histogram": [
           {
            "bin_end": 53.9,
            "bin_start": 44,
            "count": 61
           },
           {
            "bin_end": 63.8,
            "bin_start": 53.9,
            "count": 538
           },
           {
            "bin_end": 73.7,
            "bin_start": 63.8,
            "count": 1260
           },
           {
            "bin_end": 83.6,
            "bin_start": 73.7,
            "count": 1357
           },
           {
            "bin_end": 93.5,
            "bin_start": 83.6,
            "count": 645
           },
           {
            "bin_end": 103.4,
            "bin_start": 93.5,
            "count": 286
           },
           {
            "bin_end": 113.3,
            "bin_start": 103.4,
            "count": 70
           },
           {
            "bin_end": 123.2,
            "bin_start": 113.3,
            "count": 14
           },
           {
            "bin_end": 133.10000000000002,
            "bin_start": 123.2,
            "count": 4
           },
           {
            "bin_end": 143,
            "bin_start": 133.10000000000002,
            "count": 2
           }
          ],
          "max": "143.0",
          "min": "44.0",
          "nan_count": 1,
          "unique_count": 73
         }
        },
        {
         "dtype": "float64",
         "name": "glucose",
         "stats": {
          "histogram": [
           {
            "bin_end": 75.4,
            "bin_start": 40,
            "count": 1572
           },
           {
            "bin_end": 110.8,
            "bin_start": 75.4,
            "count": 2097
           },
           {
            "bin_end": 146.2,
            "bin_start": 110.8,
            "count": 127
           },
           {
            "bin_end": 181.6,
            "bin_start": 146.2,
            "count": 16
           },
           {
            "bin_end": 217,
            "bin_start": 181.6,
            "count": 13
           },
           {
            "bin_end": 252.39999999999998,
            "bin_start": 217,
            "count": 6
           },
           {
            "bin_end": 287.79999999999995,
            "bin_start": 252.39999999999998,
            "count": 7
           },
           {
            "bin_end": 323.2,
            "bin_start": 287.79999999999995,
            "count": 4
           },
           {
            "bin_end": 358.59999999999997,
            "bin_start": 323.2,
            "count": 3
           },
           {
            "bin_end": 394,
            "bin_start": 358.59999999999997,
            "count": 5
           }
          ],
          "max": "394.0",
          "min": "40.0",
          "nan_count": 388,
          "unique_count": 143
         }
        },
        {
         "dtype": "int64",
         "name": "TenYearCHD",
         "stats": {
          "histogram": [
           {
            "bin_end": 0.1,
            "bin_start": 0,
            "count": 3594
           },
           {
            "bin_end": 0.2,
            "bin_start": 0.1,
            "count": 0
           },
           {
            "bin_end": 0.30000000000000004,
            "bin_start": 0.2,
            "count": 0
           },
           {
            "bin_end": 0.4,
            "bin_start": 0.30000000000000004,
            "count": 0
           },
           {
            "bin_end": 0.5,
            "bin_start": 0.4,
            "count": 0
           },
           {
            "bin_end": 0.6000000000000001,
            "bin_start": 0.5,
            "count": 0
           },
           {
            "bin_end": 0.7000000000000001,
            "bin_start": 0.6000000000000001,
            "count": 0
           },
           {
            "bin_end": 0.8,
            "bin_start": 0.7000000000000001,
            "count": 0
           },
           {
            "bin_end": 0.9,
            "bin_start": 0.8,
            "count": 0
           },
           {
            "bin_end": 1,
            "bin_start": 0.9,
            "count": 644
           }
          ],
          "max": "1",
          "min": "0",
          "nan_count": 0,
          "unique_count": 2
         }
        },
        {
         "dtype": "int64",
         "name": "_deepnote_index_column"
        }
       ],
       "row_count": 4238,
       "rows": [
        {
         "BMI": 26.97,
         "BPMeds": 0,
         "TenYearCHD": 0,
         "_deepnote_index_column": 0,
         "age": 39,
         "cigsPerDay": 0,
         "currentSmoker": 0,
         "diaBP": 70,
         "diabetes": 0,
         "education": 4,
         "glucose": 77,
         "heartRate": 80,
         "male": 1,
         "prevalentHyp": 0,
         "prevalentStroke": 0,
         "sysBP": 106,
         "totChol": 195
        },
        {
         "BMI": 28.73,
         "BPMeds": 0,
         "TenYearCHD": 0,
         "_deepnote_index_column": 1,
         "age": 46,
         "cigsPerDay": 0,
         "currentSmoker": 0,
         "diaBP": 81,
         "diabetes": 0,
         "education": 2,
         "glucose": 76,
         "heartRate": 95,
         "male": 0,
         "prevalentHyp": 0,
         "prevalentStroke": 0,
         "sysBP": 121,
         "totChol": 250
        },
        {
         "BMI": 25.34,
         "BPMeds": 0,
         "TenYearCHD": 0,
         "_deepnote_index_column": 2,
         "age": 48,
         "cigsPerDay": 20,
         "currentSmoker": 1,
         "diaBP": 80,
         "diabetes": 0,
         "education": 1,
         "glucose": 70,
         "heartRate": 75,
         "male": 1,
         "prevalentHyp": 0,
         "prevalentStroke": 0,
         "sysBP": 127.5,
         "totChol": 245
        },
        {
         "BMI": 28.58,
         "BPMeds": 0,
         "TenYearCHD": 1,
         "_deepnote_index_column": 3,
         "age": 61,
         "cigsPerDay": 30,
         "currentSmoker": 1,
         "diaBP": 95,
         "diabetes": 0,
         "education": 3,
         "glucose": 103,
         "heartRate": 65,
         "male": 0,
         "prevalentHyp": 1,
         "prevalentStroke": 0,
         "sysBP": 150,
         "totChol": 225
        },
        {
         "BMI": 23.1,
         "BPMeds": 0,
         "TenYearCHD": 0,
         "_deepnote_index_column": 4,
         "age": 46,
         "cigsPerDay": 23,
         "currentSmoker": 1,
         "diaBP": 84,
         "diabetes": 0,
         "education": 3,
         "glucose": 85,
         "heartRate": 85,
         "male": 0,
         "prevalentHyp": 0,
         "prevalentStroke": 0,
         "sysBP": 130,
         "totChol": 285
        },
        {
         "BMI": 30.3,
         "BPMeds": 0,
         "TenYearCHD": 0,
         "_deepnote_index_column": 5,
         "age": 43,
         "cigsPerDay": 0,
         "currentSmoker": 0,
         "diaBP": 110,
         "diabetes": 0,
         "education": 2,
         "glucose": 99,
         "heartRate": 77,
         "male": 0,
         "prevalentHyp": 1,
         "prevalentStroke": 0,
         "sysBP": 180,
         "totChol": 228
        },
        {
         "BMI": 33.11,
         "BPMeds": 0,
         "TenYearCHD": 1,
         "_deepnote_index_column": 6,
         "age": 63,
         "cigsPerDay": 0,
         "currentSmoker": 0,
         "diaBP": 71,
         "diabetes": 0,
         "education": 1,
         "glucose": 85,
         "heartRate": 60,
         "male": 0,
         "prevalentHyp": 0,
         "prevalentStroke": 0,
         "sysBP": 138,
         "totChol": 205
        },
        {
         "BMI": 21.68,
         "BPMeds": 0,
         "TenYearCHD": 0,
         "_deepnote_index_column": 7,
         "age": 45,
         "cigsPerDay": 20,
         "currentSmoker": 1,
         "diaBP": 71,
         "diabetes": 0,
         "education": 2,
         "glucose": 78,
         "heartRate": 79,
         "male": 0,
         "prevalentHyp": 0,
         "prevalentStroke": 0,
         "sysBP": 100,
         "totChol": 313
        },
        {
         "BMI": 26.36,
         "BPMeds": 0,
         "TenYearCHD": 0,
         "_deepnote_index_column": 8,
         "age": 52,
         "cigsPerDay": 0,
         "currentSmoker": 0,
         "diaBP": 89,
         "diabetes": 0,
         "education": 1,
         "glucose": 79,
         "heartRate": 76,
         "male": 1,
         "prevalentHyp": 1,
         "prevalentStroke": 0,
         "sysBP": 141.5,
         "totChol": 260
        },
        {
         "BMI": 23.61,
         "BPMeds": 0,
         "TenYearCHD": 0,
         "_deepnote_index_column": 9,
         "age": 43,
         "cigsPerDay": 30,
         "currentSmoker": 1,
         "diaBP": 107,
         "diabetes": 0,
         "education": 1,
         "glucose": 88,
         "heartRate": 93,
         "male": 1,
         "prevalentHyp": 1,
         "prevalentStroke": 0,
         "sysBP": 162,
         "totChol": 225
        }
       ]
      },
      "text/html": [
       "<div>\n",
       "<style scoped>\n",
       "    .dataframe tbody tr th:only-of-type {\n",
       "        vertical-align: middle;\n",
       "    }\n",
       "\n",
       "    .dataframe tbody tr th {\n",
       "        vertical-align: top;\n",
       "    }\n",
       "\n",
       "    .dataframe thead th {\n",
       "        text-align: right;\n",
       "    }\n",
       "</style>\n",
       "<table border=\"1\" class=\"dataframe\">\n",
       "  <thead>\n",
       "    <tr style=\"text-align: right;\">\n",
       "      <th></th>\n",
       "      <th>male</th>\n",
       "      <th>age</th>\n",
       "      <th>education</th>\n",
       "      <th>currentSmoker</th>\n",
       "      <th>cigsPerDay</th>\n",
       "      <th>BPMeds</th>\n",
       "      <th>prevalentStroke</th>\n",
       "      <th>prevalentHyp</th>\n",
       "      <th>diabetes</th>\n",
       "      <th>totChol</th>\n",
       "      <th>sysBP</th>\n",
       "      <th>diaBP</th>\n",
       "      <th>BMI</th>\n",
       "      <th>heartRate</th>\n",
       "      <th>glucose</th>\n",
       "      <th>TenYearCHD</th>\n",
       "    </tr>\n",
       "  </thead>\n",
       "  <tbody>\n",
       "    <tr>\n",
       "      <th>0</th>\n",
       "      <td>1</td>\n",
       "      <td>39</td>\n",
       "      <td>4.0</td>\n",
       "      <td>0</td>\n",
       "      <td>0.0</td>\n",
       "      <td>0.0</td>\n",
       "      <td>0</td>\n",
       "      <td>0</td>\n",
       "      <td>0</td>\n",
       "      <td>195.0</td>\n",
       "      <td>106.0</td>\n",
       "      <td>70.0</td>\n",
       "      <td>26.97</td>\n",
       "      <td>80.0</td>\n",
       "      <td>77.0</td>\n",
       "      <td>0</td>\n",
       "    </tr>\n",
       "    <tr>\n",
       "      <th>1</th>\n",
       "      <td>0</td>\n",
       "      <td>46</td>\n",
       "      <td>2.0</td>\n",
       "      <td>0</td>\n",
       "      <td>0.0</td>\n",
       "      <td>0.0</td>\n",
       "      <td>0</td>\n",
       "      <td>0</td>\n",
       "      <td>0</td>\n",
       "      <td>250.0</td>\n",
       "      <td>121.0</td>\n",
       "      <td>81.0</td>\n",
       "      <td>28.73</td>\n",
       "      <td>95.0</td>\n",
       "      <td>76.0</td>\n",
       "      <td>0</td>\n",
       "    </tr>\n",
       "    <tr>\n",
       "      <th>2</th>\n",
       "      <td>1</td>\n",
       "      <td>48</td>\n",
       "      <td>1.0</td>\n",
       "      <td>1</td>\n",
       "      <td>20.0</td>\n",
       "      <td>0.0</td>\n",
       "      <td>0</td>\n",
       "      <td>0</td>\n",
       "      <td>0</td>\n",
       "      <td>245.0</td>\n",
       "      <td>127.5</td>\n",
       "      <td>80.0</td>\n",
       "      <td>25.34</td>\n",
       "      <td>75.0</td>\n",
       "      <td>70.0</td>\n",
       "      <td>0</td>\n",
       "    </tr>\n",
       "    <tr>\n",
       "      <th>3</th>\n",
       "      <td>0</td>\n",
       "      <td>61</td>\n",
       "      <td>3.0</td>\n",
       "      <td>1</td>\n",
       "      <td>30.0</td>\n",
       "      <td>0.0</td>\n",
       "      <td>0</td>\n",
       "      <td>1</td>\n",
       "      <td>0</td>\n",
       "      <td>225.0</td>\n",
       "      <td>150.0</td>\n",
       "      <td>95.0</td>\n",
       "      <td>28.58</td>\n",
       "      <td>65.0</td>\n",
       "      <td>103.0</td>\n",
       "      <td>1</td>\n",
       "    </tr>\n",
       "    <tr>\n",
       "      <th>4</th>\n",
       "      <td>0</td>\n",
       "      <td>46</td>\n",
       "      <td>3.0</td>\n",
       "      <td>1</td>\n",
       "      <td>23.0</td>\n",
       "      <td>0.0</td>\n",
       "      <td>0</td>\n",
       "      <td>0</td>\n",
       "      <td>0</td>\n",
       "      <td>285.0</td>\n",
       "      <td>130.0</td>\n",
       "      <td>84.0</td>\n",
       "      <td>23.10</td>\n",
       "      <td>85.0</td>\n",
       "      <td>85.0</td>\n",
       "      <td>0</td>\n",
       "    </tr>\n",
       "    <tr>\n",
       "      <th>...</th>\n",
       "      <td>...</td>\n",
       "      <td>...</td>\n",
       "      <td>...</td>\n",
       "      <td>...</td>\n",
       "      <td>...</td>\n",
       "      <td>...</td>\n",
       "      <td>...</td>\n",
       "      <td>...</td>\n",
       "      <td>...</td>\n",
       "      <td>...</td>\n",
       "      <td>...</td>\n",
       "      <td>...</td>\n",
       "      <td>...</td>\n",
       "      <td>...</td>\n",
       "      <td>...</td>\n",
       "      <td>...</td>\n",
       "    </tr>\n",
       "    <tr>\n",
       "      <th>4233</th>\n",
       "      <td>1</td>\n",
       "      <td>50</td>\n",
       "      <td>1.0</td>\n",
       "      <td>1</td>\n",
       "      <td>1.0</td>\n",
       "      <td>0.0</td>\n",
       "      <td>0</td>\n",
       "      <td>1</td>\n",
       "      <td>0</td>\n",
       "      <td>313.0</td>\n",
       "      <td>179.0</td>\n",
       "      <td>92.0</td>\n",
       "      <td>25.97</td>\n",
       "      <td>66.0</td>\n",
       "      <td>86.0</td>\n",
       "      <td>1</td>\n",
       "    </tr>\n",
       "    <tr>\n",
       "      <th>4234</th>\n",
       "      <td>1</td>\n",
       "      <td>51</td>\n",
       "      <td>3.0</td>\n",
       "      <td>1</td>\n",
       "      <td>43.0</td>\n",
       "      <td>0.0</td>\n",
       "      <td>0</td>\n",
       "      <td>0</td>\n",
       "      <td>0</td>\n",
       "      <td>207.0</td>\n",
       "      <td>126.5</td>\n",
       "      <td>80.0</td>\n",
       "      <td>19.71</td>\n",
       "      <td>65.0</td>\n",
       "      <td>68.0</td>\n",
       "      <td>0</td>\n",
       "    </tr>\n",
       "    <tr>\n",
       "      <th>4235</th>\n",
       "      <td>0</td>\n",
       "      <td>48</td>\n",
       "      <td>2.0</td>\n",
       "      <td>1</td>\n",
       "      <td>20.0</td>\n",
       "      <td>NaN</td>\n",
       "      <td>0</td>\n",
       "      <td>0</td>\n",
       "      <td>0</td>\n",
       "      <td>248.0</td>\n",
       "      <td>131.0</td>\n",
       "      <td>72.0</td>\n",
       "      <td>22.00</td>\n",
       "      <td>84.0</td>\n",
       "      <td>86.0</td>\n",
       "      <td>0</td>\n",
       "    </tr>\n",
       "    <tr>\n",
       "      <th>4236</th>\n",
       "      <td>0</td>\n",
       "      <td>44</td>\n",
       "      <td>1.0</td>\n",
       "      <td>1</td>\n",
       "      <td>15.0</td>\n",
       "      <td>0.0</td>\n",
       "      <td>0</td>\n",
       "      <td>0</td>\n",
       "      <td>0</td>\n",
       "      <td>210.0</td>\n",
       "      <td>126.5</td>\n",
       "      <td>87.0</td>\n",
       "      <td>19.16</td>\n",
       "      <td>86.0</td>\n",
       "      <td>NaN</td>\n",
       "      <td>0</td>\n",
       "    </tr>\n",
       "    <tr>\n",
       "      <th>4237</th>\n",
       "      <td>0</td>\n",
       "      <td>52</td>\n",
       "      <td>2.0</td>\n",
       "      <td>0</td>\n",
       "      <td>0.0</td>\n",
       "      <td>0.0</td>\n",
       "      <td>0</td>\n",
       "      <td>0</td>\n",
       "      <td>0</td>\n",
       "      <td>269.0</td>\n",
       "      <td>133.5</td>\n",
       "      <td>83.0</td>\n",
       "      <td>21.47</td>\n",
       "      <td>80.0</td>\n",
       "      <td>107.0</td>\n",
       "      <td>0</td>\n",
       "    </tr>\n",
       "  </tbody>\n",
       "</table>\n",
       "<p>4238 rows × 16 columns</p>\n",
       "</div>"
      ],
      "text/plain": [
       "      male  age  education  currentSmoker  cigsPerDay  BPMeds  \\\n",
       "0        1   39        4.0              0         0.0     0.0   \n",
       "1        0   46        2.0              0         0.0     0.0   \n",
       "2        1   48        1.0              1        20.0     0.0   \n",
       "3        0   61        3.0              1        30.0     0.0   \n",
       "4        0   46        3.0              1        23.0     0.0   \n",
       "...    ...  ...        ...            ...         ...     ...   \n",
       "4233     1   50        1.0              1         1.0     0.0   \n",
       "4234     1   51        3.0              1        43.0     0.0   \n",
       "4235     0   48        2.0              1        20.0     NaN   \n",
       "4236     0   44        1.0              1        15.0     0.0   \n",
       "4237     0   52        2.0              0         0.0     0.0   \n",
       "\n",
       "      prevalentStroke  prevalentHyp  diabetes  totChol  sysBP  diaBP    BMI  \\\n",
       "0                   0             0         0    195.0  106.0   70.0  26.97   \n",
       "1                   0             0         0    250.0  121.0   81.0  28.73   \n",
       "2                   0             0         0    245.0  127.5   80.0  25.34   \n",
       "3                   0             1         0    225.0  150.0   95.0  28.58   \n",
       "4                   0             0         0    285.0  130.0   84.0  23.10   \n",
       "...               ...           ...       ...      ...    ...    ...    ...   \n",
       "4233                0             1         0    313.0  179.0   92.0  25.97   \n",
       "4234                0             0         0    207.0  126.5   80.0  19.71   \n",
       "4235                0             0         0    248.0  131.0   72.0  22.00   \n",
       "4236                0             0         0    210.0  126.5   87.0  19.16   \n",
       "4237                0             0         0    269.0  133.5   83.0  21.47   \n",
       "\n",
       "      heartRate  glucose  TenYearCHD  \n",
       "0          80.0     77.0           0  \n",
       "1          95.0     76.0           0  \n",
       "2          75.0     70.0           0  \n",
       "3          65.0    103.0           1  \n",
       "4          85.0     85.0           0  \n",
       "...         ...      ...         ...  \n",
       "4233       66.0     86.0           1  \n",
       "4234       65.0     68.0           0  \n",
       "4235       84.0     86.0           0  \n",
       "4236       86.0      NaN           0  \n",
       "4237       80.0    107.0           0  \n",
       "\n",
       "[4238 rows x 16 columns]"
      ]
     },
     "execution_count": 3,
     "metadata": {},
     "output_type": "execute_result"
    }
   ],
   "source": [
    "# Reading and displaying the dataset through pandas.\n",
    "df = pd.read_csv('framingham.csv')\n",
    "df"
   ]
  },
  {
   "cell_type": "markdown",
   "metadata": {
    "cell_id": "00007-b1d5d571-da7e-4b68-b943-8206bbf20e54",
    "deepnote_cell_height": 62,
    "deepnote_cell_type": "markdown"
   },
   "source": [
    "### Dataset Information"
   ]
  },
  {
   "cell_type": "code",
   "execution_count": null,
   "metadata": {
    "cell_id": "00008-ed38798d-99fe-40da-aee9-036f0e870ecf",
    "deepnote_cell_height": 848,
    "deepnote_cell_type": "code",
    "deepnote_output_heights": [
     null,
     611
    ],
    "deepnote_to_be_reexecuted": false,
    "execution_millis": 514,
    "execution_start": 1652940493619,
    "source_hash": "cfc7fac",
    "tags": []
   },
   "outputs": [
    {
     "name": "stdout",
     "output_type": "stream",
     "text": [
      "Number of Columns : 16 \n",
      "Number of Rows :  4238\n",
      "Dataset info:\n"
     ]
    },
    {
     "data": {
      "text/plain": [
       "<bound method DataFrame.info of       male  age  education  currentSmoker  cigsPerDay  BPMeds  \\\n",
       "0        1   39        4.0              0         0.0     0.0   \n",
       "1        0   46        2.0              0         0.0     0.0   \n",
       "2        1   48        1.0              1        20.0     0.0   \n",
       "3        0   61        3.0              1        30.0     0.0   \n",
       "4        0   46        3.0              1        23.0     0.0   \n",
       "...    ...  ...        ...            ...         ...     ...   \n",
       "4233     1   50        1.0              1         1.0     0.0   \n",
       "4234     1   51        3.0              1        43.0     0.0   \n",
       "4235     0   48        2.0              1        20.0     NaN   \n",
       "4236     0   44        1.0              1        15.0     0.0   \n",
       "4237     0   52        2.0              0         0.0     0.0   \n",
       "\n",
       "      prevalentStroke  prevalentHyp  diabetes  totChol  sysBP  diaBP    BMI  \\\n",
       "0                   0             0         0    195.0  106.0   70.0  26.97   \n",
       "1                   0             0         0    250.0  121.0   81.0  28.73   \n",
       "2                   0             0         0    245.0  127.5   80.0  25.34   \n",
       "3                   0             1         0    225.0  150.0   95.0  28.58   \n",
       "4                   0             0         0    285.0  130.0   84.0  23.10   \n",
       "...               ...           ...       ...      ...    ...    ...    ...   \n",
       "4233                0             1         0    313.0  179.0   92.0  25.97   \n",
       "4234                0             0         0    207.0  126.5   80.0  19.71   \n",
       "4235                0             0         0    248.0  131.0   72.0  22.00   \n",
       "4236                0             0         0    210.0  126.5   87.0  19.16   \n",
       "4237                0             0         0    269.0  133.5   83.0  21.47   \n",
       "\n",
       "      heartRate  glucose  TenYearCHD  \n",
       "0          80.0     77.0           0  \n",
       "1          95.0     76.0           0  \n",
       "2          75.0     70.0           0  \n",
       "3          65.0    103.0           1  \n",
       "4          85.0     85.0           0  \n",
       "...         ...      ...         ...  \n",
       "4233       66.0     86.0           1  \n",
       "4234       65.0     68.0           0  \n",
       "4235       84.0     86.0           0  \n",
       "4236       86.0      NaN           0  \n",
       "4237       80.0    107.0           0  \n",
       "\n",
       "[4238 rows x 16 columns]>"
      ]
     },
     "execution_count": 4,
     "metadata": {},
     "output_type": "execute_result"
    }
   ],
   "source": [
    "#dataset shape and infomation of dataset\n",
    "print('Number of Columns :', df.shape[1], '\\nNumber of Rows : ', df.shape[0])\n",
    "print('Dataset info:')\n",
    "df.info"
   ]
  },
  {
   "cell_type": "markdown",
   "metadata": {
    "cell_id": "00009-3ad37455-5e50-418c-b70c-f3231f7417f7",
    "deepnote_cell_height": 62,
    "deepnote_cell_type": "markdown"
   },
   "source": [
    "### Data Distribution for Raw Dataset"
   ]
  },
  {
   "cell_type": "code",
   "execution_count": null,
   "metadata": {
    "cell_id": "00010-51d56ce1-4344-44f4-8924-9d84bb0da7be",
    "deepnote_cell_height": 1063,
    "deepnote_cell_type": "code",
    "deepnote_output_heights": [
     306,
     611
    ],
    "deepnote_to_be_reexecuted": false,
    "execution_millis": 3329,
    "execution_start": 1652940493620,
    "source_hash": "10acc7f9"
   },
   "outputs": [
    {
     "data": {
      "text/plain": [
       "array([[<AxesSubplot:title={'center':'male'}>,\n",
       "        <AxesSubplot:title={'center':'age'}>,\n",
       "        <AxesSubplot:title={'center':'education'}>,\n",
       "        <AxesSubplot:title={'center':'currentSmoker'}>],\n",
       "       [<AxesSubplot:title={'center':'cigsPerDay'}>,\n",
       "        <AxesSubplot:title={'center':'BPMeds'}>,\n",
       "        <AxesSubplot:title={'center':'prevalentStroke'}>,\n",
       "        <AxesSubplot:title={'center':'prevalentHyp'}>],\n",
       "       [<AxesSubplot:title={'center':'diabetes'}>,\n",
       "        <AxesSubplot:title={'center':'totChol'}>,\n",
       "        <AxesSubplot:title={'center':'sysBP'}>,\n",
       "        <AxesSubplot:title={'center':'diaBP'}>],\n",
       "       [<AxesSubplot:title={'center':'BMI'}>,\n",
       "        <AxesSubplot:title={'center':'heartRate'}>,\n",
       "        <AxesSubplot:title={'center':'glucose'}>,\n",
       "        <AxesSubplot:title={'center':'TenYearCHD'}>]], dtype=object)"
      ]
     },
     "execution_count": 5,
     "metadata": {},
     "output_type": "execute_result"
    },
    {
     "data": {
      "image/png": "[encoded data removed]",
      "text/plain": [
       "<Figure size 1080x1080 with 16 Axes>"
      ]
     },
     "metadata": {
      "image/png": {
       "height": 862,
       "width": 887
      },
      "needs_background": "light"
     },
     "output_type": "display_data"
    }
   ],
   "source": [
    "#dataset distribution\n",
    "df.hist(figsize=(15,15))"
   ]
  },
  {
   "cell_type": "markdown",
   "metadata": {
    "cell_id": "00011-9fc7a2a0-b280-4f35-b855-25aaec44e8ca",
    "deepnote_cell_height": 132,
    "deepnote_cell_type": "markdown"
   },
   "source": [
    "***Observation:***\n",
    "\n",
    "Most of the categorical features have imbalanced spread of data, where one value dominates the other. The highly imbalanced categorical features as seen from the graphs are BPMeds, prevalentStroke, and diabetes\n",
    "Whereas, most of the numerical features are skewed and are unevenly distributed. The most skewed features are glucose, cigsPerDay, and heartRate"
   ]
  },
  {
   "cell_type": "markdown",
   "metadata": {
    "cell_id": "00012-0b2f0042-55ec-4faa-aaff-475285fb5650",
    "deepnote_cell_height": 62,
    "deepnote_cell_type": "markdown"
   },
   "source": [
    "### Duplicate Values in Dataset"
   ]
  },
  {
   "cell_type": "code",
   "execution_count": null,
   "metadata": {
    "cell_id": "00013-38933af2-0aad-4201-a7bb-85608c02643b",
    "deepnote_cell_height": 130,
    "deepnote_cell_type": "code",
    "deepnote_to_be_reexecuted": false,
    "execution_millis": 383,
    "execution_start": 1652940496570,
    "source_hash": "d5f8bfb9"
   },
   "outputs": [
    {
     "name": "stdout",
     "output_type": "stream",
     "text": [
      "There are 0 duplicate value\n"
     ]
    }
   ],
   "source": [
    "# Code shows the sum of duplicated values.\n",
    "print('There are '+str(df.duplicated().sum())+' duplicate value') "
   ]
  },
  {
   "cell_type": "markdown",
   "metadata": {
    "cell_id": "00014-39b23912-da6e-4809-b786-4c817d15a5b2",
    "deepnote_cell_height": 62,
    "deepnote_cell_type": "markdown"
   },
   "source": [
    "### NaN Values in Dataset"
   ]
  },
  {
   "cell_type": "code",
   "execution_count": null,
   "metadata": {
    "cell_id": "00015-c7e31cec-3318-4ffb-bc1f-b97082961a38",
    "deepnote_cell_height": 452,
    "deepnote_cell_type": "code",
    "deepnote_to_be_reexecuted": false,
    "execution_millis": 382,
    "execution_start": 1652940496571,
    "source_hash": "9642de44"
   },
   "outputs": [
    {
     "name": "stdout",
     "output_type": "stream",
     "text": [
      "NaN value: \n",
      "male                 0\n",
      "age                  0\n",
      "education          105\n",
      "currentSmoker        0\n",
      "cigsPerDay          29\n",
      "BPMeds              53\n",
      "prevalentStroke      0\n",
      "prevalentHyp         0\n",
      "diabetes             0\n",
      "totChol             50\n",
      "sysBP                0\n",
      "diaBP                0\n",
      "BMI                 19\n",
      "heartRate            1\n",
      "glucose            388\n",
      "TenYearCHD           0\n",
      "dtype: int64\n"
     ]
    }
   ],
   "source": [
    "print('NaN value: \\n'+str(df.isnull().sum())) # Code shows the sum of NaN values in each column."
   ]
  },
  {
   "cell_type": "markdown",
   "metadata": {
    "cell_id": "00016-3f3f0011-b0d0-40f3-8b01-0e3326f38b22",
    "deepnote_cell_height": 88,
    "deepnote_cell_type": "markdown",
    "tags": []
   },
   "source": [
    "***Observation:***\n",
    "\n",
    "There are 0 duplicate value in the dataset, but multiple NaN values throughout most columns."
   ]
  },
  {
   "cell_type": "markdown",
   "metadata": {
    "cell_id": "00017-d0abc0d6-dc83-45b8-ac5c-b6df04220fbb",
    "deepnote_cell_height": 62,
    "deepnote_cell_type": "markdown"
   },
   "source": [
    "### Outliers"
   ]
  },
  {
   "cell_type": "code",
   "execution_count": null,
   "metadata": {
    "cell_id": "00018-932a7ad4-35dc-49b8-b95f-635892274f73",
    "deepnote_cell_height": 924,
    "deepnote_cell_type": "code",
    "deepnote_output_heights": [
     611
    ],
    "deepnote_to_be_reexecuted": false,
    "execution_millis": 1945,
    "execution_start": 1652940496664,
    "source_hash": "51106816"
   },
   "outputs": [
    {
     "data": {
      "image/png": "[encoded data removed]",
      "text/plain": [
       "<Figure size 720x720 with 16 Axes>"
      ]
     },
     "metadata": {
      "image/png": {
       "height": 690,
       "width": 708
      },
      "needs_background": "light"
     },
     "output_type": "display_data"
    }
   ],
   "source": [
    "# Detecting and Filtering Outliers\n",
    "# Notebook needs to be rerun as outliers are handled after data cleansing\n",
    "# df = dataset before cleansing, data = dataset after cleansing\n",
    "\n",
    "fig, ax = plt.subplots(figsize=(10,10), nrows=4, ncols=4)\n",
    "ax = ax.flatten()\n",
    "plt.tight_layout(pad=2)\n",
    "i = 0\n",
    "for k,v in df.items():\n",
    "    sns.boxplot(y=v, ax=ax[i])\n",
    "    i+=1\n",
    "    if i==15:\n",
    "        break"
   ]
  },
  {
   "cell_type": "markdown",
   "metadata": {
    "cell_id": "00019-2b9c9f08-9b37-4a80-8022-f1bf3c8f3747",
    "deepnote_cell_height": 88,
    "deepnote_cell_type": "markdown"
   },
   "source": [
    "***Observation:***\n",
    "\n",
    "All of the numerical attributes have severe amount of outliers"
   ]
  },
  {
   "cell_type": "markdown",
   "metadata": {
    "cell_id": "00020-7d02e063-be65-40c4-8538-edf35218cbc4",
    "deepnote_cell_type": "text-cell-h2",
    "is_collapsed": false,
    "tags": []
   },
   "source": [
    "## Data Preprocessing"
   ]
  },
  {
   "cell_type": "markdown",
   "metadata": {
    "cell_id": "00021-9bfbcc87-a842-4b79-8b8d-c9b74872bc16",
    "deepnote_cell_height": 74,
    "deepnote_cell_type": "markdown"
   },
   "source": [
    "Rows with more than 10% missing values should be removed. As only 1.4% of our data entires have more than this amount of missing values, this amount of rows are safe to be removed. "
   ]
  },
  {
   "cell_type": "code",
   "execution_count": null,
   "metadata": {
    "cell_id": "00022-6ab365ae-70c6-415d-a257-d1300f9553e4",
    "deepnote_cell_height": 81,
    "deepnote_cell_type": "code",
    "deepnote_to_be_reexecuted": false,
    "execution_millis": 0,
    "execution_start": 1652940498656,
    "source_hash": "f41cfc53"
   },
   "outputs": [],
   "source": [
    "data = df #Rename dataset to data"
   ]
  },
  {
   "cell_type": "code",
   "execution_count": null,
   "metadata": {
    "cell_id": "00023-27c09c31-7286-45a9-9755-145b3d1cef7d",
    "deepnote_cell_height": 168,
    "deepnote_cell_type": "code",
    "deepnote_to_be_reexecuted": false,
    "execution_millis": 2,
    "execution_start": 1652940498657,
    "source_hash": "9032d9b"
   },
   "outputs": [
    {
     "name": "stdout",
     "output_type": "stream",
     "text": [
      "Amount of rows with more than 10% missing values: 61\n",
      "1.44% of rows in the dataset have more than 10% missing values\n"
     ]
    }
   ],
   "source": [
    "#Checking for the amount of missing values\n",
    "print(\"Amount of rows with more than 10% missing values: \" + str(len(df[df.isnull().mean(axis=1) > 0.1])))\n",
    "print(str(round(len(df[df.isnull().mean(axis=1) > 0.1])/len(df)*100,2))+ \"% of rows in the dataset have more than 10% missing values\")"
   ]
  },
  {
   "cell_type": "code",
   "execution_count": null,
   "metadata": {
    "cell_id": "00024-5c108bad-d01d-4c59-aafc-58b54f822966",
    "deepnote_cell_height": 488,
    "deepnote_cell_type": "code",
    "deepnote_table_loading": false,
    "deepnote_table_state": {
     "filters": [],
     "pageIndex": 1,
     "pageSize": 10,
     "sortBy": []
    },
    "deepnote_to_be_reexecuted": false,
    "execution_millis": 3,
    "execution_start": 1652940498658,
    "source_hash": "49aac4c7",
    "tags": []
   },
   "outputs": [
    {
     "name": "stdout",
     "output_type": "stream",
     "text": [
      "Remaining NaN values: \n",
      "male                 0\n",
      "age                  0\n",
      "education           93\n",
      "currentSmoker        0\n",
      "cigsPerDay          23\n",
      "BPMeds              51\n",
      "prevalentStroke      0\n",
      "prevalentHyp         0\n",
      "diabetes             0\n",
      "totChol              9\n",
      "sysBP                0\n",
      "diaBP                0\n",
      "BMI                 13\n",
      "heartRate            1\n",
      "glucose            331\n",
      "TenYearCHD           0\n",
      "dtype: int64\n"
     ]
    }
   ],
   "source": [
    "#Removing rows that have more than 10% missing value which mean more than 2 attributes \n",
    "data = data[data.isnull().mean(axis=1) < 0.1]\n",
    "print('Remaining NaN values: \\n'+str(data.isnull().sum()))"
   ]
  },
  {
   "cell_type": "markdown",
   "metadata": {
    "cell_id": "00025-e484f973-0a72-4ccd-b853-724f2e456bd1",
    "deepnote_cell_height": 52,
    "deepnote_cell_type": "markdown"
   },
   "source": [
    "As most of the data is skewed, the mode imputation method should be in place to fill in the missing data."
   ]
  },
  {
   "cell_type": "code",
   "execution_count": null,
   "metadata": {
    "cell_id": "00026-c2a356c7-7598-4f0d-ba5a-2e1c0ae4f755",
    "deepnote_cell_height": 596,
    "deepnote_cell_type": "code",
    "deepnote_table_loading": false,
    "deepnote_table_state": {
     "filters": [],
     "pageIndex": 10,
     "pageSize": 10,
     "sortBy": []
    },
    "deepnote_to_be_reexecuted": false,
    "execution_millis": 21,
    "execution_start": 1652940498664,
    "source_hash": "f719e0e1",
    "tags": []
   },
   "outputs": [
    {
     "name": "stdout",
     "output_type": "stream",
     "text": [
      "NaN value: \n",
      "male               0\n",
      "age                0\n",
      "education          0\n",
      "currentSmoker      0\n",
      "cigsPerDay         0\n",
      "BPMeds             0\n",
      "prevalentStroke    0\n",
      "prevalentHyp       0\n",
      "diabetes           0\n",
      "totChol            0\n",
      "sysBP              0\n",
      "diaBP              0\n",
      "BMI                0\n",
      "heartRate          0\n",
      "glucose            0\n",
      "TenYearCHD         0\n",
      "dtype: int64\n"
     ]
    }
   ],
   "source": [
    "# The code below will replace all NaN value with mode value.\n",
    "\n",
    "for column in data.columns:\n",
    "    data[column].fillna(data[column].mode()[0], inplace=True)\n",
    "\n",
    "# Check again to see any missing value remain.\n",
    "\n",
    "data.isnull().sum()\n",
    "print('NaN value: \\n'+str(data.isnull().sum()))"
   ]
  },
  {
   "cell_type": "markdown",
   "metadata": {
    "cell_id": "00027-789e4690-85ca-4762-a1ac-595c58dd86b4",
    "deepnote_cell_height": 62,
    "deepnote_cell_type": "markdown",
    "owner_user_id": "d3779057-fef9-4a7a-b700-2aaf6c7957d8"
   },
   "source": [
    "### Handling Outliers"
   ]
  },
  {
   "cell_type": "code",
   "execution_count": null,
   "metadata": {
    "cell_id": "00028-59bb020e-66dd-4fd5-8f62-2b00aa0a1fd0",
    "deepnote_cell_height": 243,
    "deepnote_cell_type": "code",
    "deepnote_to_be_reexecuted": false,
    "execution_millis": 3,
    "execution_start": 1652940498687,
    "source_hash": "5ab497df"
   },
   "outputs": [],
   "source": [
    "# function for applying IQR rule to a specific column\n",
    "\n",
    "def IQRrule(column):\n",
    "    global data\n",
    "    q1 = data[column].quantile(0.25)\n",
    "    q3 = data[column].quantile(0.75)\n",
    "    iqr = q3 - q1\n",
    "    lowestWhisker = q1-1.5*iqr\n",
    "    upperWhisker = q3+1.5*iqr\n",
    "    data = data[(data[column]<upperWhisker) & (data[column]>lowestWhisker)]"
   ]
  },
  {
   "cell_type": "code",
   "execution_count": null,
   "metadata": {
    "cell_id": "00029-42b5cb1b-8de5-457f-b1e5-368e2464ad2c",
    "deepnote_cell_height": 153,
    "deepnote_cell_type": "code",
    "deepnote_to_be_reexecuted": false,
    "execution_millis": 26,
    "execution_start": 1652940498695,
    "source_hash": "8c065ad8",
    "tags": []
   },
   "outputs": [],
   "source": [
    "# Column for applying IQR rule \n",
    "columns = [\"sysBP\", \"diaBP\", \"age\", \"totChol\", \"heartRate\"]\n",
    "\n",
    "for column in columns:\n",
    "    IQRrule(column)"
   ]
  },
  {
   "cell_type": "code",
   "execution_count": null,
   "metadata": {
    "cell_id": "00030-e2f88f26-3a6f-43b2-9e1d-6dc0c2c51003",
    "deepnote_cell_height": 612,
    "deepnote_cell_type": "code",
    "deepnote_output_heights": [
     21,
     265
    ],
    "deepnote_to_be_reexecuted": false,
    "execution_millis": 853,
    "execution_start": 1652940498810,
    "source_hash": "22f44dc"
   },
   "outputs": [
    {
     "data": {
      "text/plain": [
       "Text(0, 0.5, 'no. of patients')"
      ]
     },
     "execution_count": 15,
     "metadata": {},
     "output_type": "execute_result"
    },
    {
     "data": {
      "image/png": "[encoded data removed]",
      "text/plain": [
       "<Figure size 864x288 with 2 Axes>"
      ]
     },
     "metadata": {
      "image/png": {
       "height": 263,
       "width": 730
      },
      "needs_background": "light"
     },
     "output_type": "display_data"
    }
   ],
   "source": [
    "# Histogram\n",
    "plt.figure(figsize=(12,4))\n",
    "\n",
    "plt.subplot(1, 2, 1)\n",
    "plt.hist(data['glucose'])\n",
    "plt.xlabel('glucose')\n",
    "plt.ylabel('no. of patients')\n",
    "\n",
    "plt.subplot(1, 2, 2)\n",
    "plt.hist(data['cigsPerDay'])\n",
    "plt.xlabel('cigarettes per day')\n",
    "plt.ylabel('no. of patients')"
   ]
  },
  {
   "cell_type": "markdown",
   "metadata": {
    "cell_id": "00031-2c557e3a-9573-49f5-898e-7adf66b6c73a",
    "deepnote_cell_height": 52,
    "deepnote_cell_type": "markdown"
   },
   "source": [
    "hence, values of glucose and cigsPerDay are kept as it is"
   ]
  },
  {
   "cell_type": "code",
   "execution_count": null,
   "metadata": {
    "cell_id": "00032-cdfa4d5c-0eea-496d-8467-7faf07dc7f1c",
    "deepnote_cell_height": 888,
    "deepnote_cell_type": "code",
    "deepnote_output_heights": [
     611
    ],
    "deepnote_to_be_reexecuted": false,
    "execution_millis": 2321,
    "execution_start": 1652940499355,
    "source_hash": "e1ad6c66"
   },
   "outputs": [
    {
     "data": {
      "image/png": "[encoded data removed]",
      "text/plain": [
       "<Figure size 720x720 with 16 Axes>"
      ]
     },
     "metadata": {
      "image/png": {
       "height": 690,
       "width": 708
      },
      "needs_background": "light"
     },
     "output_type": "display_data"
    }
   ],
   "source": [
    "#check again for Outliers\n",
    "\n",
    "fig, ax = plt.subplots(figsize=(10,10), nrows=4, ncols=4)\n",
    "ax = ax.flatten()\n",
    "plt.tight_layout(pad=2)\n",
    "i = 0\n",
    "for k,v in data.items():\n",
    "    sns.boxplot(y=v, ax=ax[i])\n",
    "    i+=1\n",
    "    if i==15:\n",
    "        break"
   ]
  },
  {
   "cell_type": "code",
   "execution_count": null,
   "metadata": {
    "cell_id": "00033-4d4519a6-6636-4d5a-8aad-c07c310e0c00",
    "deepnote_cell_height": 189,
    "deepnote_cell_type": "code",
    "deepnote_to_be_reexecuted": false,
    "execution_millis": 5,
    "execution_start": 1652940501681,
    "source_hash": "c1652a9b"
   },
   "outputs": [],
   "source": [
    "# New column bloodPressure\n",
    "sysBP=data['sysBP']\n",
    "diaBP=data['diaBP']\n",
    "pulsePressure=sysBP-diaBP\n",
    "data['sysBP']=pulsePressure\n",
    "data = data.drop(['diaBP'], axis=1)\n",
    "data.rename(columns = {'sysBP':'bloodPressure'}, inplace = True)"
   ]
  },
  {
   "cell_type": "code",
   "execution_count": null,
   "metadata": {
    "cell_id": "00034-f2847558-abd1-43ba-943e-aaa7499d82f5",
    "deepnote_cell_height": 600,
    "deepnote_cell_type": "code",
    "deepnote_to_be_reexecuted": false,
    "execution_millis": 701,
    "execution_start": 1652940501691,
    "source_hash": "e6928a8f"
   },
   "outputs": [
    {
     "data": {
      "application/vnd.deepnote.dataframe.v3+json": {
       "column_count": 15,
       "columns": [
        {
         "dtype": "int64",
         "name": "male",
         "stats": {
          "histogram": [
           {
            "bin_end": 0.1,
            "bin_start": 0,
            "count": 2154
           },
           {
            "bin_end": 0.2,
            "bin_start": 0.1,
            "count": 0
           },
           {
            "bin_end": 0.30000000000000004,
            "bin_start": 0.2,
            "count": 0
           },
           {
            "bin_end": 0.4,
            "bin_start": 0.30000000000000004,
            "count": 0
           },
           {
            "bin_end": 0.5,
            "bin_start": 0.4,
            "count": 0
           },
           {
            "bin_end": 0.6000000000000001,
            "bin_start": 0.5,
            "count": 0
           },
           {
            "bin_end": 0.7000000000000001,
            "bin_start": 0.6000000000000001,
            "count": 0
           },
           {
            "bin_end": 0.8,
            "bin_start": 0.7000000000000001,
            "count": 0
           },
           {
            "bin_end": 0.9,
            "bin_start": 0.8,
            "count": 0
           },
           {
            "bin_end": 1,
            "bin_start": 0.9,
            "count": 1714
           }
          ],
          "max": "1",
          "min": "0",
          "nan_count": 0,
          "unique_count": 2
         }
        },
        {
         "dtype": "int64",
         "name": "age",
         "stats": {
          "histogram": [
           {
            "bin_end": 35.8,
            "bin_start": 32,
            "count": 62
           },
           {
            "bin_end": 39.6,
            "bin_start": 35.8,
            "count": 469
           },
           {
            "bin_end": 43.4,
            "bin_start": 39.6,
            "count": 677
           },
           {
            "bin_end": 47.2,
            "bin_start": 43.4,
            "count": 606
           },
           {
            "bin_end": 51,
            "bin_start": 47.2,
            "count": 411
           },
           {
            "bin_end": 54.8,
            "bin_start": 51,
            "count": 505
           },
           {
            "bin_end": 58.599999999999994,
            "bin_start": 54.8,
            "count": 458
           },
           {
            "bin_end": 62.4,
            "bin_start": 58.599999999999994,
            "count": 372
           },
           {
            "bin_end": 66.19999999999999,
            "bin_start": 62.4,
            "count": 251
           },
           {
            "bin_end": 70,
            "bin_start": 66.19999999999999,
            "count": 57
           }
          ],
          "max": "70",
          "min": "32",
          "nan_count": 0,
          "unique_count": 39
         }
        },
        {
         "dtype": "float64",
         "name": "education",
         "stats": {
          "histogram": [
           {
            "bin_end": 1.3,
            "bin_start": 1,
            "count": 1636
           },
           {
            "bin_end": 1.6,
            "bin_start": 1.3,
            "count": 0
           },
           {
            "bin_end": 1.9,
            "bin_start": 1.6,
            "count": 0
           },
           {
            "bin_end": 2.2,
            "bin_start": 1.9,
            "count": 1152
           },
           {
            "bin_end": 2.5,
            "bin_start": 2.2,
            "count": 0
           },
           {
            "bin_end": 2.8,
            "bin_start": 2.5,
            "count": 0
           },
           {
            "bin_end": 3.1,
            "bin_start": 2.8,
            "count": 633
           },
           {
            "bin_end": 3.4,
            "bin_start": 3.1,
            "count": 0
           },
           {
            "bin_end": 3.6999999999999997,
            "bin_start": 3.4,
            "count": 0
           },
           {
            "bin_end": 4,
            "bin_start": 3.6999999999999997,
            "count": 447
           }
          ],
          "max": "4.0",
          "min": "1.0",
          "nan_count": 0,
          "unique_count": 4
         }
        },
        {
         "dtype": "int64",
         "name": "currentSmoker",
         "stats": {
          "histogram": [
           {
            "bin_end": 0.1,
            "bin_start": 0,
            "count": 1943
           },
           {
            "bin_end": 0.2,
            "bin_start": 0.1,
            "count": 0
           },
           {
            "bin_end": 0.30000000000000004,
            "bin_start": 0.2,
            "count": 0
           },
           {
            "bin_end": 0.4,
            "bin_start": 0.30000000000000004,
            "count": 0
           },
           {
            "bin_end": 0.5,
            "bin_start": 0.4,
            "count": 0
           },
           {
            "bin_end": 0.6000000000000001,
            "bin_start": 0.5,
            "count": 0
           },
           {
            "bin_end": 0.7000000000000001,
            "bin_start": 0.6000000000000001,
            "count": 0
           },
           {
            "bin_end": 0.8,
            "bin_start": 0.7000000000000001,
            "count": 0
           },
           {
            "bin_end": 0.9,
            "bin_start": 0.8,
            "count": 0
           },
           {
            "bin_end": 1,
            "bin_start": 0.9,
            "count": 1925
           }
          ],
          "max": "1",
          "min": "0",
          "nan_count": 0,
          "unique_count": 2
         }
        },
        {
         "dtype": "float64",
         "name": "cigsPerDay",
         "stats": {
          "histogram": [
           {
            "bin_end": 7,
            "bin_start": 0,
            "count": 2267
           },
           {
            "bin_end": 14,
            "bin_start": 7,
            "count": 274
           },
           {
            "bin_end": 21,
            "bin_start": 14,
            "count": 901
           },
           {
            "bin_end": 28,
            "bin_start": 21,
            "count": 57
           },
           {
            "bin_end": 35,
            "bin_start": 28,
            "count": 201
           },
           {
            "bin_end": 42,
            "bin_start": 35,
            "count": 98
           },
           {
            "bin_end": 49,
            "bin_start": 42,
            "count": 52
           },
           {
            "bin_end": 56,
            "bin_start": 49,
            "count": 6
           },
           {
            "bin_end": 63,
            "bin_start": 56,
            "count": 11
           },
           {
            "bin_end": 70,
            "bin_start": 63,
            "count": 1
           }
          ],
          "max": "70.0",
          "min": "0.0",
          "nan_count": 0,
          "unique_count": 33
         }
        },
        {
         "dtype": "float64",
         "name": "BPMeds",
         "stats": {
          "histogram": [
           {
            "bin_end": 0.1,
            "bin_start": 0,
            "count": 3787
           },
           {
            "bin_end": 0.2,
            "bin_start": 0.1,
            "count": 0
           },
           {
            "bin_end": 0.30000000000000004,
            "bin_start": 0.2,
            "count": 0
           },
           {
            "bin_end": 0.4,
            "bin_start": 0.30000000000000004,
            "count": 0
           },
           {
            "bin_end": 0.5,
            "bin_start": 0.4,
            "count": 0
           },
           {
            "bin_end": 0.6000000000000001,
            "bin_start": 0.5,
            "count": 0
           },
           {
            "bin_end": 0.7000000000000001,
            "bin_start": 0.6000000000000001,
            "count": 0
           },
           {
            "bin_end": 0.8,
            "bin_start": 0.7000000000000001,
            "count": 0
           },
           {
            "bin_end": 0.9,
            "bin_start": 0.8,
            "count": 0
           },
           {
            "bin_end": 1,
            "bin_start": 0.9,
            "count": 81
           }
          ],
          "max": "1.0",
          "min": "0.0",
          "nan_count": 0,
          "unique_count": 2
         }
        },
        {
         "dtype": "int64",
         "name": "prevalentStroke",
         "stats": {
          "histogram": [
           {
            "bin_end": 0.1,
            "bin_start": 0,
            "count": 3846
           },
           {
            "bin_end": 0.2,
            "bin_start": 0.1,
            "count": 0
           },
           {
            "bin_end": 0.30000000000000004,
            "bin_start": 0.2,
            "count": 0
           },
           {
            "bin_end": 0.4,
            "bin_start": 0.30000000000000004,
            "count": 0
           },
           {
            "bin_end": 0.5,
            "bin_start": 0.4,
            "count": 0
           },
           {
            "bin_end": 0.6000000000000001,
            "bin_start": 0.5,
            "count": 0
           },
           {
            "bin_end": 0.7000000000000001,
            "bin_start": 0.6000000000000001,
            "count": 0
           },
           {
            "bin_end": 0.8,
            "bin_start": 0.7000000000000001,
            "count": 0
           },
           {
            "bin_end": 0.9,
            "bin_start": 0.8,
            "count": 0
           },
           {
            "bin_end": 1,
            "bin_start": 0.9,
            "count": 22
           }
          ],
          "max": "1",
          "min": "0",
          "nan_count": 0,
          "unique_count": 2
         }
        },
        {
         "dtype": "int64",
         "name": "prevalentHyp",
         "stats": {
          "histogram": [
           {
            "bin_end": 0.1,
            "bin_start": 0,
            "count": 2792
           },
           {
            "bin_end": 0.2,
            "bin_start": 0.1,
            "count": 0
           },
           {
            "bin_end": 0.30000000000000004,
            "bin_start": 0.2,
            "count": 0
           },
           {
            "bin_end": 0.4,
            "bin_start": 0.30000000000000004,
            "count": 0
           },
           {
            "bin_end": 0.5,
            "bin_start": 0.4,
            "count": 0
           },
           {
            "bin_end": 0.6000000000000001,
            "bin_start": 0.5,
            "count": 0
           },
           {
            "bin_end": 0.7000000000000001,
            "bin_start": 0.6000000000000001,
            "count": 0
           },
           {
            "bin_end": 0.8,
            "bin_start": 0.7000000000000001,
            "count": 0
           },
           {
            "bin_end": 0.9,
            "bin_start": 0.8,
            "count": 0
           },
           {
            "bin_end": 1,
            "bin_start": 0.9,
            "count": 1076
           }
          ],
          "max": "1",
          "min": "0",
          "nan_count": 0,
          "unique_count": 2
         }
        },
        {
         "dtype": "int64",
         "name": "diabetes",
         "stats": {
          "histogram": [
           {
            "bin_end": 0.1,
            "bin_start": 0,
            "count": 3783
           },
           {
            "bin_end": 0.2,
            "bin_start": 0.1,
            "count": 0
           },
           {
            "bin_end": 0.30000000000000004,
            "bin_start": 0.2,
            "count": 0
           },
           {
            "bin_end": 0.4,
            "bin_start": 0.30000000000000004,
            "count": 0
           },
           {
            "bin_end": 0.5,
            "bin_start": 0.4,
            "count": 0
           },
           {
            "bin_end": 0.6000000000000001,
            "bin_start": 0.5,
            "count": 0
           },
           {
            "bin_end": 0.7000000000000001,
            "bin_start": 0.6000000000000001,
            "count": 0
           },
           {
            "bin_end": 0.8,
            "bin_start": 0.7000000000000001,
            "count": 0
           },
           {
            "bin_end": 0.9,
            "bin_start": 0.8,
            "count": 0
           },
           {
            "bin_end": 1,
            "bin_start": 0.9,
            "count": 85
           }
          ],
          "max": "1",
          "min": "0",
          "nan_count": 0,
          "unique_count": 2
         }
        },
        {
         "dtype": "float64",
         "name": "totChol",
         "stats": {
          "histogram": [
           {
            "bin_end": 146.3,
            "bin_start": 124,
            "count": 16
           },
           {
            "bin_end": 168.6,
            "bin_start": 146.3,
            "count": 165
           },
           {
            "bin_end": 190.9,
            "bin_start": 168.6,
            "count": 373
           },
           {
            "bin_end": 213.2,
            "bin_start": 190.9,
            "count": 687
           },
           {
            "bin_end": 235.5,
            "bin_start": 213.2,
            "count": 806
           },
           {
            "bin_end": 257.8,
            "bin_start": 235.5,
            "count": 735
           },
           {
            "bin_end": 280.1,
            "bin_start": 257.8,
            "count": 572
           },
           {
            "bin_end": 302.4,
            "bin_start": 280.1,
            "count": 288
           },
           {
            "bin_end": 324.70000000000005,
            "bin_start": 302.4,
            "count": 142
           },
           {
            "bin_end": 347,
            "bin_start": 324.70000000000005,
            "count": 84
           }
          ],
          "max": "347.0",
          "min": "124.0",
          "nan_count": 0,
          "unique_count": 206
         }
        },
        {
         "dtype": "float64",
         "name": "bloodPressure",
         "stats": {
          "histogram": [
           {
            "bin_end": 24.9,
            "bin_start": 15,
            "count": 20
           },
           {
            "bin_end": 34.8,
            "bin_start": 24.9,
            "count": 441
           },
           {
            "bin_end": 44.7,
            "bin_start": 34.8,
            "count": 1251
           },
           {
            "bin_end": 54.6,
            "bin_start": 44.7,
            "count": 1207
           },
           {
            "bin_end": 64.5,
            "bin_start": 54.6,
            "count": 548
           },
           {
            "bin_end": 74.4,
            "bin_start": 64.5,
            "count": 257
           },
           {
            "bin_end": 84.3,
            "bin_start": 74.4,
            "count": 106
           },
           {
            "bin_end": 94.2,
            "bin_start": 84.3,
            "count": 29
           },
           {
            "bin_end": 104.10000000000001,
            "bin_start": 94.2,
            "count": 7
           },
           {
            "bin_end": 114,
            "bin_start": 104.10000000000001,
            "count": 2
           }
          ],
          "max": "114.0",
          "min": "15.0",
          "nan_count": 0,
          "unique_count": 148
         }
        },
        {
         "dtype": "float64",
         "name": "BMI",
         "stats": {
          "histogram": [
           {
            "bin_end": 18.566,
            "bin_start": 15.54,
            "count": 57
           },
           {
            "bin_end": 21.592,
            "bin_start": 18.566,
            "count": 463
           },
           {
            "bin_end": 24.618,
            "bin_start": 21.592,
            "count": 1150
           },
           {
            "bin_end": 27.644,
            "bin_start": 24.618,
            "count": 1152
           },
           {
            "bin_end": 30.669999999999998,
            "bin_start": 27.644,
            "count": 683
           },
           {
            "bin_end": 33.696,
            "bin_start": 30.669999999999998,
            "count": 243
           },
           {
            "bin_end": 36.721999999999994,
            "bin_start": 33.696,
            "count": 76
           },
           {
            "bin_end": 39.748,
            "bin_start": 36.721999999999994,
            "count": 27
           },
           {
            "bin_end": 42.774,
            "bin_start": 39.748,
            "count": 14
           },
           {
            "bin_end": 45.8,
            "bin_start": 42.774,
            "count": 3
           }
          ],
          "max": "45.8",
          "min": "15.54",
          "nan_count": 0,
          "unique_count": 1285
         }
        },
        {
         "dtype": "float64",
         "name": "heartRate",
         "stats": {
          "histogram": [
           {
            "bin_end": 53.4,
            "bin_start": 48,
            "count": 56
           },
           {
            "bin_end": 58.8,
            "bin_start": 53.4,
            "count": 130
           },
           {
            "bin_end": 64.2,
            "bin_start": 58.8,
            "count": 437
           },
           {
            "bin_end": 69.6,
            "bin_start": 64.2,
            "count": 541
           },
           {
            "bin_end": 75,
            "bin_start": 69.6,
            "count": 628
           },
           {
            "bin_end": 80.4,
            "bin_start": 75,
            "count": 1108
           },
           {
            "bin_end": 85.80000000000001,
            "bin_start": 80.4,
            "count": 369
           },
           {
            "bin_end": 91.2,
            "bin_start": 85.80000000000001,
            "count": 308
           },
           {
            "bin_end": 96.6,
            "bin_start": 91.2,
            "count": 189
           },
           {
            "bin_end": 102,
            "bin_start": 96.6,
            "count": 102
           }
          ],
          "max": "102.0",
          "min": "48.0",
          "nan_count": 0,
          "unique_count": 54
         }
        },
        {
         "dtype": "float64",
         "name": "glucose",
         "stats": {
          "histogram": [
           {
            "bin_end": 75.4,
            "bin_start": 40,
            "count": 1784
           },
           {
            "bin_end": 110.8,
            "bin_start": 75.4,
            "count": 1933
           },
           {
            "bin_end": 146.2,
            "bin_start": 110.8,
            "count": 111
           },
           {
            "bin_end": 181.6,
            "bin_start": 146.2,
            "count": 14
           },
           {
            "bin_end": 217,
            "bin_start": 181.6,
            "count": 9
           },
           {
            "bin_end": 252.39999999999998,
            "bin_start": 217,
            "count": 5
           },
           {
            "bin_end": 287.79999999999995,
            "bin_start": 252.39999999999998,
            "count": 4
           },
           {
            "bin_end": 323.2,
            "bin_start": 287.79999999999995,
            "count": 2
           },
           {
            "bin_end": 358.59999999999997,
            "bin_start": 323.2,
            "count": 3
           },
           {
            "bin_end": 394,
            "bin_start": 358.59999999999997,
            "count": 3
           }
          ],
          "max": "394.0",
          "min": "40.0",
          "nan_count": 0,
          "unique_count": 133
         }
        },
        {
         "dtype": "int64",
         "name": "TenYearCHD",
         "stats": {
          "histogram": [
           {
            "bin_end": 0.1,
            "bin_start": 0,
            "count": 3333
           },
           {
            "bin_end": 0.2,
            "bin_start": 0.1,
            "count": 0
           },
           {
            "bin_end": 0.30000000000000004,
            "bin_start": 0.2,
            "count": 0
           },
           {
            "bin_end": 0.4,
            "bin_start": 0.30000000000000004,
            "count": 0
           },
           {
            "bin_end": 0.5,
            "bin_start": 0.4,
            "count": 0
           },
           {
            "bin_end": 0.6000000000000001,
            "bin_start": 0.5,
            "count": 0
           },
           {
            "bin_end": 0.7000000000000001,
            "bin_start": 0.6000000000000001,
            "count": 0
           },
           {
            "bin_end": 0.8,
            "bin_start": 0.7000000000000001,
            "count": 0
           },
           {
            "bin_end": 0.9,
            "bin_start": 0.8,
            "count": 0
           },
           {
            "bin_end": 1,
            "bin_start": 0.9,
            "count": 535
           }
          ],
          "max": "1",
          "min": "0",
          "nan_count": 0,
          "unique_count": 2
         }
        },
        {
         "dtype": "int64",
         "name": "_deepnote_index_column"
        }
       ],
       "row_count": 3868,
       "rows": [
        {
         "BMI": 26.93,
         "BPMeds": 0,
         "TenYearCHD": 0,
         "_deepnote_index_column": 106,
         "age": 42,
         "bloodPressure": 36,
         "cigsPerDay": 0,
         "currentSmoker": 0,
         "diabetes": 0,
         "education": 4,
         "glucose": 79,
         "heartRate": 65,
         "male": 0,
         "prevalentHyp": 0,
         "prevalentStroke": 0,
         "totChol": 250
        },
        {
         "BMI": 27.54,
         "BPMeds": 0,
         "TenYearCHD": 1,
         "_deepnote_index_column": 107,
         "age": 40,
         "bloodPressure": 48,
         "cigsPerDay": 43,
         "currentSmoker": 1,
         "diabetes": 0,
         "education": 1,
         "glucose": 73,
         "heartRate": 85,
         "male": 1,
         "prevalentHyp": 1,
         "prevalentStroke": 0,
         "totChol": 290
        },
        {
         "BMI": 29.62,
         "BPMeds": 0,
         "TenYearCHD": 0,
         "_deepnote_index_column": 109,
         "age": 49,
         "bloodPressure": 54,
         "cigsPerDay": 20,
         "currentSmoker": 1,
         "diabetes": 0,
         "education": 1,
         "glucose": 60,
         "heartRate": 76,
         "male": 1,
         "prevalentHyp": 0,
         "prevalentStroke": 0,
         "totChol": 197
        },
        {
         "BMI": 25.75,
         "BPMeds": 0,
         "TenYearCHD": 0,
         "_deepnote_index_column": 110,
         "age": 67,
         "bloodPressure": 59,
         "cigsPerDay": 0,
         "currentSmoker": 0,
         "diabetes": 0,
         "education": 1,
         "glucose": 87,
         "heartRate": 75,
         "male": 0,
         "prevalentHyp": 1,
         "prevalentStroke": 0,
         "totChol": 264
        },
        {
         "BMI": 26.09,
         "BPMeds": 0,
         "TenYearCHD": 0,
         "_deepnote_index_column": 111,
         "age": 51,
         "bloodPressure": 52.5,
         "cigsPerDay": 0,
         "currentSmoker": 0,
         "diabetes": 0,
         "education": 3,
         "glucose": 75,
         "heartRate": 70,
         "male": 1,
         "prevalentHyp": 1,
         "prevalentStroke": 0,
         "totChol": 214
        },
        {
         "BMI": 23.62,
         "BPMeds": 0,
         "TenYearCHD": 0,
         "_deepnote_index_column": 112,
         "age": 48,
         "bloodPressure": 49.5,
         "cigsPerDay": 0,
         "currentSmoker": 0,
         "diabetes": 0,
         "education": 4,
         "glucose": 68,
         "heartRate": 86,
         "male": 1,
         "prevalentHyp": 0,
         "prevalentStroke": 0,
         "totChol": 233
        },
        {
         "BMI": 24.37,
         "BPMeds": 0,
         "TenYearCHD": 0,
         "_deepnote_index_column": 113,
         "age": 64,
         "bloodPressure": 53,
         "cigsPerDay": 0,
         "currentSmoker": 0,
         "diabetes": 0,
         "education": 1,
         "glucose": 71,
         "heartRate": 75,
         "male": 0,
         "prevalentHyp": 1,
         "prevalentStroke": 0,
         "totChol": 282
        },
        {
         "BMI": 42.15,
         "BPMeds": 0,
         "TenYearCHD": 0,
         "_deepnote_index_column": 114,
         "age": 41,
         "bloodPressure": 38,
         "cigsPerDay": 0,
         "currentSmoker": 0,
         "diabetes": 0,
         "education": 1,
         "glucose": 75,
         "heartRate": 90,
         "male": 0,
         "prevalentHyp": 1,
         "prevalentStroke": 0,
         "totChol": 265
        },
        {
         "BMI": 32.23,
         "BPMeds": 0,
         "TenYearCHD": 1,
         "_deepnote_index_column": 115,
         "age": 50,
         "bloodPressure": 45,
         "cigsPerDay": 0,
         "currentSmoker": 0,
         "diabetes": 0,
         "education": 1,
         "glucose": 117,
         "heartRate": 75,
         "male": 1,
         "prevalentHyp": 1,
         "prevalentStroke": 0,
         "totChol": 257
        },
        {
         "BMI": 26.4,
         "BPMeds": 0,
         "TenYearCHD": 1,
         "_deepnote_index_column": 116,
         "age": 60,
         "bloodPressure": 64.5,
         "cigsPerDay": 0,
         "currentSmoker": 0,
         "diabetes": 0,
         "education": 1,
         "glucose": 75,
         "heartRate": 55,
         "male": 1,
         "prevalentHyp": 1,
         "prevalentStroke": 0,
         "totChol": 278
        }
       ]
      },
      "text/html": [
       "<div>\n",
       "<style scoped>\n",
       "    .dataframe tbody tr th:only-of-type {\n",
       "        vertical-align: middle;\n",
       "    }\n",
       "\n",
       "    .dataframe tbody tr th {\n",
       "        vertical-align: top;\n",
       "    }\n",
       "\n",
       "    .dataframe thead th {\n",
       "        text-align: right;\n",
       "    }\n",
       "</style>\n",
       "<table border=\"1\" class=\"dataframe\">\n",
       "  <thead>\n",
       "    <tr style=\"text-align: right;\">\n",
       "      <th></th>\n",
       "      <th>male</th>\n",
       "      <th>age</th>\n",
       "      <th>education</th>\n",
       "      <th>currentSmoker</th>\n",
       "      <th>cigsPerDay</th>\n",
       "      <th>BPMeds</th>\n",
       "      <th>prevalentStroke</th>\n",
       "      <th>prevalentHyp</th>\n",
       "      <th>diabetes</th>\n",
       "      <th>totChol</th>\n",
       "      <th>bloodPressure</th>\n",
       "      <th>BMI</th>\n",
       "      <th>heartRate</th>\n",
       "      <th>glucose</th>\n",
       "      <th>TenYearCHD</th>\n",
       "    </tr>\n",
       "  </thead>\n",
       "  <tbody>\n",
       "    <tr>\n",
       "      <th>0</th>\n",
       "      <td>1</td>\n",
       "      <td>39</td>\n",
       "      <td>4.0</td>\n",
       "      <td>0</td>\n",
       "      <td>0.0</td>\n",
       "      <td>0.0</td>\n",
       "      <td>0</td>\n",
       "      <td>0</td>\n",
       "      <td>0</td>\n",
       "      <td>195.0</td>\n",
       "      <td>36.0</td>\n",
       "      <td>26.97</td>\n",
       "      <td>80.0</td>\n",
       "      <td>77.0</td>\n",
       "      <td>0</td>\n",
       "    </tr>\n",
       "    <tr>\n",
       "      <th>1</th>\n",
       "      <td>0</td>\n",
       "      <td>46</td>\n",
       "      <td>2.0</td>\n",
       "      <td>0</td>\n",
       "      <td>0.0</td>\n",
       "      <td>0.0</td>\n",
       "      <td>0</td>\n",
       "      <td>0</td>\n",
       "      <td>0</td>\n",
       "      <td>250.0</td>\n",
       "      <td>40.0</td>\n",
       "      <td>28.73</td>\n",
       "      <td>95.0</td>\n",
       "      <td>76.0</td>\n",
       "      <td>0</td>\n",
       "    </tr>\n",
       "    <tr>\n",
       "      <th>2</th>\n",
       "      <td>1</td>\n",
       "      <td>48</td>\n",
       "      <td>1.0</td>\n",
       "      <td>1</td>\n",
       "      <td>20.0</td>\n",
       "      <td>0.0</td>\n",
       "      <td>0</td>\n",
       "      <td>0</td>\n",
       "      <td>0</td>\n",
       "      <td>245.0</td>\n",
       "      <td>47.5</td>\n",
       "      <td>25.34</td>\n",
       "      <td>75.0</td>\n",
       "      <td>70.0</td>\n",
       "      <td>0</td>\n",
       "    </tr>\n",
       "    <tr>\n",
       "      <th>3</th>\n",
       "      <td>0</td>\n",
       "      <td>61</td>\n",
       "      <td>3.0</td>\n",
       "      <td>1</td>\n",
       "      <td>30.0</td>\n",
       "      <td>0.0</td>\n",
       "      <td>0</td>\n",
       "      <td>1</td>\n",
       "      <td>0</td>\n",
       "      <td>225.0</td>\n",
       "      <td>55.0</td>\n",
       "      <td>28.58</td>\n",
       "      <td>65.0</td>\n",
       "      <td>103.0</td>\n",
       "      <td>1</td>\n",
       "    </tr>\n",
       "    <tr>\n",
       "      <th>4</th>\n",
       "      <td>0</td>\n",
       "      <td>46</td>\n",
       "      <td>3.0</td>\n",
       "      <td>1</td>\n",
       "      <td>23.0</td>\n",
       "      <td>0.0</td>\n",
       "      <td>0</td>\n",
       "      <td>0</td>\n",
       "      <td>0</td>\n",
       "      <td>285.0</td>\n",
       "      <td>46.0</td>\n",
       "      <td>23.10</td>\n",
       "      <td>85.0</td>\n",
       "      <td>85.0</td>\n",
       "      <td>0</td>\n",
       "    </tr>\n",
       "    <tr>\n",
       "      <th>...</th>\n",
       "      <td>...</td>\n",
       "      <td>...</td>\n",
       "      <td>...</td>\n",
       "      <td>...</td>\n",
       "      <td>...</td>\n",
       "      <td>...</td>\n",
       "      <td>...</td>\n",
       "      <td>...</td>\n",
       "      <td>...</td>\n",
       "      <td>...</td>\n",
       "      <td>...</td>\n",
       "      <td>...</td>\n",
       "      <td>...</td>\n",
       "      <td>...</td>\n",
       "      <td>...</td>\n",
       "    </tr>\n",
       "    <tr>\n",
       "      <th>4233</th>\n",
       "      <td>1</td>\n",
       "      <td>50</td>\n",
       "      <td>1.0</td>\n",
       "      <td>1</td>\n",
       "      <td>1.0</td>\n",
       "      <td>0.0</td>\n",
       "      <td>0</td>\n",
       "      <td>1</td>\n",
       "      <td>0</td>\n",
       "      <td>313.0</td>\n",
       "      <td>87.0</td>\n",
       "      <td>25.97</td>\n",
       "      <td>66.0</td>\n",
       "      <td>86.0</td>\n",
       "      <td>1</td>\n",
       "    </tr>\n",
       "    <tr>\n",
       "      <th>4234</th>\n",
       "      <td>1</td>\n",
       "      <td>51</td>\n",
       "      <td>3.0</td>\n",
       "      <td>1</td>\n",
       "      <td>43.0</td>\n",
       "      <td>0.0</td>\n",
       "      <td>0</td>\n",
       "      <td>0</td>\n",
       "      <td>0</td>\n",
       "      <td>207.0</td>\n",
       "      <td>46.5</td>\n",
       "      <td>19.71</td>\n",
       "      <td>65.0</td>\n",
       "      <td>68.0</td>\n",
       "      <td>0</td>\n",
       "    </tr>\n",
       "    <tr>\n",
       "      <th>4235</th>\n",
       "      <td>0</td>\n",
       "      <td>48</td>\n",
       "      <td>2.0</td>\n",
       "      <td>1</td>\n",
       "      <td>20.0</td>\n",
       "      <td>0.0</td>\n",
       "      <td>0</td>\n",
       "      <td>0</td>\n",
       "      <td>0</td>\n",
       "      <td>248.0</td>\n",
       "      <td>59.0</td>\n",
       "      <td>22.00</td>\n",
       "      <td>84.0</td>\n",
       "      <td>86.0</td>\n",
       "      <td>0</td>\n",
       "    </tr>\n",
       "    <tr>\n",
       "      <th>4236</th>\n",
       "      <td>0</td>\n",
       "      <td>44</td>\n",
       "      <td>1.0</td>\n",
       "      <td>1</td>\n",
       "      <td>15.0</td>\n",
       "      <td>0.0</td>\n",
       "      <td>0</td>\n",
       "      <td>0</td>\n",
       "      <td>0</td>\n",
       "      <td>210.0</td>\n",
       "      <td>39.5</td>\n",
       "      <td>19.16</td>\n",
       "      <td>86.0</td>\n",
       "      <td>75.0</td>\n",
       "      <td>0</td>\n",
       "    </tr>\n",
       "    <tr>\n",
       "      <th>4237</th>\n",
       "      <td>0</td>\n",
       "      <td>52</td>\n",
       "      <td>2.0</td>\n",
       "      <td>0</td>\n",
       "      <td>0.0</td>\n",
       "      <td>0.0</td>\n",
       "      <td>0</td>\n",
       "      <td>0</td>\n",
       "      <td>0</td>\n",
       "      <td>269.0</td>\n",
       "      <td>50.5</td>\n",
       "      <td>21.47</td>\n",
       "      <td>80.0</td>\n",
       "      <td>107.0</td>\n",
       "      <td>0</td>\n",
       "    </tr>\n",
       "  </tbody>\n",
       "</table>\n",
       "<p>3868 rows × 15 columns</p>\n",
       "</div>"
      ],
      "text/plain": [
       "      male  age  education  currentSmoker  cigsPerDay  BPMeds  \\\n",
       "0        1   39        4.0              0         0.0     0.0   \n",
       "1        0   46        2.0              0         0.0     0.0   \n",
       "2        1   48        1.0              1        20.0     0.0   \n",
       "3        0   61        3.0              1        30.0     0.0   \n",
       "4        0   46        3.0              1        23.0     0.0   \n",
       "...    ...  ...        ...            ...         ...     ...   \n",
       "4233     1   50        1.0              1         1.0     0.0   \n",
       "4234     1   51        3.0              1        43.0     0.0   \n",
       "4235     0   48        2.0              1        20.0     0.0   \n",
       "4236     0   44        1.0              1        15.0     0.0   \n",
       "4237     0   52        2.0              0         0.0     0.0   \n",
       "\n",
       "      prevalentStroke  prevalentHyp  diabetes  totChol  bloodPressure    BMI  \\\n",
       "0                   0             0         0    195.0           36.0  26.97   \n",
       "1                   0             0         0    250.0           40.0  28.73   \n",
       "2                   0             0         0    245.0           47.5  25.34   \n",
       "3                   0             1         0    225.0           55.0  28.58   \n",
       "4                   0             0         0    285.0           46.0  23.10   \n",
       "...               ...           ...       ...      ...            ...    ...   \n",
       "4233                0             1         0    313.0           87.0  25.97   \n",
       "4234                0             0         0    207.0           46.5  19.71   \n",
       "4235                0             0         0    248.0           59.0  22.00   \n",
       "4236                0             0         0    210.0           39.5  19.16   \n",
       "4237                0             0         0    269.0           50.5  21.47   \n",
       "\n",
       "      heartRate  glucose  TenYearCHD  \n",
       "0          80.0     77.0           0  \n",
       "1          95.0     76.0           0  \n",
       "2          75.0     70.0           0  \n",
       "3          65.0    103.0           1  \n",
       "4          85.0     85.0           0  \n",
       "...         ...      ...         ...  \n",
       "4233       66.0     86.0           1  \n",
       "4234       65.0     68.0           0  \n",
       "4235       84.0     86.0           0  \n",
       "4236       86.0     75.0           0  \n",
       "4237       80.0    107.0           0  \n",
       "\n",
       "[3868 rows x 15 columns]"
      ]
     },
     "execution_count": 18,
     "metadata": {},
     "output_type": "execute_result"
    }
   ],
   "source": [
    "data"
   ]
  },
  {
   "cell_type": "markdown",
   "metadata": {
    "cell_id": "00035-b6205dec-40bb-4aaa-b266-03687694259c",
    "deepnote_cell_height": 82,
    "deepnote_cell_type": "markdown"
   },
   "source": [
    "# Machine Learning"
   ]
  },
  {
   "cell_type": "markdown",
   "metadata": {
    "cell_id": "00036-e82307c8-e12d-4e48-bf23-78ebde88ee03",
    "deepnote_cell_height": 70,
    "deepnote_cell_type": "markdown"
   },
   "source": [
    "## Dataset Splitting"
   ]
  },
  {
   "cell_type": "code",
   "execution_count": null,
   "metadata": {
    "cell_id": "00037-c9e612bf-2cbd-4a5d-b7ed-8948de6d0d80",
    "deepnote_cell_height": 135,
    "deepnote_cell_type": "code",
    "deepnote_to_be_reexecuted": false,
    "execution_millis": 3,
    "execution_start": 1652940501817,
    "source_hash": "b41e074"
   },
   "outputs": [],
   "source": [
    "#Splitting the dataset, train and test\n",
    "train_data = data.iloc[:,:-1]\n",
    "test_data = data['TenYearCHD']\n",
    "X_train, X_test, y_train, y_test = train_test_split(train_data, test_data,test_size=0.2, random_state = 0)"
   ]
  },
  {
   "cell_type": "code",
   "execution_count": null,
   "metadata": {
    "cell_id": "00038-292ce6b9-4519-4d9c-9af3-3ee0aa70ed2f",
    "deepnote_cell_height": 600,
    "deepnote_cell_type": "code",
    "deepnote_to_be_reexecuted": false,
    "execution_millis": 588,
    "execution_start": 1652940501823,
    "source_hash": "e6928a8f"
   },
   "outputs": [
    {
     "data": {
      "application/vnd.deepnote.dataframe.v3+json": {
       "column_count": 15,
       "columns": [
        {
         "dtype": "int64",
         "name": "male",
         "stats": {
          "histogram": [
           {
            "bin_end": 0.1,
            "bin_start": 0,
            "count": 2154
           },
           {
            "bin_end": 0.2,
            "bin_start": 0.1,
            "count": 0
           },
           {
            "bin_end": 0.30000000000000004,
            "bin_start": 0.2,
            "count": 0
           },
           {
            "bin_end": 0.4,
            "bin_start": 0.30000000000000004,
            "count": 0
           },
           {
            "bin_end": 0.5,
            "bin_start": 0.4,
            "count": 0
           },
           {
            "bin_end": 0.6000000000000001,
            "bin_start": 0.5,
            "count": 0
           },
           {
            "bin_end": 0.7000000000000001,
            "bin_start": 0.6000000000000001,
            "count": 0
           },
           {
            "bin_end": 0.8,
            "bin_start": 0.7000000000000001,
            "count": 0
           },
           {
            "bin_end": 0.9,
            "bin_start": 0.8,
            "count": 0
           },
           {
            "bin_end": 1,
            "bin_start": 0.9,
            "count": 1714
           }
          ],
          "max": "1",
          "min": "0",
          "nan_count": 0,
          "unique_count": 2
         }
        },
        {
         "dtype": "int64",
         "name": "age",
         "stats": {
          "histogram": [
           {
            "bin_end": 35.8,
            "bin_start": 32,
            "count": 62
           },
           {
            "bin_end": 39.6,
            "bin_start": 35.8,
            "count": 469
           },
           {
            "bin_end": 43.4,
            "bin_start": 39.6,
            "count": 677
           },
           {
            "bin_end": 47.2,
            "bin_start": 43.4,
            "count": 606
           },
           {
            "bin_end": 51,
            "bin_start": 47.2,
            "count": 411
           },
           {
            "bin_end": 54.8,
            "bin_start": 51,
            "count": 505
           },
           {
            "bin_end": 58.599999999999994,
            "bin_start": 54.8,
            "count": 458
           },
           {
            "bin_end": 62.4,
            "bin_start": 58.599999999999994,
            "count": 372
           },
           {
            "bin_end": 66.19999999999999,
            "bin_start": 62.4,
            "count": 251
           },
           {
            "bin_end": 70,
            "bin_start": 66.19999999999999,
            "count": 57
           }
          ],
          "max": "70",
          "min": "32",
          "nan_count": 0,
          "unique_count": 39
         }
        },
        {
         "dtype": "float64",
         "name": "education",
         "stats": {
          "histogram": [
           {
            "bin_end": 1.3,
            "bin_start": 1,
            "count": 1636
           },
           {
            "bin_end": 1.6,
            "bin_start": 1.3,
            "count": 0
           },
           {
            "bin_end": 1.9,
            "bin_start": 1.6,
            "count": 0
           },
           {
            "bin_end": 2.2,
            "bin_start": 1.9,
            "count": 1152
           },
           {
            "bin_end": 2.5,
            "bin_start": 2.2,
            "count": 0
           },
           {
            "bin_end": 2.8,
            "bin_start": 2.5,
            "count": 0
           },
           {
            "bin_end": 3.1,
            "bin_start": 2.8,
            "count": 633
           },
           {
            "bin_end": 3.4,
            "bin_start": 3.1,
            "count": 0
           },
           {
            "bin_end": 3.6999999999999997,
            "bin_start": 3.4,
            "count": 0
           },
           {
            "bin_end": 4,
            "bin_start": 3.6999999999999997,
            "count": 447
           }
          ],
          "max": "4.0",
          "min": "1.0",
          "nan_count": 0,
          "unique_count": 4
         }
        },
        {
         "dtype": "int64",
         "name": "currentSmoker",
         "stats": {
          "histogram": [
           {
            "bin_end": 0.1,
            "bin_start": 0,
            "count": 1943
           },
           {
            "bin_end": 0.2,
            "bin_start": 0.1,
            "count": 0
           },
           {
            "bin_end": 0.30000000000000004,
            "bin_start": 0.2,
            "count": 0
           },
           {
            "bin_end": 0.4,
            "bin_start": 0.30000000000000004,
            "count": 0
           },
           {
            "bin_end": 0.5,
            "bin_start": 0.4,
            "count": 0
           },
           {
            "bin_end": 0.6000000000000001,
            "bin_start": 0.5,
            "count": 0
           },
           {
            "bin_end": 0.7000000000000001,
            "bin_start": 0.6000000000000001,
            "count": 0
           },
           {
            "bin_end": 0.8,
            "bin_start": 0.7000000000000001,
            "count": 0
           },
           {
            "bin_end": 0.9,
            "bin_start": 0.8,
            "count": 0
           },
           {
            "bin_end": 1,
            "bin_start": 0.9,
            "count": 1925
           }
          ],
          "max": "1",
          "min": "0",
          "nan_count": 0,
          "unique_count": 2
         }
        },
        {
         "dtype": "float64",
         "name": "cigsPerDay",
         "stats": {
          "histogram": [
           {
            "bin_end": 7,
            "bin_start": 0,
            "count": 2267
           },
           {
            "bin_end": 14,
            "bin_start": 7,
            "count": 274
           },
           {
            "bin_end": 21,
            "bin_start": 14,
            "count": 901
           },
           {
            "bin_end": 28,
            "bin_start": 21,
            "count": 57
           },
           {
            "bin_end": 35,
            "bin_start": 28,
            "count": 201
           },
           {
            "bin_end": 42,
            "bin_start": 35,
            "count": 98
           },
           {
            "bin_end": 49,
            "bin_start": 42,
            "count": 52
           },
           {
            "bin_end": 56,
            "bin_start": 49,
            "count": 6
           },
           {
            "bin_end": 63,
            "bin_start": 56,
            "count": 11
           },
           {
            "bin_end": 70,
            "bin_start": 63,
            "count": 1
           }
          ],
          "max": "70.0",
          "min": "0.0",
          "nan_count": 0,
          "unique_count": 33
         }
        },
        {
         "dtype": "float64",
         "name": "BPMeds",
         "stats": {
          "histogram": [
           {
            "bin_end": 0.1,
            "bin_start": 0,
            "count": 3787
           },
           {
            "bin_end": 0.2,
            "bin_start": 0.1,
            "count": 0
           },
           {
            "bin_end": 0.30000000000000004,
            "bin_start": 0.2,
            "count": 0
           },
           {
            "bin_end": 0.4,
            "bin_start": 0.30000000000000004,
            "count": 0
           },
           {
            "bin_end": 0.5,
            "bin_start": 0.4,
            "count": 0
           },
           {
            "bin_end": 0.6000000000000001,
            "bin_start": 0.5,
            "count": 0
           },
           {
            "bin_end": 0.7000000000000001,
            "bin_start": 0.6000000000000001,
            "count": 0
           },
           {
            "bin_end": 0.8,
            "bin_start": 0.7000000000000001,
            "count": 0
           },
           {
            "bin_end": 0.9,
            "bin_start": 0.8,
            "count": 0
           },
           {
            "bin_end": 1,
            "bin_start": 0.9,
            "count": 81
           }
          ],
          "max": "1.0",
          "min": "0.0",
          "nan_count": 0,
          "unique_count": 2
         }
        },
        {
         "dtype": "int64",
         "name": "prevalentStroke",
         "stats": {
          "histogram": [
           {
            "bin_end": 0.1,
            "bin_start": 0,
            "count": 3846
           },
           {
            "bin_end": 0.2,
            "bin_start": 0.1,
            "count": 0
           },
           {
            "bin_end": 0.30000000000000004,
            "bin_start": 0.2,
            "count": 0
           },
           {
            "bin_end": 0.4,
            "bin_start": 0.30000000000000004,
            "count": 0
           },
           {
            "bin_end": 0.5,
            "bin_start": 0.4,
            "count": 0
           },
           {
            "bin_end": 0.6000000000000001,
            "bin_start": 0.5,
            "count": 0
           },
           {
            "bin_end": 0.7000000000000001,
            "bin_start": 0.6000000000000001,
            "count": 0
           },
           {
            "bin_end": 0.8,
            "bin_start": 0.7000000000000001,
            "count": 0
           },
           {
            "bin_end": 0.9,
            "bin_start": 0.8,
            "count": 0
           },
           {
            "bin_end": 1,
            "bin_start": 0.9,
            "count": 22
           }
          ],
          "max": "1",
          "min": "0",
          "nan_count": 0,
          "unique_count": 2
         }
        },
        {
         "dtype": "int64",
         "name": "prevalentHyp",
         "stats": {
          "histogram": [
           {
            "bin_end": 0.1,
            "bin_start": 0,
            "count": 2792
           },
           {
            "bin_end": 0.2,
            "bin_start": 0.1,
            "count": 0
           },
           {
            "bin_end": 0.30000000000000004,
            "bin_start": 0.2,
            "count": 0
           },
           {
            "bin_end": 0.4,
            "bin_start": 0.30000000000000004,
            "count": 0
           },
           {
            "bin_end": 0.5,
            "bin_start": 0.4,
            "count": 0
           },
           {
            "bin_end": 0.6000000000000001,
            "bin_start": 0.5,
            "count": 0
           },
           {
            "bin_end": 0.7000000000000001,
            "bin_start": 0.6000000000000001,
            "count": 0
           },
           {
            "bin_end": 0.8,
            "bin_start": 0.7000000000000001,
            "count": 0
           },
           {
            "bin_end": 0.9,
            "bin_start": 0.8,
            "count": 0
           },
           {
            "bin_end": 1,
            "bin_start": 0.9,
            "count": 1076
           }
          ],
          "max": "1",
          "min": "0",
          "nan_count": 0,
          "unique_count": 2
         }
        },
        {
         "dtype": "int64",
         "name": "diabetes",
         "stats": {
          "histogram": [
           {
            "bin_end": 0.1,
            "bin_start": 0,
            "count": 3783
           },
           {
            "bin_end": 0.2,
            "bin_start": 0.1,
            "count": 0
           },
           {
            "bin_end": 0.30000000000000004,
            "bin_start": 0.2,
            "count": 0
           },
           {
            "bin_end": 0.4,
            "bin_start": 0.30000000000000004,
            "count": 0
           },
           {
            "bin_end": 0.5,
            "bin_start": 0.4,
            "count": 0
           },
           {
            "bin_end": 0.6000000000000001,
            "bin_start": 0.5,
            "count": 0
           },
           {
            "bin_end": 0.7000000000000001,
            "bin_start": 0.6000000000000001,
            "count": 0
           },
           {
            "bin_end": 0.8,
            "bin_start": 0.7000000000000001,
            "count": 0
           },
           {
            "bin_end": 0.9,
            "bin_start": 0.8,
            "count": 0
           },
           {
            "bin_end": 1,
            "bin_start": 0.9,
            "count": 85
           }
          ],
          "max": "1",
          "min": "0",
          "nan_count": 0,
          "unique_count": 2
         }
        },
        {
         "dtype": "float64",
         "name": "totChol",
         "stats": {
          "histogram": [
           {
            "bin_end": 146.3,
            "bin_start": 124,
            "count": 16
           },
           {
            "bin_end": 168.6,
            "bin_start": 146.3,
            "count": 165
           },
           {
            "bin_end": 190.9,
            "bin_start": 168.6,
            "count": 373
           },
           {
            "bin_end": 213.2,
            "bin_start": 190.9,
            "count": 687
           },
           {
            "bin_end": 235.5,
            "bin_start": 213.2,
            "count": 806
           },
           {
            "bin_end": 257.8,
            "bin_start": 235.5,
            "count": 735
           },
           {
            "bin_end": 280.1,
            "bin_start": 257.8,
            "count": 572
           },
           {
            "bin_end": 302.4,
            "bin_start": 280.1,
            "count": 288
           },
           {
            "bin_end": 324.70000000000005,
            "bin_start": 302.4,
            "count": 142
           },
           {
            "bin_end": 347,
            "bin_start": 324.70000000000005,
            "count": 84
           }
          ],
          "max": "347.0",
          "min": "124.0",
          "nan_count": 0,
          "unique_count": 206
         }
        },
        {
         "dtype": "float64",
         "name": "bloodPressure",
         "stats": {
          "histogram": [
           {
            "bin_end": 24.9,
            "bin_start": 15,
            "count": 20
           },
           {
            "bin_end": 34.8,
            "bin_start": 24.9,
            "count": 441
           },
           {
            "bin_end": 44.7,
            "bin_start": 34.8,
            "count": 1251
           },
           {
            "bin_end": 54.6,
            "bin_start": 44.7,
            "count": 1207
           },
           {
            "bin_end": 64.5,
            "bin_start": 54.6,
            "count": 548
           },
           {
            "bin_end": 74.4,
            "bin_start": 64.5,
            "count": 257
           },
           {
            "bin_end": 84.3,
            "bin_start": 74.4,
            "count": 106
           },
           {
            "bin_end": 94.2,
            "bin_start": 84.3,
            "count": 29
           },
           {
            "bin_end": 104.10000000000001,
            "bin_start": 94.2,
            "count": 7
           },
           {
            "bin_end": 114,
            "bin_start": 104.10000000000001,
            "count": 2
           }
          ],
          "max": "114.0",
          "min": "15.0",
          "nan_count": 0,
          "unique_count": 148
         }
        },
        {
         "dtype": "float64",
         "name": "BMI",
         "stats": {
          "histogram": [
           {
            "bin_end": 18.566,
            "bin_start": 15.54,
            "count": 57
           },
           {
            "bin_end": 21.592,
            "bin_start": 18.566,
            "count": 463
           },
           {
            "bin_end": 24.618,
            "bin_start": 21.592,
            "count": 1150
           },
           {
            "bin_end": 27.644,
            "bin_start": 24.618,
            "count": 1152
           },
           {
            "bin_end": 30.669999999999998,
            "bin_start": 27.644,
            "count": 683
           },
           {
            "bin_end": 33.696,
            "bin_start": 30.669999999999998,
            "count": 243
           },
           {
            "bin_end": 36.721999999999994,
            "bin_start": 33.696,
            "count": 76
           },
           {
            "bin_end": 39.748,
            "bin_start": 36.721999999999994,
            "count": 27
           },
           {
            "bin_end": 42.774,
            "bin_start": 39.748,
            "count": 14
           },
           {
            "bin_end": 45.8,
            "bin_start": 42.774,
            "count": 3
           }
          ],
          "max": "45.8",
          "min": "15.54",
          "nan_count": 0,
          "unique_count": 1285
         }
        },
        {
         "dtype": "float64",
         "name": "heartRate",
         "stats": {
          "histogram": [
           {
            "bin_end": 53.4,
            "bin_start": 48,
            "count": 56
           },
           {
            "bin_end": 58.8,
            "bin_start": 53.4,
            "count": 130
           },
           {
            "bin_end": 64.2,
            "bin_start": 58.8,
            "count": 437
           },
           {
            "bin_end": 69.6,
            "bin_start": 64.2,
            "count": 541
           },
           {
            "bin_end": 75,
            "bin_start": 69.6,
            "count": 628
           },
           {
            "bin_end": 80.4,
            "bin_start": 75,
            "count": 1108
           },
           {
            "bin_end": 85.80000000000001,
            "bin_start": 80.4,
            "count": 369
           },
           {
            "bin_end": 91.2,
            "bin_start": 85.80000000000001,
            "count": 308
           },
           {
            "bin_end": 96.6,
            "bin_start": 91.2,
            "count": 189
           },
           {
            "bin_end": 102,
            "bin_start": 96.6,
            "count": 102
           }
          ],
          "max": "102.0",
          "min": "48.0",
          "nan_count": 0,
          "unique_count": 54
         }
        },
        {
         "dtype": "float64",
         "name": "glucose",
         "stats": {
          "histogram": [
           {
            "bin_end": 75.4,
            "bin_start": 40,
            "count": 1784
           },
           {
            "bin_end": 110.8,
            "bin_start": 75.4,
            "count": 1933
           },
           {
            "bin_end": 146.2,
            "bin_start": 110.8,
            "count": 111
           },
           {
            "bin_end": 181.6,
            "bin_start": 146.2,
            "count": 14
           },
           {
            "bin_end": 217,
            "bin_start": 181.6,
            "count": 9
           },
           {
            "bin_end": 252.39999999999998,
            "bin_start": 217,
            "count": 5
           },
           {
            "bin_end": 287.79999999999995,
            "bin_start": 252.39999999999998,
            "count": 4
           },
           {
            "bin_end": 323.2,
            "bin_start": 287.79999999999995,
            "count": 2
           },
           {
            "bin_end": 358.59999999999997,
            "bin_start": 323.2,
            "count": 3
           },
           {
            "bin_end": 394,
            "bin_start": 358.59999999999997,
            "count": 3
           }
          ],
          "max": "394.0",
          "min": "40.0",
          "nan_count": 0,
          "unique_count": 133
         }
        },
        {
         "dtype": "int64",
         "name": "TenYearCHD",
         "stats": {
          "histogram": [
           {
            "bin_end": 0.1,
            "bin_start": 0,
            "count": 3333
           },
           {
            "bin_end": 0.2,
            "bin_start": 0.1,
            "count": 0
           },
           {
            "bin_end": 0.30000000000000004,
            "bin_start": 0.2,
            "count": 0
           },
           {
            "bin_end": 0.4,
            "bin_start": 0.30000000000000004,
            "count": 0
           },
           {
            "bin_end": 0.5,
            "bin_start": 0.4,
            "count": 0
           },
           {
            "bin_end": 0.6000000000000001,
            "bin_start": 0.5,
            "count": 0
           },
           {
            "bin_end": 0.7000000000000001,
            "bin_start": 0.6000000000000001,
            "count": 0
           },
           {
            "bin_end": 0.8,
            "bin_start": 0.7000000000000001,
            "count": 0
           },
           {
            "bin_end": 0.9,
            "bin_start": 0.8,
            "count": 0
           },
           {
            "bin_end": 1,
            "bin_start": 0.9,
            "count": 535
           }
          ],
          "max": "1",
          "min": "0",
          "nan_count": 0,
          "unique_count": 2
         }
        },
        {
         "dtype": "int64",
         "name": "_deepnote_index_column"
        }
       ],
       "row_count": 3868,
       "rows": [
        {
         "BMI": 26.97,
         "BPMeds": 0,
         "TenYearCHD": 0,
         "_deepnote_index_column": 0,
         "age": 39,
         "bloodPressure": 36,
         "cigsPerDay": 0,
         "currentSmoker": 0,
         "diabetes": 0,
         "education": 4,
         "glucose": 77,
         "heartRate": 80,
         "male": 1,
         "prevalentHyp": 0,
         "prevalentStroke": 0,
         "totChol": 195
        },
        {
         "BMI": 28.73,
         "BPMeds": 0,
         "TenYearCHD": 0,
         "_deepnote_index_column": 1,
         "age": 46,
         "bloodPressure": 40,
         "cigsPerDay": 0,
         "currentSmoker": 0,
         "diabetes": 0,
         "education": 2,
         "glucose": 76,
         "heartRate": 95,
         "male": 0,
         "prevalentHyp": 0,
         "prevalentStroke": 0,
         "totChol": 250
        },
        {
         "BMI": 25.34,
         "BPMeds": 0,
         "TenYearCHD": 0,
         "_deepnote_index_column": 2,
         "age": 48,
         "bloodPressure": 47.5,
         "cigsPerDay": 20,
         "currentSmoker": 1,
         "diabetes": 0,
         "education": 1,
         "glucose": 70,
         "heartRate": 75,
         "male": 1,
         "prevalentHyp": 0,
         "prevalentStroke": 0,
         "totChol": 245
        },
        {
         "BMI": 28.58,
         "BPMeds": 0,
         "TenYearCHD": 1,
         "_deepnote_index_column": 3,
         "age": 61,
         "bloodPressure": 55,
         "cigsPerDay": 30,
         "currentSmoker": 1,
         "diabetes": 0,
         "education": 3,
         "glucose": 103,
         "heartRate": 65,
         "male": 0,
         "prevalentHyp": 1,
         "prevalentStroke": 0,
         "totChol": 225
        },
        {
         "BMI": 23.1,
         "BPMeds": 0,
         "TenYearCHD": 0,
         "_deepnote_index_column": 4,
         "age": 46,
         "bloodPressure": 46,
         "cigsPerDay": 23,
         "currentSmoker": 1,
         "diabetes": 0,
         "education": 3,
         "glucose": 85,
         "heartRate": 85,
         "male": 0,
         "prevalentHyp": 0,
         "prevalentStroke": 0,
         "totChol": 285
        },
        {
         "BMI": 30.3,
         "BPMeds": 0,
         "TenYearCHD": 0,
         "_deepnote_index_column": 5,
         "age": 43,
         "bloodPressure": 70,
         "cigsPerDay": 0,
         "currentSmoker": 0,
         "diabetes": 0,
         "education": 2,
         "glucose": 99,
         "heartRate": 77,
         "male": 0,
         "prevalentHyp": 1,
         "prevalentStroke": 0,
         "totChol": 228
        },
        {
         "BMI": 33.11,
         "BPMeds": 0,
         "TenYearCHD": 1,
         "_deepnote_index_column": 6,
         "age": 63,
         "bloodPressure": 67,
         "cigsPerDay": 0,
         "currentSmoker": 0,
         "diabetes": 0,
         "education": 1,
         "glucose": 85,
         "heartRate": 60,
         "male": 0,
         "prevalentHyp": 0,
         "prevalentStroke": 0,
         "totChol": 205
        },
        {
         "BMI": 21.68,
         "BPMeds": 0,
         "TenYearCHD": 0,
         "_deepnote_index_column": 7,
         "age": 45,
         "bloodPressure": 29,
         "cigsPerDay": 20,
         "currentSmoker": 1,
         "diabetes": 0,
         "education": 2,
         "glucose": 78,
         "heartRate": 79,
         "male": 0,
         "prevalentHyp": 0,
         "prevalentStroke": 0,
         "totChol": 313
        },
        {
         "BMI": 26.36,
         "BPMeds": 0,
         "TenYearCHD": 0,
         "_deepnote_index_column": 8,
         "age": 52,
         "bloodPressure": 52.5,
         "cigsPerDay": 0,
         "currentSmoker": 0,
         "diabetes": 0,
         "education": 1,
         "glucose": 79,
         "heartRate": 76,
         "male": 1,
         "prevalentHyp": 1,
         "prevalentStroke": 0,
         "totChol": 260
        },
        {
         "BMI": 23.61,
         "BPMeds": 0,
         "TenYearCHD": 0,
         "_deepnote_index_column": 9,
         "age": 43,
         "bloodPressure": 55,
         "cigsPerDay": 30,
         "currentSmoker": 1,
         "diabetes": 0,
         "education": 1,
         "glucose": 88,
         "heartRate": 93,
         "male": 1,
         "prevalentHyp": 1,
         "prevalentStroke": 0,
         "totChol": 225
        }
       ]
      },
      "text/html": [
       "<div>\n",
       "<style scoped>\n",
       "    .dataframe tbody tr th:only-of-type {\n",
       "        vertical-align: middle;\n",
       "    }\n",
       "\n",
       "    .dataframe tbody tr th {\n",
       "        vertical-align: top;\n",
       "    }\n",
       "\n",
       "    .dataframe thead th {\n",
       "        text-align: right;\n",
       "    }\n",
       "</style>\n",
       "<table border=\"1\" class=\"dataframe\">\n",
       "  <thead>\n",
       "    <tr style=\"text-align: right;\">\n",
       "      <th></th>\n",
       "      <th>male</th>\n",
       "      <th>age</th>\n",
       "      <th>education</th>\n",
       "      <th>currentSmoker</th>\n",
       "      <th>cigsPerDay</th>\n",
       "      <th>BPMeds</th>\n",
       "      <th>prevalentStroke</th>\n",
       "      <th>prevalentHyp</th>\n",
       "      <th>diabetes</th>\n",
       "      <th>totChol</th>\n",
       "      <th>bloodPressure</th>\n",
       "      <th>BMI</th>\n",
       "      <th>heartRate</th>\n",
       "      <th>glucose</th>\n",
       "      <th>TenYearCHD</th>\n",
       "    </tr>\n",
       "  </thead>\n",
       "  <tbody>\n",
       "    <tr>\n",
       "      <th>0</th>\n",
       "      <td>1</td>\n",
       "      <td>39</td>\n",
       "      <td>4.0</td>\n",
       "      <td>0</td>\n",
       "      <td>0.0</td>\n",
       "      <td>0.0</td>\n",
       "      <td>0</td>\n",
       "      <td>0</td>\n",
       "      <td>0</td>\n",
       "      <td>195.0</td>\n",
       "      <td>36.0</td>\n",
       "      <td>26.97</td>\n",
       "      <td>80.0</td>\n",
       "      <td>77.0</td>\n",
       "      <td>0</td>\n",
       "    </tr>\n",
       "    <tr>\n",
       "      <th>1</th>\n",
       "      <td>0</td>\n",
       "      <td>46</td>\n",
       "      <td>2.0</td>\n",
       "      <td>0</td>\n",
       "      <td>0.0</td>\n",
       "      <td>0.0</td>\n",
       "      <td>0</td>\n",
       "      <td>0</td>\n",
       "      <td>0</td>\n",
       "      <td>250.0</td>\n",
       "      <td>40.0</td>\n",
       "      <td>28.73</td>\n",
       "      <td>95.0</td>\n",
       "      <td>76.0</td>\n",
       "      <td>0</td>\n",
       "    </tr>\n",
       "    <tr>\n",
       "      <th>2</th>\n",
       "      <td>1</td>\n",
       "      <td>48</td>\n",
       "      <td>1.0</td>\n",
       "      <td>1</td>\n",
       "      <td>20.0</td>\n",
       "      <td>0.0</td>\n",
       "      <td>0</td>\n",
       "      <td>0</td>\n",
       "      <td>0</td>\n",
       "      <td>245.0</td>\n",
       "      <td>47.5</td>\n",
       "      <td>25.34</td>\n",
       "      <td>75.0</td>\n",
       "      <td>70.0</td>\n",
       "      <td>0</td>\n",
       "    </tr>\n",
       "    <tr>\n",
       "      <th>3</th>\n",
       "      <td>0</td>\n",
       "      <td>61</td>\n",
       "      <td>3.0</td>\n",
       "      <td>1</td>\n",
       "      <td>30.0</td>\n",
       "      <td>0.0</td>\n",
       "      <td>0</td>\n",
       "      <td>1</td>\n",
       "      <td>0</td>\n",
       "      <td>225.0</td>\n",
       "      <td>55.0</td>\n",
       "      <td>28.58</td>\n",
       "      <td>65.0</td>\n",
       "      <td>103.0</td>\n",
       "      <td>1</td>\n",
       "    </tr>\n",
       "    <tr>\n",
       "      <th>4</th>\n",
       "      <td>0</td>\n",
       "      <td>46</td>\n",
       "      <td>3.0</td>\n",
       "      <td>1</td>\n",
       "      <td>23.0</td>\n",
       "      <td>0.0</td>\n",
       "      <td>0</td>\n",
       "      <td>0</td>\n",
       "      <td>0</td>\n",
       "      <td>285.0</td>\n",
       "      <td>46.0</td>\n",
       "      <td>23.10</td>\n",
       "      <td>85.0</td>\n",
       "      <td>85.0</td>\n",
       "      <td>0</td>\n",
       "    </tr>\n",
       "    <tr>\n",
       "      <th>...</th>\n",
       "      <td>...</td>\n",
       "      <td>...</td>\n",
       "      <td>...</td>\n",
       "      <td>...</td>\n",
       "      <td>...</td>\n",
       "      <td>...</td>\n",
       "      <td>...</td>\n",
       "      <td>...</td>\n",
       "      <td>...</td>\n",
       "      <td>...</td>\n",
       "      <td>...</td>\n",
       "      <td>...</td>\n",
       "      <td>...</td>\n",
       "      <td>...</td>\n",
       "      <td>...</td>\n",
       "    </tr>\n",
       "    <tr>\n",
       "      <th>4233</th>\n",
       "      <td>1</td>\n",
       "      <td>50</td>\n",
       "      <td>1.0</td>\n",
       "      <td>1</td>\n",
       "      <td>1.0</td>\n",
       "      <td>0.0</td>\n",
       "      <td>0</td>\n",
       "      <td>1</td>\n",
       "      <td>0</td>\n",
       "      <td>313.0</td>\n",
       "      <td>87.0</td>\n",
       "      <td>25.97</td>\n",
       "      <td>66.0</td>\n",
       "      <td>86.0</td>\n",
       "      <td>1</td>\n",
       "    </tr>\n",
       "    <tr>\n",
       "      <th>4234</th>\n",
       "      <td>1</td>\n",
       "      <td>51</td>\n",
       "      <td>3.0</td>\n",
       "      <td>1</td>\n",
       "      <td>43.0</td>\n",
       "      <td>0.0</td>\n",
       "      <td>0</td>\n",
       "      <td>0</td>\n",
       "      <td>0</td>\n",
       "      <td>207.0</td>\n",
       "      <td>46.5</td>\n",
       "      <td>19.71</td>\n",
       "      <td>65.0</td>\n",
       "      <td>68.0</td>\n",
       "      <td>0</td>\n",
       "    </tr>\n",
       "    <tr>\n",
       "      <th>4235</th>\n",
       "      <td>0</td>\n",
       "      <td>48</td>\n",
       "      <td>2.0</td>\n",
       "      <td>1</td>\n",
       "      <td>20.0</td>\n",
       "      <td>0.0</td>\n",
       "      <td>0</td>\n",
       "      <td>0</td>\n",
       "      <td>0</td>\n",
       "      <td>248.0</td>\n",
       "      <td>59.0</td>\n",
       "      <td>22.00</td>\n",
       "      <td>84.0</td>\n",
       "      <td>86.0</td>\n",
       "      <td>0</td>\n",
       "    </tr>\n",
       "    <tr>\n",
       "      <th>4236</th>\n",
       "      <td>0</td>\n",
       "      <td>44</td>\n",
       "      <td>1.0</td>\n",
       "      <td>1</td>\n",
       "      <td>15.0</td>\n",
       "      <td>0.0</td>\n",
       "      <td>0</td>\n",
       "      <td>0</td>\n",
       "      <td>0</td>\n",
       "      <td>210.0</td>\n",
       "      <td>39.5</td>\n",
       "      <td>19.16</td>\n",
       "      <td>86.0</td>\n",
       "      <td>75.0</td>\n",
       "      <td>0</td>\n",
       "    </tr>\n",
       "    <tr>\n",
       "      <th>4237</th>\n",
       "      <td>0</td>\n",
       "      <td>52</td>\n",
       "      <td>2.0</td>\n",
       "      <td>0</td>\n",
       "      <td>0.0</td>\n",
       "      <td>0.0</td>\n",
       "      <td>0</td>\n",
       "      <td>0</td>\n",
       "      <td>0</td>\n",
       "      <td>269.0</td>\n",
       "      <td>50.5</td>\n",
       "      <td>21.47</td>\n",
       "      <td>80.0</td>\n",
       "      <td>107.0</td>\n",
       "      <td>0</td>\n",
       "    </tr>\n",
       "  </tbody>\n",
       "</table>\n",
       "<p>3868 rows × 15 columns</p>\n",
       "</div>"
      ],
      "text/plain": [
       "      male  age  education  currentSmoker  cigsPerDay  BPMeds  \\\n",
       "0        1   39        4.0              0         0.0     0.0   \n",
       "1        0   46        2.0              0         0.0     0.0   \n",
       "2        1   48        1.0              1        20.0     0.0   \n",
       "3        0   61        3.0              1        30.0     0.0   \n",
       "4        0   46        3.0              1        23.0     0.0   \n",
       "...    ...  ...        ...            ...         ...     ...   \n",
       "4233     1   50        1.0              1         1.0     0.0   \n",
       "4234     1   51        3.0              1        43.0     0.0   \n",
       "4235     0   48        2.0              1        20.0     0.0   \n",
       "4236     0   44        1.0              1        15.0     0.0   \n",
       "4237     0   52        2.0              0         0.0     0.0   \n",
       "\n",
       "      prevalentStroke  prevalentHyp  diabetes  totChol  bloodPressure    BMI  \\\n",
       "0                   0             0         0    195.0           36.0  26.97   \n",
       "1                   0             0         0    250.0           40.0  28.73   \n",
       "2                   0             0         0    245.0           47.5  25.34   \n",
       "3                   0             1         0    225.0           55.0  28.58   \n",
       "4                   0             0         0    285.0           46.0  23.10   \n",
       "...               ...           ...       ...      ...            ...    ...   \n",
       "4233                0             1         0    313.0           87.0  25.97   \n",
       "4234                0             0         0    207.0           46.5  19.71   \n",
       "4235                0             0         0    248.0           59.0  22.00   \n",
       "4236                0             0         0    210.0           39.5  19.16   \n",
       "4237                0             0         0    269.0           50.5  21.47   \n",
       "\n",
       "      heartRate  glucose  TenYearCHD  \n",
       "0          80.0     77.0           0  \n",
       "1          95.0     76.0           0  \n",
       "2          75.0     70.0           0  \n",
       "3          65.0    103.0           1  \n",
       "4          85.0     85.0           0  \n",
       "...         ...      ...         ...  \n",
       "4233       66.0     86.0           1  \n",
       "4234       65.0     68.0           0  \n",
       "4235       84.0     86.0           0  \n",
       "4236       86.0     75.0           0  \n",
       "4237       80.0    107.0           0  \n",
       "\n",
       "[3868 rows x 15 columns]"
      ]
     },
     "execution_count": 20,
     "metadata": {},
     "output_type": "execute_result"
    }
   ],
   "source": [
    "data"
   ]
  },
  {
   "cell_type": "markdown",
   "metadata": {
    "cell_id": "00039-6a4adfc9-ee82-4830-9678-1429461c6037",
    "deepnote_cell_height": 62,
    "deepnote_cell_type": "markdown"
   },
   "source": [
    "### 1. Logistic Regression Model"
   ]
  },
  {
   "cell_type": "code",
   "execution_count": null,
   "metadata": {
    "cell_id": "00040-a0f96339-66b4-4ff6-863e-516072d7c977",
    "deepnote_cell_height": 153,
    "deepnote_cell_type": "code",
    "deepnote_to_be_reexecuted": false,
    "execution_millis": 78,
    "execution_start": 1652940501983,
    "source_hash": "2ccd2444"
   },
   "outputs": [],
   "source": [
    "#import Logistic Regression \n",
    "lr = LogisticRegression()\n",
    "lr.fit(X_train, y_train) # fitting dataset to our model\n",
    "lr_pred = lr.predict(X_test) #pridict \n",
    "score = lr.score(X_test,y_test)"
   ]
  },
  {
   "cell_type": "code",
   "execution_count": null,
   "metadata": {
    "cell_id": "00041-9a70ac70-9284-425f-bab9-3f23681ed42e",
    "deepnote_cell_height": 433,
    "deepnote_cell_type": "code",
    "deepnote_output_heights": [
     264
    ],
    "deepnote_to_be_reexecuted": false,
    "execution_millis": 374,
    "execution_start": 1652940502067,
    "source_hash": "4d09aeca"
   },
   "outputs": [
    {
     "data": {
      "image/png": "[encoded data removed]",
      "text/plain": [
       "<Figure size 432x288 with 2 Axes>"
      ]
     },
     "metadata": {
      "image/png": {
       "height": 262,
       "width": 312
      },
      "needs_background": "light"
     },
     "output_type": "display_data"
    }
   ],
   "source": [
    "# Plot Confusion Matrix for Binary Classes an array that depicts the True Positives, False Positives, False Negatives, and True negatives\n",
    "\n",
    "plot_confusion_matrix(lr, X_test, y_test, cmap = \"Blues\")  \n",
    "plt.grid(False)\n",
    "plt.show()"
   ]
  },
  {
   "cell_type": "code",
   "execution_count": null,
   "metadata": {
    "cell_id": "00042-d33e0d6b-6e50-4488-8320-47135da4bcca",
    "deepnote_cell_height": 204,
    "deepnote_cell_type": "code",
    "deepnote_to_be_reexecuted": false,
    "execution_millis": 12,
    "execution_start": 1652940502430,
    "source_hash": "26339966"
   },
   "outputs": [
    {
     "name": "stdout",
     "output_type": "stream",
     "text": [
      "Precision for Logistic Regression Model: 0.0%\n",
      "Accuracy for Logistic Regression Model: 86.95090439276485%\n"
     ]
    }
   ],
   "source": [
    "#Accuracy score for this model\n",
    "lr_precision = precision_score(lr_pred, y_test)*100\n",
    "print(\"Precision for Logistic Regression Model: \" + str(lr_precision) + \"%\")\n",
    "lr_accuracy = accuracy_score(lr_pred, y_test)*100\n",
    "print(\"Accuracy for Logistic Regression Model: \" + str(lr_accuracy) + \"%\")"
   ]
  },
  {
   "cell_type": "markdown",
   "metadata": {
    "cell_id": "00043-9ee19206-1526-4cc8-a18b-f2ce3176884c",
    "deepnote_cell_height": 62,
    "deepnote_cell_type": "markdown"
   },
   "source": [
    "### 2. Decision Tree Classifier"
   ]
  },
  {
   "cell_type": "code",
   "execution_count": null,
   "metadata": {
    "cell_id": "00044-b5d72e1a-4b71-4843-b333-ae56e2996299",
    "deepnote_cell_height": 171,
    "deepnote_cell_type": "code",
    "deepnote_to_be_reexecuted": false,
    "execution_millis": 43,
    "execution_start": 1652940502431,
    "source_hash": "8ccc7f46"
   },
   "outputs": [],
   "source": [
    "from sklearn.tree import DecisionTreeClassifier\n",
    "\n",
    "dtc = DecisionTreeClassifier(min_samples_split=40, random_state=0) \n",
    "dtc.fit(X_train, y_train)\n",
    "dtc_pred = dtc.predict(X_test)\n",
    "#setting min_samples_split as 40, we got good results for all metrics"
   ]
  },
  {
   "cell_type": "code",
   "execution_count": null,
   "metadata": {
    "cell_id": "00045-a1c0e523-b616-4931-aefe-d6429ffb2464",
    "deepnote_cell_height": 755,
    "deepnote_cell_type": "code",
    "deepnote_to_be_reexecuted": false,
    "execution_millis": 9,
    "execution_start": 1652940502474,
    "source_hash": "c2a674f0"
   },
   "outputs": [
    {
     "name": "stdout",
     "output_type": "stream",
     "text": [
      "Decision tree in text format : \n",
      "|--- age <= 48.50\n",
      "|   |--- cigsPerDay <= 9.50\n",
      "|   |   |--- glucose <= 233.50\n",
      "|   |   |   |--- bloodPressure <= 96.00\n",
      "|   |   |   |   |--- male <= 0.50\n",
      "|   |   |   |   |   |--- glucose <= 119.50\n",
      "|   |   |   |   |   |   |--- BMI <= 39.03\n",
      "|   |   |   |   |   |   |   |--- age <= 39.50\n",
      "|   |   |   |   |   |   |   |   |--- class: 0\n",
      "|   |   |   |   |   |   |   |--- age >  39.50\n",
      "|   |   |   |   |   |   |   |   |--- bloodPressure <= 24.50\n",
      "|   |   |   |   |   |   |   |   |   |--- class: 0\n",
      "|   |   |   |   |   |   |   |   |--- bloodPressure >  24.50\n",
      "|   |   |   |   |   |   |   |   |   |--- BMI <= 27.41\n",
      "|   |   |   |   |   |   |   |   |   |   |--- BMI <= 27.05\n",
      "|   |   |   |   |   |   |   |   |   |   |   |--- truncated branch of depth 5\n",
      "|   |   |   |   |   |   |   |   |   |   |--- BMI >  27.05\n",
      "|   |   |   |   |   |   |   |   |   |   |   |--- class: 0\n",
      "|   |   |   |   |   |   |   |   |   |--- BMI >  27.41\n",
      "|   |   |   |   |   |   |   |   |   |   |--- class: 0\n",
      "|   |   |   |   |   |   |--- BMI >  39.03\n",
      "|   |   |   |   |   |   |   |--- class: 0\n",
      "|   |   |   |   |   |--- glucose >  119.50\n",
      "|   |   |   |   |   |   |--- class: 0\n",
      "|   |   |   |   |--- male >  0.50\n",
      "|   |   |   |   |   |--- totChol <= 258.50\n",
      "|   |   |   |   |   |   |--- glucose <= 59.50\n",
      "|   |   |   |   |   |   |   |--- class: 0\n",
      "|   |   |   |   |   |   |--- glucose >  59.50\n",
      "|   |   |   |   |   |   |   |--- bloodPressure <= 37.25\n",
      "|   |   |   |   |   |   |   |   |--- BMI <= 28.65\n",
      "|   |   |   |   |   |   |   |   |   |--- heartRate <= 62.50\n",
      "|   |   |   |   |   |   |   |   |   |   |--- class: 0\n",
      "|   |   |   |   |   |   |   |   |   |--- heartRate >  62.50\n",
      "|   |   |   |   |   |   |   |   |   |   |--- class: 0\n",
      "|   |   |   |   |   |   |   |   |--- BMI >  28.65\n",
      "|   |   |   |   |   |   |   |   |   |--- class: 0\n",
      "|   |   |   |   |   |   |   |--- bloodPressure >  37.25\n",
      "|   |   |   |   |   |   |   |   |--- prevalentHyp <= 0.50\n",
      "|   |   |   |   |   |   |   |   |   |--- class: 0\n",
      "|   |   |   |   |   |   |   |   |--- prevalentHyp >  0.50\n",
      "|   |   |   |   |   |   |   |   |   |--- BMI <= 27.95\n",
      "|   |   |   |   |   |   |   |   |   |   |--- class: 0\n",
      "|   |   |   |   |   |   |   |   |   |--- BMI >  27.95\n",
      "|   |   |   |   |   |   |   |   |   |   |--- class: 0\n",
      "|   |   |   |   |   |--- totChol >  258.50\n",
      "|   |   |   |   |   |   |--- bloodPressure <= 59.75\n",
      "|   |   |   |   |   |   |   |--- education <= 3.50\n",
      "|   |   |   |   |   |   |   |   |--- totChol <= 303.50\n",
      "|   |   |   |   |   |   |   |   |   |--- class: 0\n",
      "|   |   |   |   |   |   |   |   |--- totChol >  303.50\n",
      "|   |   |   |   |   |   |   |   |   |--- class: 0\n",
      "|   |   |   |   |   |   |   |--- education >  3.50\n",
      "|   |   |   |   |   |   |   |   |--- class: 0\n",
      "|   |   |   |   |   |   |--- bloodPressure >  59.75\n",
      "|   |   |   |   |   |   |   |--- class: 1\n",
      "|   |   |   |--- bloodPressure >  96.00\n",
      "|   |   |   |   |--- class: 1\n",
      "|   |   |--- glucose >  233.50\n",
      "|   |   |   |--- class: 1\n",
      "|   |--- cigsPerDay >  9.50\n",
      "|   |   |--- glucose <= 55.50\n",
      "|   |   |   |--- class: 0\n",
      "|   |   |--- glucose >  55.50\n",
      "|   |   |   |--- age <= 40.50\n",
      "|   |   |   |   |--- bloodPressure <= 28.75\n",
      "|   |   |   |   |   |--- class: 0\n",
      "|   |   |   |   |--- bloodPressure >  28.75\n",
      "|   |   |   |   |   |--- totChol <= 252.00\n",
      "|   |   |   |   |   |   |--- bloodPressure <= 55.50\n",
      "|   |   |   |   |   |   |   |--- cigsPerDay <= 37.50\n",
      "|   |   |   |   |   |   |   |   |--- heartRate <= 59.00\n",
      "|   |   |   |   |   |   |   |   |   |--- class: 0\n",
      "|   |   |   |   |   |   |   |   |--- heartRate >  59.00\n",
      "|   |   |   |   |   |   |   |   |   |--- glucose <= 101.50\n",
      "|   |   |   |   |   |   |   |   |   |   |--- heartRate <= 68.50\n",
      "|   |   |   |   |   |   |   |   |   |   |   |--- truncated branch of depth 2\n",
      "|   |   |   |   |   |   |   |   |   |   |--- heartRate >  68.50\n",
      "|   |   |   |   |   |   |   |   |   |   |   |--- class: 0\n",
      "|   |   |   |   |   |   |   |   |   |--- glucose >  101.50\n",
      "|   |   |   |   |   |   |   |   |   |   |--- class: 0\n",
      "|   |   |   |   |   |   |   |--- cigsPerDay >  37.50\n",
      "|   |   |   |   |   |   |   |   |--- class: 0\n",
      "|   |   |   |   |   |   |--- bloodPressure >  55.50\n",
      "|   |   |   |   |   |   |   |--- class: 0\n",
      "|   |   |   |   |   |--- totChol >  252.00\n",
      "|   |   |   |   |   |   |--- glucose <= 77.00\n",
      "|   |   |   |   |   |   |   |--- class: 0\n",
      "|   |   |   |   |   |   |--- glucose >  77.00\n",
      "|   |   |   |   |   |   |   |--- class: 0\n",
      "|   |   |   |--- age >  40.50\n",
      "|   |   |   |   |--- BMI <= 39.52\n",
      "|   |   |   |   |   |--- glucose <= 232.50\n",
      "|   |   |   |   |   |   |--- bloodPressure <= 52.75\n",
      "|   |   |   |   |   |   |   |--- BMI <= 22.51\n",
      "|   |   |   |   |   |   |   |   |--- bloodPressure <= 25.75\n",
      "|   |   |   |   |   |   |   |   |   |--- class: 0\n",
      "|   |   |   |   |   |   |   |   |--- bloodPressure >  25.75\n",
      "|   |   |   |   |   |   |   |   |   |--- heartRate <= 57.50\n",
      "|   |   |   |   |   |   |   |   |   |   |--- class: 0\n",
      "|   |   |   |   |   |   |   |   |   |--- heartRate >  57.50\n",
      "|   |   |   |   |   |   |   |   |   |   |--- BMI <= 17.93\n",
      "|   |   |   |   |   |   |   |   |   |   |   |--- class: 0\n",
      "|   |   |   |   |   |   |   |   |   |   |--- BMI >  17.93\n",
      "|   |   |   |   |   |   |   |   |   |   |   |--- truncated branch of depth 2\n",
      "|   |   |   |   |   |   |   |--- BMI >  22.51\n",
      "|   |   |   |   |   |   |   |   |--- totChol <= 146.50\n",
      "|   |   |   |   |   |   |   |   |   |--- class: 1\n",
      "|   |   |   |   |   |   |   |   |--- totChol >  146.50\n",
      "|   |   |   |   |   |   |   |   |   |--- totChol <= 239.50\n",
      "|   |   |   |   |   |   |   |   |   |   |--- BMI <= 22.52\n",
      "|   |   |   |   |   |   |   |   |   |   |   |--- class: 1\n",
      "|   |   |   |   |   |   |   |   |   |   |--- BMI >  22.52\n",
      "|   |   |   |   |   |   |   |   |   |   |   |--- truncated branch of depth 6\n",
      "|   |   |   |   |   |   |   |   |   |--- totChol >  239.50\n",
      "|   |   |   |   |   |   |   |   |   |   |--- glucose <= 68.50\n",
      "|   |   |   |   |   |   |   |   |   |   |   |--- class: 0\n",
      "|   |   |   |   |   |   |   |   |   |   |--- glucose >  68.50\n",
      "|   |   |   |   |   |   |   |   |   |   |   |--- truncated branch of depth 5\n",
      "|   |   |   |   |   |   |--- bloodPressure >  52.75\n",
      "|   |   |   |   |   |   |   |--- BMI <= 21.93\n",
      "|   |   |   |   |   |   |   |   |--- class: 1\n",
      "|   |   |   |   |   |   |   |--- BMI >  21.93\n",
      "|   |   |   |   |   |   |   |   |--- totChol <= 302.00\n",
      "|   |   |   |   |   |   |   |   |   |--- heartRate <= 93.50\n",
      "|   |   |   |   |   |   |   |   |   |   |--- prevalentHyp <= 0.50\n",
      "|   |   |   |   |   |   |   |   |   |   |   |--- class: 0\n",
      "|   |   |   |   |   |   |   |   |   |   |--- prevalentHyp >  0.50\n",
      "|   |   |   |   |   |   |   |   |   |   |   |--- class: 0\n",
      "|   |   |   |   |   |   |   |   |   |--- heartRate >  93.50\n",
      "|   |   |   |   |   |   |   |   |   |   |--- class: 0\n",
      "|   |   |   |   |   |   |   |   |--- totChol >  302.00\n",
      "|   |   |   |   |   |   |   |   |   |--- class: 1\n",
      "|   |   |   |   |   |--- glucose >  232.50\n",
      "|   |   |   |   |   |   |--- class: 1\n",
      "|   |   |   |   |--- BMI >  39.52\n",
      "|   |   |   |   |   |--- class: 1\n",
      "|--- age >  48.50\n",
      "|   |--- bloodPressure <= 62.75\n",
      "|   |   |--- glucose <= 147.50\n",
      "|   |   |   |--- age <= 57.50\n",
      "|   |   |   |   |--- BMI <= 27.88\n",
      "|   |   |   |   |   |--- male <= 0.50\n",
      "|   |   |   |   |   |   |--- heartRate <= 91.00\n",
      "|   |   |   |   |   |   |   |--- glucose <= 54.00\n",
      "|   |   |   |   |   |   |   |   |--- class: 1\n",
      "|   |   |   |   |   |   |   |--- glucose >  54.00\n",
      "|   |   |   |   |   |   |   |   |--- cigsPerDay <= 32.50\n",
      "|   |   |   |   |   |   |   |   |   |--- BMI <= 18.89\n",
      "|   |   |   |   |   |   |   |   |   |   |--- class: 0\n",
      "|   |   |   |   |   |   |   |   |   |--- BMI >  18.89\n",
      "|   |   |   |   |   |   |   |   |   |   |--- heartRate <= 72.50\n",
      "|   |   |   |   |   |   |   |   |   |   |   |--- truncated branch of depth 4\n",
      "|   |   |   |   |   |   |   |   |   |   |--- heartRate >  72.50\n",
      "|   |   |   |   |   |   |   |   |   |   |   |--- truncated branch of depth 5\n",
      "|   |   |   |   |   |   |   |   |--- cigsPerDay >  32.50\n",
      "|   |   |   |   |   |   |   |   |   |--- class: 0\n",
      "|   |   |   |   |   |   |--- heartRate >  91.00\n",
      "|   |   |   |   |   |   |   |--- class: 0\n",
      "|   |   |   |   |   |--- male >  0.50\n",
      "|   |   |   |   |   |   |--- bloodPressure <= 49.75\n",
      "|   |   |   |   |   |   |   |--- glucose <= 58.50\n",
      "|   |   |   |   |   |   |   |   |--- class: 1\n",
      "|   |   |   |   |   |   |   |--- glucose >  58.50\n",
      "|   |   |   |   |   |   |   |   |--- glucose <= 124.50\n",
      "|   |   |   |   |   |   |   |   |   |--- cigsPerDay <= 52.50\n",
      "|   |   |   |   |   |   |   |   |   |   |--- BMI <= 21.94\n",
      "|   |   |   |   |   |   |   |   |   |   |   |--- class: 0\n",
      "|   |   |   |   |   |   |   |   |   |   |--- BMI >  21.94\n",
      "|   |   |   |   |   |   |   |   |   |   |   |--- truncated branch of depth 5\n",
      "|   |   |   |   |   |   |   |   |   |--- cigsPerDay >  52.50\n",
      "|   |   |   |   |   |   |   |   |   |   |--- class: 1\n",
      "|   |   |   |   |   |   |   |   |--- glucose >  124.50\n",
      "|   |   |   |   |   |   |   |   |   |--- class: 1\n",
      "|   |   |   |   |   |   |--- bloodPressure >  49.75\n",
      "|   |   |   |   |   |   |   |--- heartRate <= 59.00\n",
      "|   |   |   |   |   |   |   |   |--- class: 1\n",
      "|   |   |   |   |   |   |   |--- heartRate >  59.00\n",
      "|   |   |   |   |   |   |   |   |--- bloodPressure <= 56.75\n",
      "|   |   |   |   |   |   |   |   |   |--- glucose <= 81.00\n",
      "|   |   |   |   |   |   |   |   |   |   |--- class: 0\n",
      "|   |   |   |   |   |   |   |   |   |--- glucose >  81.00\n",
      "|   |   |   |   |   |   |   |   |   |   |--- class: 1\n",
      "|   |   |   |   |   |   |   |   |--- bloodPressure >  56.75\n",
      "|   |   |   |   |   |   |   |   |   |--- class: 0\n",
      "|   |   |   |   |--- BMI >  27.88\n",
      "|   |   |   |   |   |--- bloodPressure <= 36.75\n",
      "|   |   |   |   |   |   |--- class: 0\n",
      "|   |   |   |   |   |--- bloodPressure >  36.75\n",
      "|   |   |   |   |   |   |--- totChol <= 309.50\n",
      "|   |   |   |   |   |   |   |--- totChol <= 243.50\n",
      "|   |   |   |   |   |   |   |   |--- prevalentStroke <= 0.50\n",
      "|   |   |   |   |   |   |   |   |   |--- male <= 0.50\n",
      "|   |   |   |   |   |   |   |   |   |   |--- class: 0\n",
      "|   |   |   |   |   |   |   |   |   |--- male >  0.50\n",
      "|   |   |   |   |   |   |   |   |   |   |--- heartRate <= 78.50\n",
      "|   |   |   |   |   |   |   |   |   |   |   |--- class: 0\n",
      "|   |   |   |   |   |   |   |   |   |   |--- heartRate >  78.50\n",
      "|   |   |   |   |   |   |   |   |   |   |   |--- class: 1\n",
      "|   |   |   |   |   |   |   |   |--- prevalentStroke >  0.50\n",
      "|   |   |   |   |   |   |   |   |   |--- class: 1\n",
      "|   |   |   |   |   |   |   |--- totChol >  243.50\n",
      "|   |   |   |   |   |   |   |   |--- BMI <= 33.19\n",
      "|   |   |   |   |   |   |   |   |   |--- glucose <= 116.00\n",
      "|   |   |   |   |   |   |   |   |   |   |--- education <= 2.50\n",
      "|   |   |   |   |   |   |   |   |   |   |   |--- truncated branch of depth 2\n",
      "|   |   |   |   |   |   |   |   |   |   |--- education >  2.50\n",
      "|   |   |   |   |   |   |   |   |   |   |   |--- class: 0\n",
      "|   |   |   |   |   |   |   |   |   |--- glucose >  116.00\n",
      "|   |   |   |   |   |   |   |   |   |   |--- class: 1\n",
      "|   |   |   |   |   |   |   |   |--- BMI >  33.19\n",
      "|   |   |   |   |   |   |   |   |   |--- class: 0\n",
      "|   |   |   |   |   |   |--- totChol >  309.50\n",
      "|   |   |   |   |   |   |   |--- class: 1\n",
      "|   |   |   |--- age >  57.50\n",
      "|   |   |   |   |--- bloodPressure <= 53.25\n",
      "|   |   |   |   |   |--- BMI <= 23.12\n",
      "|   |   |   |   |   |   |--- heartRate <= 86.00\n",
      "|   |   |   |   |   |   |   |--- age <= 65.50\n",
      "|   |   |   |   |   |   |   |   |--- BMI <= 19.87\n",
      "|   |   |   |   |   |   |   |   |   |--- class: 0\n",
      "|   |   |   |   |   |   |   |   |--- BMI >  19.87\n",
      "|   |   |   |   |   |   |   |   |   |--- BMI <= 23.10\n",
      "|   |   |   |   |   |   |   |   |   |   |--- heartRate <= 71.50\n",
      "|   |   |   |   |   |   |   |   |   |   |   |--- class: 0\n",
      "|   |   |   |   |   |   |   |   |   |   |--- heartRate >  71.50\n",
      "|   |   |   |   |   |   |   |   |   |   |   |--- class: 0\n",
      "|   |   |   |   |   |   |   |   |   |--- BMI >  23.10\n",
      "|   |   |   |   |   |   |   |   |   |   |--- class: 1\n",
      "|   |   |   |   |   |   |   |--- age >  65.50\n",
      "|   |   |   |   |   |   |   |   |--- class: 1\n",
      "|   |   |   |   |   |   |--- heartRate >  86.00\n",
      "|   |   |   |   |   |   |   |--- class: 1\n",
      "|   |   |   |   |   |--- BMI >  23.12\n",
      "|   |   |   |   |   |   |--- BMI <= 36.48\n",
      "|   |   |   |   |   |   |   |--- totChol <= 198.50\n",
      "|   |   |   |   |   |   |   |   |--- class: 0\n",
      "|   |   |   |   |   |   |   |--- totChol >  198.50\n",
      "|   |   |   |   |   |   |   |   |--- totChol <= 223.50\n",
      "|   |   |   |   |   |   |   |   |   |--- class: 0\n",
      "|   |   |   |   |   |   |   |   |--- totChol >  223.50\n",
      "|   |   |   |   |   |   |   |   |   |--- totChol <= 232.50\n",
      "|   |   |   |   |   |   |   |   |   |   |--- class: 0\n",
      "|   |   |   |   |   |   |   |   |   |--- totChol >  232.50\n",
      "|   |   |   |   |   |   |   |   |   |   |--- age <= 68.50\n",
      "|   |   |   |   |   |   |   |   |   |   |   |--- truncated branch of depth 8\n",
      "|   |   |   |   |   |   |   |   |   |   |--- age >  68.50\n",
      "|   |   |   |   |   |   |   |   |   |   |   |--- class: 1\n",
      "|   |   |   |   |   |   |--- BMI >  36.48\n",
      "|   |   |   |   |   |   |   |--- class: 1\n",
      "|   |   |   |   |--- bloodPressure >  53.25\n",
      "|   |   |   |   |   |--- totChol <= 295.50\n",
      "|   |   |   |   |   |   |--- totChol <= 276.50\n",
      "|   |   |   |   |   |   |   |--- cigsPerDay <= 27.50\n",
      "|   |   |   |   |   |   |   |   |--- heartRate <= 94.50\n",
      "|   |   |   |   |   |   |   |   |   |--- BMI <= 29.66\n",
      "|   |   |   |   |   |   |   |   |   |   |--- BMI <= 27.91\n",
      "|   |   |   |   |   |   |   |   |   |   |   |--- truncated branch of depth 4\n",
      "|   |   |   |   |   |   |   |   |   |   |--- BMI >  27.91\n",
      "|   |   |   |   |   |   |   |   |   |   |   |--- class: 0\n",
      "|   |   |   |   |   |   |   |   |   |--- BMI >  29.66\n",
      "|   |   |   |   |   |   |   |   |   |   |--- class: 0\n",
      "|   |   |   |   |   |   |   |   |--- heartRate >  94.50\n",
      "|   |   |   |   |   |   |   |   |   |--- class: 1\n",
      "|   |   |   |   |   |   |   |--- cigsPerDay >  27.50\n",
      "|   |   |   |   |   |   |   |   |--- class: 1\n",
      "|   |   |   |   |   |   |--- totChol >  276.50\n",
      "|   |   |   |   |   |   |   |--- class: 0\n",
      "|   |   |   |   |   |--- totChol >  295.50\n",
      "|   |   |   |   |   |   |--- class: 1\n",
      "|   |   |--- glucose >  147.50\n",
      "|   |   |   |--- class: 1\n",
      "|   |--- bloodPressure >  62.75\n",
      "|   |   |--- cigsPerDay <= 9.50\n",
      "|   |   |   |--- totChol <= 187.50\n",
      "|   |   |   |   |--- class: 1\n",
      "|   |   |   |--- totChol >  187.50\n",
      "|   |   |   |   |--- glucose <= 121.00\n",
      "|   |   |   |   |   |--- age <= 54.50\n",
      "|   |   |   |   |   |   |--- education <= 3.50\n",
      "|   |   |   |   |   |   |   |--- class: 0\n",
      "|   |   |   |   |   |   |--- education >  3.50\n",
      "|   |   |   |   |   |   |   |--- class: 0\n",
      "|   |   |   |   |   |--- age >  54.50\n",
      "|   |   |   |   |   |   |--- totChol <= 241.50\n",
      "|   |   |   |   |   |   |   |--- education <= 1.50\n",
      "|   |   |   |   |   |   |   |   |--- class: 0\n",
      "|   |   |   |   |   |   |   |--- education >  1.50\n",
      "|   |   |   |   |   |   |   |   |--- class: 0\n",
      "|   |   |   |   |   |   |--- totChol >  241.50\n",
      "|   |   |   |   |   |   |   |--- heartRate <= 64.50\n",
      "|   |   |   |   |   |   |   |   |--- class: 0\n",
      "|   |   |   |   |   |   |   |--- heartRate >  64.50\n",
      "|   |   |   |   |   |   |   |   |--- BMI <= 19.75\n",
      "|   |   |   |   |   |   |   |   |   |--- class: 1\n",
      "|   |   |   |   |   |   |   |   |--- BMI >  19.75\n",
      "|   |   |   |   |   |   |   |   |   |--- BMI <= 39.89\n",
      "|   |   |   |   |   |   |   |   |   |   |--- glucose <= 96.50\n",
      "|   |   |   |   |   |   |   |   |   |   |   |--- truncated branch of depth 5\n",
      "|   |   |   |   |   |   |   |   |   |   |--- glucose >  96.50\n",
      "|   |   |   |   |   |   |   |   |   |   |   |--- class: 0\n",
      "|   |   |   |   |   |   |   |   |   |--- BMI >  39.89\n",
      "|   |   |   |   |   |   |   |   |   |   |--- class: 1\n",
      "|   |   |   |   |--- glucose >  121.00\n",
      "|   |   |   |   |   |--- class: 1\n",
      "|   |   |--- cigsPerDay >  9.50\n",
      "|   |   |   |--- glucose <= 67.50\n",
      "|   |   |   |   |--- class: 0\n",
      "|   |   |   |--- glucose >  67.50\n",
      "|   |   |   |   |--- BMI <= 27.11\n",
      "|   |   |   |   |   |--- glucose <= 94.50\n",
      "|   |   |   |   |   |   |--- class: 0\n",
      "|   |   |   |   |   |--- glucose >  94.50\n",
      "|   |   |   |   |   |   |--- class: 1\n",
      "|   |   |   |   |--- BMI >  27.11\n",
      "|   |   |   |   |   |--- class: 1\n",
      "\n"
     ]
    }
   ],
   "source": [
    "# Exporting the tree in text format\n",
    "from sklearn.tree import export_text\n",
    "dt_text_format = export_text(dtc, feature_names=list(train_data.columns))\n",
    "print('Decision tree in text format : \\n%s'%dt_text_format)"
   ]
  },
  {
   "cell_type": "code",
   "execution_count": null,
   "metadata": {
    "cell_id": "00046-aac80924-8cfd-4e0c-9298-d68ad8f0c311",
    "deepnote_cell_height": 415,
    "deepnote_cell_type": "code",
    "deepnote_output_heights": [
     264
    ],
    "deepnote_to_be_reexecuted": false,
    "execution_millis": 271,
    "execution_start": 1652940502530,
    "source_hash": "1dee1624"
   },
   "outputs": [
    {
     "data": {
      "image/png": "[encoded data removed]",
      "text/plain": [
       "<Figure size 432x288 with 2 Axes>"
      ]
     },
     "metadata": {
      "image/png": {
       "height": 262,
       "width": 312
      },
      "needs_background": "light"
     },
     "output_type": "display_data"
    }
   ],
   "source": [
    "# Plot Confusion Matrix for Binary Classes an array that depicts the True Positives, False Positives, False Negatives, and True negatives\n",
    "plot_confusion_matrix(dtc, X_test, y_test, cmap = \"PuBu\")  \n",
    "plt.grid(False)\n",
    "plt.show()"
   ]
  },
  {
   "cell_type": "code",
   "execution_count": null,
   "metadata": {
    "cell_id": "00047-8778b40a-e3ba-474a-bf8e-9b00e65f6829",
    "deepnote_cell_height": 204,
    "deepnote_cell_type": "code",
    "deepnote_to_be_reexecuted": false,
    "execution_millis": 3,
    "execution_start": 1652940502851,
    "source_hash": "363e20c5"
   },
   "outputs": [
    {
     "name": "stdout",
     "output_type": "stream",
     "text": [
      "precision score for Decision tree: 10.0%\n",
      "Accuracy score for Decision tree: 83.72093023255815%\n"
     ]
    }
   ],
   "source": [
    "#Accuracy score for this model\n",
    "dtc_precision = precision_score(dtc_pred, y_test)*100\n",
    "print(\"precision score for Decision tree: \" + str(dtc_precision) + \"%\")\n",
    "dtc_accuracy = accuracy_score(dtc_pred, y_test)*100\n",
    "print(\"Accuracy score for Decision tree: \" + str(dtc_accuracy) + \"%\")"
   ]
  },
  {
   "cell_type": "markdown",
   "metadata": {
    "cell_id": "00048-5ffc1e14-bb86-414d-bcae-0bf844571093",
    "deepnote_cell_height": 62,
    "deepnote_cell_type": "markdown"
   },
   "source": [
    "### 3. kNN Algorithm"
   ]
  },
  {
   "cell_type": "markdown",
   "metadata": {
    "cell_id": "00049-5cbeeb17-08f1-4fcb-ae8f-ab23152a49dc",
    "deepnote_cell_height": 74,
    "deepnote_cell_type": "markdown"
   },
   "source": [
    "We need to find a suitable k for the kNN algorithm. This is done with the brute force method, to repeatedly train the model with different values of k, to find the minimum error. The number of iterations is limited to the square root of dataset size"
   ]
  },
  {
   "cell_type": "code",
   "execution_count": null,
   "metadata": {
    "cell_id": "00050-1e82c084-c526-4037-ab96-fa35bcd1532a",
    "deepnote_cell_height": 172,
    "deepnote_cell_type": "code",
    "deepnote_output_heights": [
     21
    ],
    "deepnote_to_be_reexecuted": false,
    "execution_millis": 3,
    "execution_start": 1652940502851,
    "source_hash": "ac059d2e"
   },
   "outputs": [
    {
     "data": {
      "text/plain": [
       "62.19324722186485"
      ]
     },
     "execution_count": 28,
     "metadata": {},
     "output_type": "execute_result"
    }
   ],
   "source": [
    "import math\n",
    "train_data_size = len(train_data)\n",
    "k = math.sqrt(train_data_size)\n",
    "k"
   ]
  },
  {
   "cell_type": "markdown",
   "metadata": {
    "cell_id": "00051-ed3e95dd-9710-45ac-94e4-033517a8997d",
    "deepnote_cell_height": 52,
    "deepnote_cell_type": "markdown"
   },
   "source": [
    "reference to choose k: https://www.quora.com/How-can-I-choose-the-best-K-in-KNN-K-nearest-neighbour-classification"
   ]
  },
  {
   "cell_type": "code",
   "execution_count": null,
   "metadata": {
    "cell_id": "00052-ddb8f7af-df69-407a-bd99-f9168456e7fb",
    "deepnote_cell_height": 351,
    "deepnote_cell_type": "code",
    "deepnote_to_be_reexecuted": false,
    "execution_millis": 4600,
    "execution_start": 1652940502852,
    "source_hash": "f92cf9aa"
   },
   "outputs": [],
   "source": [
    "#First divide the entire data set into training set and test set. Apply the KNN algorithm into training set and cross validate it with test set.\n",
    "#Lets assume you have a train set xtrain and test set xtest\n",
    "#now create the model with k value 1 and predict with test set data and check the accuracy and other parameters then repeat the same process after increasing the k value by 1 each time.\n",
    "\n",
    "from sklearn.neighbors import KNeighborsClassifier\n",
    "min = 1\n",
    "min_i = 1\n",
    "for i in range(1,62):\n",
    "    knn = KNeighborsClassifier(n_neighbors=i, metric = 'minkowski', p=2)\n",
    "    knn.fit(X_train,y_train)\n",
    "    knn_pred = knn.predict(X_test)\n",
    "    result = np.mean(knn_pred != y_test)\n",
    "    if (result < min):\n",
    "        min = result\n",
    "        min_i = i\n",
    "        "
   ]
  },
  {
   "cell_type": "code",
   "execution_count": null,
   "metadata": {
    "cell_id": "00053-56f7c366-f0b1-486c-9517-574d1dbea0a7",
    "deepnote_cell_height": 130,
    "deepnote_cell_type": "code",
    "deepnote_to_be_reexecuted": false,
    "execution_millis": 41,
    "execution_start": 1652940507462,
    "source_hash": "17b9798f"
   },
   "outputs": [
    {
     "name": "stdout",
     "output_type": "stream",
     "text": [
      "k value that yields the minimum error: 22\n"
     ]
    }
   ],
   "source": [
    "# Return k value that yields the minimum error \n",
    "print(\"k value that yields the minimum error: \" + str(min_i)) "
   ]
  },
  {
   "cell_type": "code",
   "execution_count": null,
   "metadata": {
    "cell_id": "00054-1badb9ed-5753-431d-abd6-78a6c181497f",
    "deepnote_cell_height": 596.84375,
    "deepnote_cell_type": "code",
    "deepnote_output_heights": [
     247.84375
    ],
    "deepnote_to_be_reexecuted": false,
    "execution_millis": 1694,
    "execution_start": 1652940507503,
    "source_hash": "b00e19f1"
   },
   "outputs": [
    {
     "data": {
      "image/png": "[encoded data removed]",
      "text/plain": [
       "<Figure size 1440x360 with 1 Axes>"
      ]
     },
     "metadata": {
      "image/png": {
       "height": 333,
       "width": 1173
      },
      "needs_background": "light"
     },
     "output_type": "display_data"
    }
   ],
   "source": [
    "#The same as above just add graph\n",
    "from sklearn.neighbors import KNeighborsClassifier\n",
    "error_rate = []\n",
    "for i in range(1,min_i):\n",
    "    knn = KNeighborsClassifier(n_neighbors=i, metric = 'minkowski', p=2)\n",
    "    knn.fit(X_train,y_train)\n",
    "    knn_pred = knn.predict(X_test)\n",
    "    error_rate.append(np.mean(knn_pred != y_test))\n",
    "plt.figure(figsize=(20,5))\n",
    "plt.plot(range(1,min_i),error_rate,color='black', \n",
    "         marker='o',markerfacecolor='red', markersize=15)\n",
    "plt.title('Error Rate vs. K Value')\n",
    "plt.xlabel('K')\n",
    "plt.ylabel('Error Rate')\n",
    "plt.show()"
   ]
  },
  {
   "cell_type": "code",
   "execution_count": null,
   "metadata": {
    "cell_id": "00055-f576ddf3-625b-4c37-be9b-c28448f0bc78",
    "deepnote_cell_height": 258,
    "deepnote_cell_type": "code",
    "deepnote_to_be_reexecuted": false,
    "execution_millis": 60,
    "execution_start": 1652940509242,
    "source_hash": "df7c767e"
   },
   "outputs": [
    {
     "name": "stdout",
     "output_type": "stream",
     "text": [
      "precision score for KNN: 100.0%\n",
      "Accuracy score for KNN: 87.20930232558139%\n"
     ]
    }
   ],
   "source": [
    "#train and score\n",
    "knn = KNeighborsClassifier(n_neighbors = min_i, metric = 'minkowski', p=2)\n",
    "knn.fit(X_train, y_train)\n",
    "knn_pred=knn.predict(X_test)\n",
    "knn_precision = precision_score(y_test,knn_pred)*100\n",
    "print(\"precision score for KNN: \" + str(knn_precision) + \"%\")\n",
    "knn_accuracy = accuracy_score(y_test,knn_pred)*100\n",
    "print(\"Accuracy score for KNN: \" + str(knn_accuracy) + \"%\")"
   ]
  },
  {
   "cell_type": "code",
   "execution_count": null,
   "metadata": {
    "cell_id": "00056-43d31773-3682-40d8-8d7d-c7d5c2105b1a",
    "deepnote_cell_height": 433,
    "deepnote_cell_type": "code",
    "deepnote_output_heights": [
     264
    ],
    "deepnote_to_be_reexecuted": false,
    "execution_millis": 297,
    "execution_start": 1652940509308,
    "source_hash": "1692c2d6"
   },
   "outputs": [
    {
     "data": {
      "image/png": "[encoded data removed]",
      "text/plain": [
       "<Figure size 432x288 with 2 Axes>"
      ]
     },
     "metadata": {
      "image/png": {
       "height": 262,
       "width": 312
      },
      "needs_background": "light"
     },
     "output_type": "display_data"
    }
   ],
   "source": [
    "#Confusion matrix\n",
    "plot_confusion_matrix(knn, X_test, y_test, cmap = \"summer\")  \n",
    "plt.grid(False)\n",
    "plt.show()\n"
   ]
  },
  {
   "cell_type": "markdown",
   "metadata": {
    "cell_id": "00057-07b21c84-6f01-4129-bbe5-bf1c29436f76",
    "deepnote_cell_height": 62,
    "deepnote_cell_type": "markdown"
   },
   "source": [
    "### 4. Random Forest Classifier"
   ]
  },
  {
   "cell_type": "code",
   "execution_count": null,
   "metadata": {
    "cell_id": "00058-3c8e72b2-b977-45b5-bffc-082346a15125",
    "deepnote_cell_height": 384,
    "deepnote_cell_type": "code",
    "deepnote_to_be_reexecuted": false,
    "execution_millis": 1379,
    "execution_start": 1652940509654,
    "source_hash": "b282e970"
   },
   "outputs": [
    {
     "name": "stdout",
     "output_type": "stream",
     "text": [
      "precision score of Random Forest Classifier: 100.0%\n",
      "Accuracy score of Random Forest Classifier: 87.20930232558139%\n"
     ]
    }
   ],
   "source": [
    "#Our  Random Forest Classifier model\n",
    "from sklearn.ensemble import RandomForestClassifier\n",
    "rfc=RandomForestClassifier(bootstrap= True,\n",
    "                           max_depth= 80,\n",
    "                           max_features= 2,\n",
    "                           min_samples_leaf= 3,\n",
    "                           min_samples_split= 8,\n",
    "                           n_estimators= 300,\n",
    "                           random_state=0)\n",
    "rfc.fit(X_train, y_train)\n",
    "rfc_pred=rfc.predict(X_test)\n",
    "rfc_precision = precision_score(y_test,rfc_pred)*100\n",
    "print(\"precision score of Random Forest Classifier: \" + str(rfc_precision) + \"%\")\n",
    "rfc_accuracy = accuracy_score(y_test,rfc_pred)*100\n",
    "print(\"Accuracy score of Random Forest Classifier: \" + str(rfc_accuracy) + \"%\")"
   ]
  },
  {
   "cell_type": "code",
   "execution_count": null,
   "metadata": {
    "cell_id": "00059-79c58eb2-0e4c-4c25-84fa-ba9305eb3c38",
    "deepnote_cell_height": 415,
    "deepnote_cell_type": "code",
    "deepnote_output_heights": [
     264
    ],
    "deepnote_to_be_reexecuted": false,
    "execution_millis": 477,
    "execution_start": 1652940511033,
    "source_hash": "21c1f463"
   },
   "outputs": [
    {
     "data": {
      "image/png": "[encoded data removed]",
      "text/plain": [
       "<Figure size 432x288 with 2 Axes>"
      ]
     },
     "metadata": {
      "image/png": {
       "height": 262,
       "width": 312
      },
      "needs_background": "light"
     },
     "output_type": "display_data"
    }
   ],
   "source": [
    "# Results in Confusion matrix\n",
    "plot_confusion_matrix(rfc, X_test, y_test, cmap = \"Reds\")  \n",
    "plt.grid(False)\n",
    "plt.show()"
   ]
  },
  {
   "cell_type": "markdown",
   "metadata": {
    "cell_id": "00060-cf3bcf56-b9aa-47b8-8320-69a423172872",
    "deepnote_cell_height": 62,
    "deepnote_cell_type": "markdown"
   },
   "source": [
    "### 5. Support Vector Machine"
   ]
  },
  {
   "cell_type": "code",
   "execution_count": null,
   "metadata": {
    "cell_id": "00061-f951eac1-e853-42f5-9ba3-1adc6db9cec4",
    "deepnote_cell_height": 276,
    "deepnote_cell_type": "code",
    "deepnote_to_be_reexecuted": false,
    "execution_millis": 814,
    "execution_start": 1652940511522,
    "source_hash": "ab47f05f"
   },
   "outputs": [
    {
     "name": "stdout",
     "output_type": "stream",
     "text": [
      "precision score of Support Vector Machine: 0.0%\n",
      "Accuracy score of Support Vector Machine: 87.08010335917312%\n"
     ]
    }
   ],
   "source": [
    "#Our Support Vector Machine\n",
    "from sklearn.svm import SVC\n",
    "svm = SVC(kernel='rbf', C=10)\n",
    "svm.fit(X_train, y_train)\n",
    "svm_pred= svm.predict(X_test)\n",
    "svm_precision = precision_score(y_test,svm_pred)*100\n",
    "print(\"precision score of Support Vector Machine: \" + str(svm_precision) + \"%\")\n",
    "svm_accuracy = accuracy_score(y_test,svm_pred)*100\n",
    "print(\"Accuracy score of Support Vector Machine: \" + str(svm_accuracy) + \"%\")"
   ]
  },
  {
   "cell_type": "code",
   "execution_count": null,
   "metadata": {
    "cell_id": "00062-4d0a4aa3-28c0-48ec-8cdf-cfa4515c45d0",
    "deepnote_cell_height": 415,
    "deepnote_cell_type": "code",
    "deepnote_output_heights": [
     264
    ],
    "deepnote_to_be_reexecuted": false,
    "execution_millis": 987,
    "execution_start": 1652940512352,
    "source_hash": "c7f6f85a"
   },
   "outputs": [
    {
     "data": {
      "image/png": "[encoded data removed]",
      "text/plain": [
       "<Figure size 432x288 with 2 Axes>"
      ]
     },
     "metadata": {
      "image/png": {
       "height": 262,
       "width": 312
      },
      "needs_background": "light"
     },
     "output_type": "display_data"
    }
   ],
   "source": [
    "#Results with  Confusion matrix\n",
    "plot_confusion_matrix(svm, X_test, y_test, cmap = \"Blues\") \n",
    "plt.grid(False)\n",
    "plt.show()"
   ]
  },
  {
   "cell_type": "markdown",
   "metadata": {
    "cell_id": "6aa2f358eb764b6eacedf73dd355b6fe",
    "deepnote_cell_height": 62,
    "deepnote_cell_type": "markdown",
    "tags": []
   },
   "source": [
    "### 6. Extreme Gradient Boost Classifier"
   ]
  },
  {
   "cell_type": "code",
   "execution_count": null,
   "metadata": {
    "cell_id": "00063-31216811-fd1d-4451-bf3e-282591082649",
    "deepnote_cell_height": 348,
    "deepnote_cell_type": "code",
    "deepnote_to_be_reexecuted": false,
    "execution_millis": 758,
    "execution_start": 1652940512773,
    "source_hash": "768761f1"
   },
   "outputs": [
    {
     "name": "stdout",
     "output_type": "stream",
     "text": [
      "Accuracy of Extreme Gradient Boost: 87.08010335917312%\n",
      "precision of Extreme Gradient Boost: 0.0%\n"
     ]
    }
   ],
   "source": [
    "#Our Extreme Gradient Boost Classifier from XGBClassifier\n",
    "from xgboost import XGBClassifier\n",
    "xgb = XGBClassifier(learning_rate=0.01, n_estimators=25, max_depth=15,gamma=0.6, subsample=0.52,colsample_bytree=0.6,seed=27, \n",
    "                    reg_lambda=2, booster='dart', colsample_bylevel=0.6, colsample_bynode=0.5)\n",
    "xgb.fit(X_train, y_train)\n",
    "xgb_pred = xgb.predict(X_test)\n",
    "xgb_accuracy = accuracy_score(y_test, xgb_pred)*100\n",
    "xgb_precision = precision_score(y_test, xgb_pred)*100\n",
    "#Accuracy scrore\n",
    "print(\"Accuracy of Extreme Gradient Boost: \" + str(xgb_accuracy) + \"%\")\n",
    "#precision scrore\n",
    "print(\"precision of Extreme Gradient Boost: \" + str(xgb_precision) + \"%\")\n"
   ]
  },
  {
   "cell_type": "code",
   "execution_count": null,
   "metadata": {
    "cell_id": "00064-2004d19d-cb84-452f-bc48-95f7bd6700b1",
    "deepnote_cell_height": 415,
    "deepnote_cell_type": "code",
    "deepnote_output_heights": [
     264
    ],
    "deepnote_to_be_reexecuted": false,
    "execution_millis": 284,
    "execution_start": 1652940513539,
    "source_hash": "7196ec46"
   },
   "outputs": [
    {
     "data": {
      "image/png": "[encoded data removed]",
      "text/plain": [
       "<Figure size 432x288 with 2 Axes>"
      ]
     },
     "metadata": {
      "image/png": {
       "height": 262,
       "width": 312
      },
      "needs_background": "light"
     },
     "output_type": "display_data"
    }
   ],
   "source": [
    "#Results with  Confusion matrix\n",
    "plot_confusion_matrix(xgb, X_test, y_test, cmap = \"Reds\")  \n",
    "plt.grid(False)\n",
    "plt.show()"
   ]
  },
  {
   "cell_type": "markdown",
   "metadata": {
    "cell_id": "7fc9dd37e25c476b861cbcf8c758fbd2",
    "deepnote_cell_height": 62,
    "deepnote_cell_type": "markdown",
    "tags": []
   },
   "source": [
    "### 7. Naive Bayes"
   ]
  },
  {
   "cell_type": "code",
   "execution_count": null,
   "metadata": {
    "cell_id": "00065-48e4c65a-e3d2-490b-96c8-0cce1a44d928",
    "deepnote_cell_height": 312,
    "deepnote_cell_type": "code",
    "deepnote_to_be_reexecuted": false,
    "execution_millis": 22,
    "execution_start": 1652940513829,
    "source_hash": "6e5e63ac"
   },
   "outputs": [
    {
     "name": "stdout",
     "output_type": "stream",
     "text": [
      "Accuracy of Naive Bayes: 85.91731266149871%\n",
      "precision of Naive Bayes: 38.46153846153847%\n"
     ]
    }
   ],
   "source": [
    "# One of the most famous algorithm Naive Bayes\n",
    "from sklearn.naive_bayes import GaussianNB\n",
    "nb = GaussianNB()\n",
    "nb.fit(X_train,y_train)\n",
    "nb_pred = nb.predict(X_test)\n",
    "nb_accuracy = accuracy_score(y_test, nb_pred)*100\n",
    "#accuracy score\n",
    "print(\"Accuracy of Naive Bayes: \" + str(nb_accuracy) + \"%\")\n",
    "nb_precision = precision_score(y_test, nb_pred)*100\n",
    "#precision score\n",
    "print(\"precision of Naive Bayes: \" + str(nb_precision) + \"%\")"
   ]
  },
  {
   "cell_type": "code",
   "execution_count": null,
   "metadata": {
    "cell_id": "15f4814a1bdb4b1fad13df7e57b92a07",
    "deepnote_cell_height": 415,
    "deepnote_cell_type": "code",
    "deepnote_output_heights": [
     264
    ],
    "deepnote_to_be_reexecuted": false,
    "execution_millis": 252,
    "execution_start": 1652940513858,
    "source_hash": "bf0c7f09",
    "tags": []
   },
   "outputs": [
    {
     "data": {
      "image/png": "[encoded data removed]",
      "text/plain": [
       "<Figure size 432x288 with 2 Axes>"
      ]
     },
     "metadata": {
      "image/png": {
       "height": 262,
       "width": 312
      },
      "needs_background": "light"
     },
     "output_type": "display_data"
    }
   ],
   "source": [
    "#Results with  Confusion matrix\n",
    "plot_confusion_matrix(nb, X_test, y_test, cmap = \"Blues\")  \n",
    "plt.grid(False)\n",
    "plt.show()"
   ]
  },
  {
   "cell_type": "markdown",
   "metadata": {
    "cell_id": "00066-c6774f29-6c26-4184-8ab6-3b7fe68e5775",
    "deepnote_cell_height": 70,
    "deepnote_cell_type": "markdown"
   },
   "source": [
    "## Models Summary"
   ]
  },
  {
   "cell_type": "code",
   "execution_count": null,
   "metadata": {
    "cell_id": "00067-0264f959-3e43-4c7d-8ebd-3d04595aef01",
    "deepnote_cell_height": 342,
    "deepnote_cell_type": "code",
    "deepnote_to_be_reexecuted": false,
    "execution_millis": 9,
    "execution_start": 1652940514114,
    "source_hash": "598d4e25"
   },
   "outputs": [
    {
     "name": "stdout",
     "output_type": "stream",
     "text": [
      "Logistic Regression       86.950904\n",
      "Decision Tree             83.720930\n",
      "Random Forest             87.209302\n",
      "Support Vector Machine    87.080103\n",
      "K Nearest Neighbor        87.209302\n",
      "XG Boost                  87.080103\n",
      "Naive Bayes               85.917313\n",
      "dtype: float64\n"
     ]
    }
   ],
   "source": [
    "values = np.array([lr_accuracy, dtc_accuracy, rfc_accuracy, svm_accuracy, knn_accuracy, xgb_accuracy, nb_accuracy])\n",
    "index = [\"Logistic Regression\", \"Decision Tree\", \"Random Forest\", \"Support Vector Machine\", \"K Nearest Neighbor\", \"XG Boost\", \"Naive Bayes\"]\n",
    "# # providing an index and summary of the results\n",
    "summary = pd.Series(values, index = index)\n",
    "print(summary)\n"
   ]
  },
  {
   "cell_type": "code",
   "execution_count": null,
   "metadata": {
    "cell_id": "9f3b083500ba4cd792b56aaef340ac53",
    "deepnote_cell_height": 1097,
    "deepnote_cell_type": "code",
    "deepnote_output_heights": [
     280
    ],
    "deepnote_to_be_reexecuted": false,
    "execution_millis": 1025,
    "execution_start": 1652941317986,
    "owner_user_id": "7b8d947d-3fba-4c66-a926-6085f2791cfb",
    "source_hash": "7f8ced2c",
    "tags": []
   },
   "outputs": [
    {
     "data": {
      "image/png": "[encoded data removed]",
      "text/plain": [
       "<Figure size 432x288 with 1 Axes>"
      ]
     },
     "metadata": {
      "image/png": {
       "height": 278,
       "width": 394
      },
      "needs_background": "light"
     },
     "output_type": "display_data"
    }
   ],
   "source": [
    "#ROC and AUC\n",
    "import sklearn.metrics as metrics\n",
    "\n",
    "lr_fpr, lr_tpr, threshold = metrics.roc_curve(y_test, lr_pred)\n",
    "lr_roc_auc = metrics.auc(lr_fpr, lr_tpr)\n",
    "\n",
    "nb_fpr, nb_tpr, threshold = metrics.roc_curve(y_test, nb_pred)\n",
    "nb_roc_auc = metrics.auc(nb_fpr, nb_tpr)\n",
    "\n",
    "dtc_fpr, dtc_tpr, threshold = metrics.roc_curve(y_test, dtc_pred)\n",
    "dtc_roc_auc = metrics.auc(dtc_fpr, dtc_tpr)\n",
    "\n",
    "knn_fpr, knn_tpr, threshold = metrics.roc_curve(y_test, knn_pred)\n",
    "knn_roc_auc = metrics.auc(knn_fpr, knn_tpr)\n",
    "\n",
    "rfc_fpr, rfc_tpr, threshold = metrics.roc_curve(y_test, rfc_pred)\n",
    "rfc_roc_auc = metrics.auc(rfc_fpr, rfc_tpr)\n",
    "\n",
    "svm_fpr, svm_tpr, threshold = metrics.roc_curve(y_test, svm_pred)\n",
    "svm_roc_auc = metrics.auc(svm_fpr, svm_tpr)\n",
    "\n",
    "xgb_fpr, xgb_tpr, threshold = metrics.roc_curve(y_test, xgb_pred)\n",
    "xgb_roc_auc = metrics.auc(xgb_fpr, xgb_tpr)\n",
    "\n",
    "#plot it\n",
    "import matplotlib.pyplot as plt\n",
    "plt.title('Receiver Operating Characteristic')\n",
    "plt.plot(lr_fpr, lr_tpr,  label = 'Logistic Regression AUC = %0.2f' % lr_roc_auc)\n",
    "plt.plot(dtc_fpr, dtc_tpr,  label = 'Decision Tree AUC = %0.2f' % dtc_roc_auc)\n",
    "plt.plot(knn_fpr, knn_tpr,  label = 'K Nearest Neighbor AUC = %0.2f' % knn_roc_auc)\n",
    "plt.plot(rfc_fpr, rfc_tpr,  label = 'Random Forest  AUC = %0.2f' % rfc_roc_auc)\n",
    "plt.plot(svm_fpr, svm_tpr,  label = 'Support Vector Machine AUC = %0.2f' % svm_roc_auc)\n",
    "plt.plot(xgb_fpr, xgb_tpr,  label = 'XG Boost AUC = %0.2f' % xgb_roc_auc)\n",
    "plt.plot(nb_fpr, nb_tpr,  label = 'Naive Bayes AUC = %0.2f' % nb_roc_auc)\n",
    "plt.legend(loc = 'lower right')\n",
    "plt.plot([0, 1], [0, 1],'r--')\n",
    "plt.xlim([0, 1])\n",
    "plt.ylim([0, 1])\n",
    "plt.ylabel('True Positive Rate')\n",
    "plt.xlabel('False Positive Rate')\n",
    "plt.show()"
   ]
  },
  {
   "cell_type": "markdown",
   "metadata": {
    "cell_id": "00069-868f07ff-bf72-4da7-a0ac-2e311c8fc362",
    "deepnote_cell_height": 70,
    "deepnote_cell_type": "markdown"
   },
   "source": [
    "## Models' Accuracy Improvement"
   ]
  },
  {
   "cell_type": "markdown",
   "metadata": {
    "cell_id": "00070-700dfd2c-2878-449b-a7fa-0bc879925e5d",
    "deepnote_cell_height": 62,
    "deepnote_cell_type": "markdown"
   },
   "source": [
    "### 1. Feature Selection"
   ]
  },
  {
   "cell_type": "markdown",
   "metadata": {
    "cell_id": "00071-42f88206-3c0a-4747-b8e7-f284a6d45e2e",
    "deepnote_cell_height": 74,
    "deepnote_cell_type": "markdown"
   },
   "source": [
    "Attributes with highly unbalanced data are removed, as introducing such features into the machine learning model may introduce biasness. Looking at the data distribution, 'BPMeds', 'prevalentStroke', 'diabetes' are removed."
   ]
  },
  {
   "cell_type": "code",
   "execution_count": null,
   "metadata": {
    "cell_id": "00072-f27b0f4d-5486-4af3-8626-9bbc9c5b8aa3",
    "deepnote_cell_height": 99,
    "deepnote_cell_type": "code",
    "deepnote_to_be_reexecuted": false,
    "execution_millis": 1,
    "execution_start": 1652940514542,
    "source_hash": "f30e511a"
   },
   "outputs": [],
   "source": [
    "#Drop some attributes\n",
    "final_data = train_data.drop(['BPMeds', 'prevalentStroke', 'diabetes'], axis = 1)"
   ]
  },
  {
   "cell_type": "code",
   "execution_count": null,
   "metadata": {
    "cell_id": "00073-c2a2ee3d-56a1-4343-8f78-7e7500b94f2a",
    "deepnote_cell_height": 600,
    "deepnote_cell_type": "code",
    "deepnote_to_be_reexecuted": false,
    "execution_millis": 58,
    "execution_start": 1652940514543,
    "source_hash": "a8f1a15e"
   },
   "outputs": [
    {
     "data": {
      "application/vnd.deepnote.dataframe.v3+json": {
       "column_count": 11,
       "columns": [
        {
         "dtype": "int64",
         "name": "male",
         "stats": {
          "histogram": [
           {
            "bin_end": 0.1,
            "bin_start": 0,
            "count": 2154
           },
           {
            "bin_end": 0.2,
            "bin_start": 0.1,
            "count": 0
           },
           {
            "bin_end": 0.30000000000000004,
            "bin_start": 0.2,
            "count": 0
           },
           {
            "bin_end": 0.4,
            "bin_start": 0.30000000000000004,
            "count": 0
           },
           {
            "bin_end": 0.5,
            "bin_start": 0.4,
            "count": 0
           },
           {
            "bin_end": 0.6000000000000001,
            "bin_start": 0.5,
            "count": 0
           },
           {
            "bin_end": 0.7000000000000001,
            "bin_start": 0.6000000000000001,
            "count": 0
           },
           {
            "bin_end": 0.8,
            "bin_start": 0.7000000000000001,
            "count": 0
           },
           {
            "bin_end": 0.9,
            "bin_start": 0.8,
            "count": 0
           },
           {
            "bin_end": 1,
            "bin_start": 0.9,
            "count": 1714
           }
          ],
          "max": "1",
          "min": "0",
          "nan_count": 0,
          "unique_count": 2
         }
        },
        {
         "dtype": "int64",
         "name": "age",
         "stats": {
          "histogram": [
           {
            "bin_end": 35.8,
            "bin_start": 32,
            "count": 62
           },
           {
            "bin_end": 39.6,
            "bin_start": 35.8,
            "count": 469
           },
           {
            "bin_end": 43.4,
            "bin_start": 39.6,
            "count": 677
           },
           {
            "bin_end": 47.2,
            "bin_start": 43.4,
            "count": 606
           },
           {
            "bin_end": 51,
            "bin_start": 47.2,
            "count": 411
           },
           {
            "bin_end": 54.8,
            "bin_start": 51,
            "count": 505
           },
           {
            "bin_end": 58.599999999999994,
            "bin_start": 54.8,
            "count": 458
           },
           {
            "bin_end": 62.4,
            "bin_start": 58.599999999999994,
            "count": 372
           },
           {
            "bin_end": 66.19999999999999,
            "bin_start": 62.4,
            "count": 251
           },
           {
            "bin_end": 70,
            "bin_start": 66.19999999999999,
            "count": 57
           }
          ],
          "max": "70",
          "min": "32",
          "nan_count": 0,
          "unique_count": 39
         }
        },
        {
         "dtype": "float64",
         "name": "education",
         "stats": {
          "histogram": [
           {
            "bin_end": 1.3,
            "bin_start": 1,
            "count": 1636
           },
           {
            "bin_end": 1.6,
            "bin_start": 1.3,
            "count": 0
           },
           {
            "bin_end": 1.9,
            "bin_start": 1.6,
            "count": 0
           },
           {
            "bin_end": 2.2,
            "bin_start": 1.9,
            "count": 1152
           },
           {
            "bin_end": 2.5,
            "bin_start": 2.2,
            "count": 0
           },
           {
            "bin_end": 2.8,
            "bin_start": 2.5,
            "count": 0
           },
           {
            "bin_end": 3.1,
            "bin_start": 2.8,
            "count": 633
           },
           {
            "bin_end": 3.4,
            "bin_start": 3.1,
            "count": 0
           },
           {
            "bin_end": 3.6999999999999997,
            "bin_start": 3.4,
            "count": 0
           },
           {
            "bin_end": 4,
            "bin_start": 3.6999999999999997,
            "count": 447
           }
          ],
          "max": "4.0",
          "min": "1.0",
          "nan_count": 0,
          "unique_count": 4
         }
        },
        {
         "dtype": "int64",
         "name": "currentSmoker",
         "stats": {
          "histogram": [
           {
            "bin_end": 0.1,
            "bin_start": 0,
            "count": 1943
           },
           {
            "bin_end": 0.2,
            "bin_start": 0.1,
            "count": 0
           },
           {
            "bin_end": 0.30000000000000004,
            "bin_start": 0.2,
            "count": 0
           },
           {
            "bin_end": 0.4,
            "bin_start": 0.30000000000000004,
            "count": 0
           },
           {
            "bin_end": 0.5,
            "bin_start": 0.4,
            "count": 0
           },
           {
            "bin_end": 0.6000000000000001,
            "bin_start": 0.5,
            "count": 0
           },
           {
            "bin_end": 0.7000000000000001,
            "bin_start": 0.6000000000000001,
            "count": 0
           },
           {
            "bin_end": 0.8,
            "bin_start": 0.7000000000000001,
            "count": 0
           },
           {
            "bin_end": 0.9,
            "bin_start": 0.8,
            "count": 0
           },
           {
            "bin_end": 1,
            "bin_start": 0.9,
            "count": 1925
           }
          ],
          "max": "1",
          "min": "0",
          "nan_count": 0,
          "unique_count": 2
         }
        },
        {
         "dtype": "float64",
         "name": "cigsPerDay",
         "stats": {
          "histogram": [
           {
            "bin_end": 7,
            "bin_start": 0,
            "count": 2267
           },
           {
            "bin_end": 14,
            "bin_start": 7,
            "count": 274
           },
           {
            "bin_end": 21,
            "bin_start": 14,
            "count": 901
           },
           {
            "bin_end": 28,
            "bin_start": 21,
            "count": 57
           },
           {
            "bin_end": 35,
            "bin_start": 28,
            "count": 201
           },
           {
            "bin_end": 42,
            "bin_start": 35,
            "count": 98
           },
           {
            "bin_end": 49,
            "bin_start": 42,
            "count": 52
           },
           {
            "bin_end": 56,
            "bin_start": 49,
            "count": 6
           },
           {
            "bin_end": 63,
            "bin_start": 56,
            "count": 11
           },
           {
            "bin_end": 70,
            "bin_start": 63,
            "count": 1
           }
          ],
          "max": "70.0",
          "min": "0.0",
          "nan_count": 0,
          "unique_count": 33
         }
        },
        {
         "dtype": "int64",
         "name": "prevalentHyp",
         "stats": {
          "histogram": [
           {
            "bin_end": 0.1,
            "bin_start": 0,
            "count": 2792
           },
           {
            "bin_end": 0.2,
            "bin_start": 0.1,
            "count": 0
           },
           {
            "bin_end": 0.30000000000000004,
            "bin_start": 0.2,
            "count": 0
           },
           {
            "bin_end": 0.4,
            "bin_start": 0.30000000000000004,
            "count": 0
           },
           {
            "bin_end": 0.5,
            "bin_start": 0.4,
            "count": 0
           },
           {
            "bin_end": 0.6000000000000001,
            "bin_start": 0.5,
            "count": 0
           },
           {
            "bin_end": 0.7000000000000001,
            "bin_start": 0.6000000000000001,
            "count": 0
           },
           {
            "bin_end": 0.8,
            "bin_start": 0.7000000000000001,
            "count": 0
           },
           {
            "bin_end": 0.9,
            "bin_start": 0.8,
            "count": 0
           },
           {
            "bin_end": 1,
            "bin_start": 0.9,
            "count": 1076
           }
          ],
          "max": "1",
          "min": "0",
          "nan_count": 0,
          "unique_count": 2
         }
        },
        {
         "dtype": "float64",
         "name": "totChol",
         "stats": {
          "histogram": [
           {
            "bin_end": 146.3,
            "bin_start": 124,
            "count": 16
           },
           {
            "bin_end": 168.6,
            "bin_start": 146.3,
            "count": 165
           },
           {
            "bin_end": 190.9,
            "bin_start": 168.6,
            "count": 373
           },
           {
            "bin_end": 213.2,
            "bin_start": 190.9,
            "count": 687
           },
           {
            "bin_end": 235.5,
            "bin_start": 213.2,
            "count": 806
           },
           {
            "bin_end": 257.8,
            "bin_start": 235.5,
            "count": 735
           },
           {
            "bin_end": 280.1,
            "bin_start": 257.8,
            "count": 572
           },
           {
            "bin_end": 302.4,
            "bin_start": 280.1,
            "count": 288
           },
           {
            "bin_end": 324.70000000000005,
            "bin_start": 302.4,
            "count": 142
           },
           {
            "bin_end": 347,
            "bin_start": 324.70000000000005,
            "count": 84
           }
          ],
          "max": "347.0",
          "min": "124.0",
          "nan_count": 0,
          "unique_count": 206
         }
        },
        {
         "dtype": "float64",
         "name": "bloodPressure",
         "stats": {
          "histogram": [
           {
            "bin_end": 24.9,
            "bin_start": 15,
            "count": 20
           },
           {
            "bin_end": 34.8,
            "bin_start": 24.9,
            "count": 441
           },
           {
            "bin_end": 44.7,
            "bin_start": 34.8,
            "count": 1251
           },
           {
            "bin_end": 54.6,
            "bin_start": 44.7,
            "count": 1207
           },
           {
            "bin_end": 64.5,
            "bin_start": 54.6,
            "count": 548
           },
           {
            "bin_end": 74.4,
            "bin_start": 64.5,
            "count": 257
           },
           {
            "bin_end": 84.3,
            "bin_start": 74.4,
            "count": 106
           },
           {
            "bin_end": 94.2,
            "bin_start": 84.3,
            "count": 29
           },
           {
            "bin_end": 104.10000000000001,
            "bin_start": 94.2,
            "count": 7
           },
           {
            "bin_end": 114,
            "bin_start": 104.10000000000001,
            "count": 2
           }
          ],
          "max": "114.0",
          "min": "15.0",
          "nan_count": 0,
          "unique_count": 148
         }
        },
        {
         "dtype": "float64",
         "name": "BMI",
         "stats": {
          "histogram": [
           {
            "bin_end": 18.566,
            "bin_start": 15.54,
            "count": 57
           },
           {
            "bin_end": 21.592,
            "bin_start": 18.566,
            "count": 463
           },
           {
            "bin_end": 24.618,
            "bin_start": 21.592,
            "count": 1150
           },
           {
            "bin_end": 27.644,
            "bin_start": 24.618,
            "count": 1152
           },
           {
            "bin_end": 30.669999999999998,
            "bin_start": 27.644,
            "count": 683
           },
           {
            "bin_end": 33.696,
            "bin_start": 30.669999999999998,
            "count": 243
           },
           {
            "bin_end": 36.721999999999994,
            "bin_start": 33.696,
            "count": 76
           },
           {
            "bin_end": 39.748,
            "bin_start": 36.721999999999994,
            "count": 27
           },
           {
            "bin_end": 42.774,
            "bin_start": 39.748,
            "count": 14
           },
           {
            "bin_end": 45.8,
            "bin_start": 42.774,
            "count": 3
           }
          ],
          "max": "45.8",
          "min": "15.54",
          "nan_count": 0,
          "unique_count": 1285
         }
        },
        {
         "dtype": "float64",
         "name": "heartRate",
         "stats": {
          "histogram": [
           {
            "bin_end": 53.4,
            "bin_start": 48,
            "count": 56
           },
           {
            "bin_end": 58.8,
            "bin_start": 53.4,
            "count": 130
           },
           {
            "bin_end": 64.2,
            "bin_start": 58.8,
            "count": 437
           },
           {
            "bin_end": 69.6,
            "bin_start": 64.2,
            "count": 541
           },
           {
            "bin_end": 75,
            "bin_start": 69.6,
            "count": 628
           },
           {
            "bin_end": 80.4,
            "bin_start": 75,
            "count": 1108
           },
           {
            "bin_end": 85.80000000000001,
            "bin_start": 80.4,
            "count": 369
           },
           {
            "bin_end": 91.2,
            "bin_start": 85.80000000000001,
            "count": 308
           },
           {
            "bin_end": 96.6,
            "bin_start": 91.2,
            "count": 189
           },
           {
            "bin_end": 102,
            "bin_start": 96.6,
            "count": 102
           }
          ],
          "max": "102.0",
          "min": "48.0",
          "nan_count": 0,
          "unique_count": 54
         }
        },
        {
         "dtype": "float64",
         "name": "glucose",
         "stats": {
          "histogram": [
           {
            "bin_end": 75.4,
            "bin_start": 40,
            "count": 1784
           },
           {
            "bin_end": 110.8,
            "bin_start": 75.4,
            "count": 1933
           },
           {
            "bin_end": 146.2,
            "bin_start": 110.8,
            "count": 111
           },
           {
            "bin_end": 181.6,
            "bin_start": 146.2,
            "count": 14
           },
           {
            "bin_end": 217,
            "bin_start": 181.6,
            "count": 9
           },
           {
            "bin_end": 252.39999999999998,
            "bin_start": 217,
            "count": 5
           },
           {
            "bin_end": 287.79999999999995,
            "bin_start": 252.39999999999998,
            "count": 4
           },
           {
            "bin_end": 323.2,
            "bin_start": 287.79999999999995,
            "count": 2
           },
           {
            "bin_end": 358.59999999999997,
            "bin_start": 323.2,
            "count": 3
           },
           {
            "bin_end": 394,
            "bin_start": 358.59999999999997,
            "count": 3
           }
          ],
          "max": "394.0",
          "min": "40.0",
          "nan_count": 0,
          "unique_count": 133
         }
        },
        {
         "dtype": "int64",
         "name": "_deepnote_index_column"
        }
       ],
       "row_count": 3868,
       "rows": [
        {
         "BMI": 26.97,
         "_deepnote_index_column": 0,
         "age": 39,
         "bloodPressure": 36,
         "cigsPerDay": 0,
         "currentSmoker": 0,
         "education": 4,
         "glucose": 77,
         "heartRate": 80,
         "male": 1,
         "prevalentHyp": 0,
         "totChol": 195
        },
        {
         "BMI": 28.73,
         "_deepnote_index_column": 1,
         "age": 46,
         "bloodPressure": 40,
         "cigsPerDay": 0,
         "currentSmoker": 0,
         "education": 2,
         "glucose": 76,
         "heartRate": 95,
         "male": 0,
         "prevalentHyp": 0,
         "totChol": 250
        },
        {
         "BMI": 25.34,
         "_deepnote_index_column": 2,
         "age": 48,
         "bloodPressure": 47.5,
         "cigsPerDay": 20,
         "currentSmoker": 1,
         "education": 1,
         "glucose": 70,
         "heartRate": 75,
         "male": 1,
         "prevalentHyp": 0,
         "totChol": 245
        },
        {
         "BMI": 28.58,
         "_deepnote_index_column": 3,
         "age": 61,
         "bloodPressure": 55,
         "cigsPerDay": 30,
         "currentSmoker": 1,
         "education": 3,
         "glucose": 103,
         "heartRate": 65,
         "male": 0,
         "prevalentHyp": 1,
         "totChol": 225
        },
        {
         "BMI": 23.1,
         "_deepnote_index_column": 4,
         "age": 46,
         "bloodPressure": 46,
         "cigsPerDay": 23,
         "currentSmoker": 1,
         "education": 3,
         "glucose": 85,
         "heartRate": 85,
         "male": 0,
         "prevalentHyp": 0,
         "totChol": 285
        },
        {
         "BMI": 30.3,
         "_deepnote_index_column": 5,
         "age": 43,
         "bloodPressure": 70,
         "cigsPerDay": 0,
         "currentSmoker": 0,
         "education": 2,
         "glucose": 99,
         "heartRate": 77,
         "male": 0,
         "prevalentHyp": 1,
         "totChol": 228
        },
        {
         "BMI": 33.11,
         "_deepnote_index_column": 6,
         "age": 63,
         "bloodPressure": 67,
         "cigsPerDay": 0,
         "currentSmoker": 0,
         "education": 1,
         "glucose": 85,
         "heartRate": 60,
         "male": 0,
         "prevalentHyp": 0,
         "totChol": 205
        },
        {
         "BMI": 21.68,
         "_deepnote_index_column": 7,
         "age": 45,
         "bloodPressure": 29,
         "cigsPerDay": 20,
         "currentSmoker": 1,
         "education": 2,
         "glucose": 78,
         "heartRate": 79,
         "male": 0,
         "prevalentHyp": 0,
         "totChol": 313
        },
        {
         "BMI": 26.36,
         "_deepnote_index_column": 8,
         "age": 52,
         "bloodPressure": 52.5,
         "cigsPerDay": 0,
         "currentSmoker": 0,
         "education": 1,
         "glucose": 79,
         "heartRate": 76,
         "male": 1,
         "prevalentHyp": 1,
         "totChol": 260
        },
        {
         "BMI": 23.61,
         "_deepnote_index_column": 9,
         "age": 43,
         "bloodPressure": 55,
         "cigsPerDay": 30,
         "currentSmoker": 1,
         "education": 1,
         "glucose": 88,
         "heartRate": 93,
         "male": 1,
         "prevalentHyp": 1,
         "totChol": 225
        }
       ]
      },
      "text/html": [
       "<div>\n",
       "<style scoped>\n",
       "    .dataframe tbody tr th:only-of-type {\n",
       "        vertical-align: middle;\n",
       "    }\n",
       "\n",
       "    .dataframe tbody tr th {\n",
       "        vertical-align: top;\n",
       "    }\n",
       "\n",
       "    .dataframe thead th {\n",
       "        text-align: right;\n",
       "    }\n",
       "</style>\n",
       "<table border=\"1\" class=\"dataframe\">\n",
       "  <thead>\n",
       "    <tr style=\"text-align: right;\">\n",
       "      <th></th>\n",
       "      <th>male</th>\n",
       "      <th>age</th>\n",
       "      <th>education</th>\n",
       "      <th>currentSmoker</th>\n",
       "      <th>cigsPerDay</th>\n",
       "      <th>prevalentHyp</th>\n",
       "      <th>totChol</th>\n",
       "      <th>bloodPressure</th>\n",
       "      <th>BMI</th>\n",
       "      <th>heartRate</th>\n",
       "      <th>glucose</th>\n",
       "    </tr>\n",
       "  </thead>\n",
       "  <tbody>\n",
       "    <tr>\n",
       "      <th>0</th>\n",
       "      <td>1</td>\n",
       "      <td>39</td>\n",
       "      <td>4.0</td>\n",
       "      <td>0</td>\n",
       "      <td>0.0</td>\n",
       "      <td>0</td>\n",
       "      <td>195.0</td>\n",
       "      <td>36.0</td>\n",
       "      <td>26.97</td>\n",
       "      <td>80.0</td>\n",
       "      <td>77.0</td>\n",
       "    </tr>\n",
       "    <tr>\n",
       "      <th>1</th>\n",
       "      <td>0</td>\n",
       "      <td>46</td>\n",
       "      <td>2.0</td>\n",
       "      <td>0</td>\n",
       "      <td>0.0</td>\n",
       "      <td>0</td>\n",
       "      <td>250.0</td>\n",
       "      <td>40.0</td>\n",
       "      <td>28.73</td>\n",
       "      <td>95.0</td>\n",
       "      <td>76.0</td>\n",
       "    </tr>\n",
       "    <tr>\n",
       "      <th>2</th>\n",
       "      <td>1</td>\n",
       "      <td>48</td>\n",
       "      <td>1.0</td>\n",
       "      <td>1</td>\n",
       "      <td>20.0</td>\n",
       "      <td>0</td>\n",
       "      <td>245.0</td>\n",
       "      <td>47.5</td>\n",
       "      <td>25.34</td>\n",
       "      <td>75.0</td>\n",
       "      <td>70.0</td>\n",
       "    </tr>\n",
       "    <tr>\n",
       "      <th>3</th>\n",
       "      <td>0</td>\n",
       "      <td>61</td>\n",
       "      <td>3.0</td>\n",
       "      <td>1</td>\n",
       "      <td>30.0</td>\n",
       "      <td>1</td>\n",
       "      <td>225.0</td>\n",
       "      <td>55.0</td>\n",
       "      <td>28.58</td>\n",
       "      <td>65.0</td>\n",
       "      <td>103.0</td>\n",
       "    </tr>\n",
       "    <tr>\n",
       "      <th>4</th>\n",
       "      <td>0</td>\n",
       "      <td>46</td>\n",
       "      <td>3.0</td>\n",
       "      <td>1</td>\n",
       "      <td>23.0</td>\n",
       "      <td>0</td>\n",
       "      <td>285.0</td>\n",
       "      <td>46.0</td>\n",
       "      <td>23.10</td>\n",
       "      <td>85.0</td>\n",
       "      <td>85.0</td>\n",
       "    </tr>\n",
       "    <tr>\n",
       "      <th>...</th>\n",
       "      <td>...</td>\n",
       "      <td>...</td>\n",
       "      <td>...</td>\n",
       "      <td>...</td>\n",
       "      <td>...</td>\n",
       "      <td>...</td>\n",
       "      <td>...</td>\n",
       "      <td>...</td>\n",
       "      <td>...</td>\n",
       "      <td>...</td>\n",
       "      <td>...</td>\n",
       "    </tr>\n",
       "    <tr>\n",
       "      <th>4233</th>\n",
       "      <td>1</td>\n",
       "      <td>50</td>\n",
       "      <td>1.0</td>\n",
       "      <td>1</td>\n",
       "      <td>1.0</td>\n",
       "      <td>1</td>\n",
       "      <td>313.0</td>\n",
       "      <td>87.0</td>\n",
       "      <td>25.97</td>\n",
       "      <td>66.0</td>\n",
       "      <td>86.0</td>\n",
       "    </tr>\n",
       "    <tr>\n",
       "      <th>4234</th>\n",
       "      <td>1</td>\n",
       "      <td>51</td>\n",
       "      <td>3.0</td>\n",
       "      <td>1</td>\n",
       "      <td>43.0</td>\n",
       "      <td>0</td>\n",
       "      <td>207.0</td>\n",
       "      <td>46.5</td>\n",
       "      <td>19.71</td>\n",
       "      <td>65.0</td>\n",
       "      <td>68.0</td>\n",
       "    </tr>\n",
       "    <tr>\n",
       "      <th>4235</th>\n",
       "      <td>0</td>\n",
       "      <td>48</td>\n",
       "      <td>2.0</td>\n",
       "      <td>1</td>\n",
       "      <td>20.0</td>\n",
       "      <td>0</td>\n",
       "      <td>248.0</td>\n",
       "      <td>59.0</td>\n",
       "      <td>22.00</td>\n",
       "      <td>84.0</td>\n",
       "      <td>86.0</td>\n",
       "    </tr>\n",
       "    <tr>\n",
       "      <th>4236</th>\n",
       "      <td>0</td>\n",
       "      <td>44</td>\n",
       "      <td>1.0</td>\n",
       "      <td>1</td>\n",
       "      <td>15.0</td>\n",
       "      <td>0</td>\n",
       "      <td>210.0</td>\n",
       "      <td>39.5</td>\n",
       "      <td>19.16</td>\n",
       "      <td>86.0</td>\n",
       "      <td>75.0</td>\n",
       "    </tr>\n",
       "    <tr>\n",
       "      <th>4237</th>\n",
       "      <td>0</td>\n",
       "      <td>52</td>\n",
       "      <td>2.0</td>\n",
       "      <td>0</td>\n",
       "      <td>0.0</td>\n",
       "      <td>0</td>\n",
       "      <td>269.0</td>\n",
       "      <td>50.5</td>\n",
       "      <td>21.47</td>\n",
       "      <td>80.0</td>\n",
       "      <td>107.0</td>\n",
       "    </tr>\n",
       "  </tbody>\n",
       "</table>\n",
       "<p>3868 rows × 11 columns</p>\n",
       "</div>"
      ],
      "text/plain": [
       "      male  age  education  currentSmoker  cigsPerDay  prevalentHyp  totChol  \\\n",
       "0        1   39        4.0              0         0.0             0    195.0   \n",
       "1        0   46        2.0              0         0.0             0    250.0   \n",
       "2        1   48        1.0              1        20.0             0    245.0   \n",
       "3        0   61        3.0              1        30.0             1    225.0   \n",
       "4        0   46        3.0              1        23.0             0    285.0   \n",
       "...    ...  ...        ...            ...         ...           ...      ...   \n",
       "4233     1   50        1.0              1         1.0             1    313.0   \n",
       "4234     1   51        3.0              1        43.0             0    207.0   \n",
       "4235     0   48        2.0              1        20.0             0    248.0   \n",
       "4236     0   44        1.0              1        15.0             0    210.0   \n",
       "4237     0   52        2.0              0         0.0             0    269.0   \n",
       "\n",
       "      bloodPressure    BMI  heartRate  glucose  \n",
       "0              36.0  26.97       80.0     77.0  \n",
       "1              40.0  28.73       95.0     76.0  \n",
       "2              47.5  25.34       75.0     70.0  \n",
       "3              55.0  28.58       65.0    103.0  \n",
       "4              46.0  23.10       85.0     85.0  \n",
       "...             ...    ...        ...      ...  \n",
       "4233           87.0  25.97       66.0     86.0  \n",
       "4234           46.5  19.71       65.0     68.0  \n",
       "4235           59.0  22.00       84.0     86.0  \n",
       "4236           39.5  19.16       86.0     75.0  \n",
       "4237           50.5  21.47       80.0    107.0  \n",
       "\n",
       "[3868 rows x 11 columns]"
      ]
     },
     "execution_count": 45,
     "metadata": {},
     "output_type": "execute_result"
    }
   ],
   "source": [
    "final_data # take another look"
   ]
  },
  {
   "cell_type": "code",
   "execution_count": null,
   "metadata": {
    "cell_id": "00074-4881a97f-256f-44af-a572-b67f11e33039",
    "deepnote_cell_height": 207,
    "deepnote_cell_type": "code",
    "deepnote_to_be_reexecuted": false,
    "execution_millis": 1,
    "execution_start": 1652940514646,
    "source_hash": "d00a978c"
   },
   "outputs": [],
   "source": [
    "#Select features according to the k highest scores.\n",
    "from sklearn.feature_selection import SelectKBest, chi2\n",
    "bestfeatures = SelectKBest(score_func=chi2, k=5)\n",
    "fit = bestfeatures.fit(final_data, test_data)\n",
    "dfscores = pd.DataFrame(fit.scores_)\n",
    "dfcolumns = pd.DataFrame(final_data.columns)\n",
    "featureScores = pd.concat([dfcolumns,dfscores],axis=1)\n",
    "featureScores.columns = ['Variable','Score'] "
   ]
  },
  {
   "cell_type": "code",
   "execution_count": null,
   "metadata": {
    "cell_id": "00075-70242bf6-1d64-4460-a66c-039704ad6523",
    "deepnote_cell_height": 596.453125,
    "deepnote_cell_type": "code",
    "deepnote_output_heights": [
     373.453125
    ],
    "deepnote_to_be_reexecuted": false,
    "execution_millis": 378,
    "execution_start": 1652940514647,
    "source_hash": "67180586"
   },
   "outputs": [
    {
     "data": {
      "image/png": "[encoded data removed]",
      "text/plain": [
       "<Figure size 1440x576 with 1 Axes>"
      ]
     },
     "metadata": {
      "image/png": {
       "height": 507,
       "width": 1182
      },
      "needs_background": "light"
     },
     "output_type": "display_data"
    }
   ],
   "source": [
    "#The bar chart of features decending according to the k highest scores.\n",
    "fscores = featureScores.sort_values(by='Score', ascending = False)\n",
    "plt.figure(figsize=(20,8))\n",
    "sns.barplot(x='Variable', y='Score', data=fscores, palette =\"Paired\")\n",
    "plt.title('Feature importance')\n",
    "plt.xlabel('\\n Features')\n",
    "plt.ylabel('Importance \\n')\n",
    "plt.show()"
   ]
  },
  {
   "cell_type": "markdown",
   "metadata": {
    "cell_id": "00076-a25efed7-5476-4c9b-8df7-d27fc19344b6",
    "deepnote_cell_height": 74,
    "deepnote_cell_type": "markdown"
   },
   "source": [
    "as prevalentHyp, sysBP, and diaBP are highly correlated, keeping one feature out of 3 is enough. In this case, sysBP is chosen for it has the largest feature score."
   ]
  },
  {
   "cell_type": "code",
   "execution_count": null,
   "metadata": {
    "cell_id": "00077-725889b6-5bde-4b70-b0de-fd3945fbe53f",
    "deepnote_cell_height": 117,
    "deepnote_cell_type": "code",
    "deepnote_to_be_reexecuted": false,
    "execution_millis": 2,
    "execution_start": 1652940515034,
    "source_hash": "c33125a3"
   },
   "outputs": [],
   "source": [
    "#Final data for retrain\n",
    "features = ['cigsPerDay', 'bloodPressure', 'age', 'glucose', 'totChol', 'male', 'prevalentHyp']\n",
    "final_data = train_data[features]"
   ]
  },
  {
   "cell_type": "markdown",
   "metadata": {
    "cell_id": "00078-f2feba20-c99d-48aa-8f0b-db553b13abee",
    "deepnote_cell_height": 54,
    "deepnote_cell_type": "markdown"
   },
   "source": [
    "#### Re-train Model after Feature Selection"
   ]
  },
  {
   "cell_type": "code",
   "execution_count": null,
   "metadata": {
    "cell_id": "00079-b655cada-579b-4e4a-ae55-e3dfdc03b44c",
    "deepnote_cell_height": 99,
    "deepnote_cell_type": "code",
    "deepnote_to_be_reexecuted": false,
    "execution_millis": 5,
    "execution_start": 1652940515049,
    "source_hash": "a6064f3e"
   },
   "outputs": [],
   "source": [
    "# dataset splitting\n",
    "X_train, X_test, y_train, y_test = train_test_split(final_data, test_data,test_size=0.2, random_state = 0)"
   ]
  },
  {
   "cell_type": "code",
   "execution_count": null,
   "metadata": {
    "cell_id": "00080-feefebd6-c5c2-4d18-8c9f-5f409912ff57",
    "deepnote_cell_height": 1174,
    "deepnote_cell_type": "code",
    "deepnote_to_be_reexecuted": false,
    "execution_millis": 6127,
    "execution_start": 1652940515085,
    "source_hash": "4f7e5f02"
   },
   "outputs": [
    {
     "name": "stdout",
     "output_type": "stream",
     "text": [
      "87.59689922480621\n"
     ]
    }
   ],
   "source": [
    "# logistic regression\n",
    "\n",
    "lr = LogisticRegression()\n",
    "lr.fit(X_train, y_train)\n",
    "lr_pred_1 = lr.predict(X_test)\n",
    "\n",
    "lr_accuracy_1 = accuracy_score(lr_pred_1, y_test)*100\n",
    "print(lr_accuracy_1)\n",
    "# print(\"Accuracy for Logistic Regression Model: \" + str(lr_accuracy) + \"%\")\n",
    "\n",
    "# Decision tree\n",
    "dtc = DecisionTreeClassifier(min_samples_split=40, random_state=0) \n",
    "dtc.fit(X_train, y_train)\n",
    "dtc_pred_1 = dtc.predict(X_test)\n",
    "\n",
    "dtc_accuracy_1 = accuracy_score(dtc_pred_1, y_test)*100\n",
    "#K-Nearest Neighbor \n",
    "min = 1\n",
    "min_i = 1\n",
    "for i in range(1,62):\n",
    "    knn = KNeighborsClassifier(n_neighbors=i, metric = 'minkowski', p=2)\n",
    "    knn.fit(X_train,y_train)\n",
    "    knn_pred = knn.predict(X_test)\n",
    "    result = np.mean(knn_pred != y_test)\n",
    "    if (result < min):\n",
    "        min = result\n",
    "        min_i = i\n",
    "        \n",
    "knn = KNeighborsClassifier(n_neighbors = min_i, metric = 'minkowski', p=2)\n",
    "knn.fit(X_train, y_train)\n",
    "knn_pred_1=knn.predict(X_test)\n",
    "knn_accuracy_1 = accuracy_score(y_test,knn_pred_1)*100\n",
    "#Random Forest Classifier\n",
    "rfc=RandomForestClassifier(bootstrap= True,\n",
    "                           max_depth= 80,\n",
    "                           max_features= 2,\n",
    "                           min_samples_leaf= 3,\n",
    "                           min_samples_split= 8,\n",
    "                           n_estimators= 300,\n",
    "                           random_state=0)\n",
    "rfc.fit(X_train, y_train)\n",
    "rfc_pred_1=rfc.predict(X_test)\n",
    "rfc_accuracy_1 = accuracy_score(y_test,rfc_pred_1)*100\n",
    "# Support Vector \n",
    "svm = SVC(kernel='rbf', C=10)\n",
    "svm.fit(X_train, y_train)\n",
    "svm_pred_1= svm.predict(X_test)\n",
    "svm_accuracy_1 = accuracy_score(y_test,svm_pred_1)*100\n",
    "\n",
    "#XG Boost\n",
    "xgb = XGBClassifier(learning_rate=0.01, n_estimators=25, max_depth=15,gamma=0.6, subsample=0.52,colsample_bytree=0.6,seed=27, \n",
    "                    reg_lambda=2, booster='dart', colsample_bylevel=0.6, colsample_bynode=0.5)\n",
    "xgb.fit(X_train, y_train)\n",
    "xgb_pred_1 = xgb.predict(X_test)\n",
    "xgb_accuracy_1 = accuracy_score(y_test, xgb_pred_1)*100\n",
    "#Gaussian Naive Bayes\n",
    "nb = GaussianNB()\n",
    "nb.fit(X_train,y_train)\n",
    "nb_pred_1 = nb.predict(X_test)\n",
    "nb_accuracy_1 = accuracy_score(y_test, nb_pred_1)*100"
   ]
  },
  {
   "cell_type": "code",
   "execution_count": null,
   "metadata": {
    "cell_id": "00081-0d2d0a25-b3e0-48e1-8841-2b2273e0cfa4",
    "deepnote_cell_height": 324,
    "deepnote_cell_type": "code",
    "deepnote_to_be_reexecuted": false,
    "execution_millis": 2,
    "execution_start": 1652940521220,
    "source_hash": "7f3abb74"
   },
   "outputs": [
    {
     "name": "stdout",
     "output_type": "stream",
     "text": [
      "Logistic Regression       87.596899\n",
      "Decision Tree             85.271318\n",
      "Random Forest             87.080103\n",
      "Support Vector Machine    87.080103\n",
      "K Nearest Neighbor        87.209302\n",
      "XG Boost                  87.080103\n",
      "Naive Bayes               85.658915\n",
      "dtype: float64\n"
     ]
    }
   ],
   "source": [
    "values_1 = np.array([lr_accuracy_1, dtc_accuracy_1, rfc_accuracy_1, svm_accuracy_1, knn_accuracy_1, xgb_accuracy_1, nb_accuracy_1])\n",
    "index = [\"Logistic Regression\", \"Decision Tree\", \"Random Forest\", \"Support Vector Machine\", \"K Nearest Neighbor\", \"XG Boost\", \"Naive Bayes\"]\n",
    "# # providing an index\n",
    "summary_1 = pd.Series(values_1, index = index)\n",
    "print(summary_1)"
   ]
  },
  {
   "cell_type": "code",
   "execution_count": null,
   "metadata": {
    "cell_id": "9871c666d026409f9a82e023bbe5ceab",
    "deepnote_cell_height": 1097,
    "deepnote_cell_type": "code",
    "deepnote_output_heights": [
     280
    ],
    "deepnote_to_be_reexecuted": false,
    "execution_millis": 1562,
    "execution_start": 1652941304630,
    "source_hash": "dc701656",
    "tags": []
   },
   "outputs": [
    {
     "data": {
      "image/png": "[encoded data removed]",
      "text/plain": [
       "<Figure size 432x288 with 1 Axes>"
      ]
     },
     "metadata": {
      "image/png": {
       "height": 278,
       "width": 394
      },
      "needs_background": "light"
     },
     "output_type": "display_data"
    }
   ],
   "source": [
    "#ROC and AUC\n",
    "import sklearn.metrics as metrics\n",
    "\n",
    "lr_fpr, lr_tpr, threshold = metrics.roc_curve(y_test, lr_pred_1)\n",
    "lr_roc_auc = metrics.auc(lr_fpr, lr_tpr)\n",
    "\n",
    "nb_fpr, nb_tpr, threshold = metrics.roc_curve(y_test, nb_pred_1)\n",
    "nb_roc_auc = metrics.auc(nb_fpr, nb_tpr)\n",
    "\n",
    "dtc_fpr, dtc_tpr, threshold = metrics.roc_curve(y_test, dtc_pred_1)\n",
    "dtc_roc_auc = metrics.auc(dtc_fpr, dtc_tpr)\n",
    "\n",
    "knn_fpr, knn_tpr, threshold = metrics.roc_curve(y_test, knn_pred_1)\n",
    "knn_roc_auc = metrics.auc(knn_fpr, knn_tpr)\n",
    "\n",
    "rfc_fpr, rfc_tpr, threshold = metrics.roc_curve(y_test, rfc_pred_1)\n",
    "rfc_roc_auc = metrics.auc(rfc_fpr, rfc_tpr)\n",
    "\n",
    "svm_fpr, svm_tpr, threshold = metrics.roc_curve(y_test, svm_pred_1)\n",
    "svm_roc_auc = metrics.auc(svm_fpr, svm_tpr)\n",
    "\n",
    "xgb_fpr, xgb_tpr, threshold = metrics.roc_curve(y_test, xgb_pred_1)\n",
    "xgb_roc_auc = metrics.auc(xgb_fpr, xgb_tpr)\n",
    "\n",
    "#plot it\n",
    "import matplotlib.pyplot as plt\n",
    "plt.title('Receiver Operating Characteristic')\n",
    "plt.plot(lr_fpr, lr_tpr,  label = 'Logistic Regression AUC = %0.2f' % lr_roc_auc)\n",
    "plt.plot(dtc_fpr, dtc_tpr,  label = 'Decision Tree AUC = %0.2f' % dtc_roc_auc)\n",
    "plt.plot(knn_fpr, knn_tpr,  label = 'K Nearest Neighbor AUC = %0.2f' % knn_roc_auc)\n",
    "plt.plot(rfc_fpr, rfc_tpr,  label = 'Random Forest  AUC = %0.2f' % rfc_roc_auc)\n",
    "plt.plot(svm_fpr, svm_tpr,  label = 'Support Vector Machine AUC = %0.2f' % svm_roc_auc)\n",
    "plt.plot(xgb_fpr, xgb_tpr,  label = 'XG Boost AUC = %0.2f' % xgb_roc_auc)\n",
    "plt.plot(nb_fpr, nb_tpr,  label = 'Naive Bayes AUC = %0.2f' % nb_roc_auc)\n",
    "plt.legend(loc = 'lower right')\n",
    "plt.plot([0, 1], [0, 1],'r--')\n",
    "plt.xlim([0, 1])\n",
    "plt.ylim([0, 1])\n",
    "plt.ylabel('True Positive Rate')\n",
    "plt.xlabel('False Positive Rate')\n",
    "plt.show()"
   ]
  },
  {
   "cell_type": "markdown",
   "metadata": {
    "cell_id": "00082-e7e4d1a1-ca71-47e5-a161-dbd9a7f77d61",
    "deepnote_cell_height": 62,
    "deepnote_cell_type": "markdown"
   },
   "source": [
    "### 2. Feature Scaling"
   ]
  },
  {
   "cell_type": "markdown",
   "metadata": {
    "cell_id": "00083-3aa6f14e-3e78-499b-a703-389379c22892",
    "deepnote_cell_height": 118,
    "deepnote_cell_type": "markdown"
   },
   "source": [
    "This step is done to standardize the values in the dataset, which are spreaded across different ranges. Upon the completion of this step, values in our dataset are scaled to values between 0 to 1. RobustScaler is utilized for this step, where the median is removed and data is scaled according the quantile range. This scaler is chosen as some of the outliers in the dataset are kept, and hence removing the mean and scale it according to unit variance (StandardScaler) may not be optimal"
   ]
  },
  {
   "cell_type": "code",
   "execution_count": null,
   "metadata": {
    "cell_id": "00085-dd353b96-f5f0-4cb4-b44b-0051869f965f",
    "deepnote_cell_height": 521,
    "deepnote_cell_type": "code",
    "deepnote_to_be_reexecuted": false,
    "execution_millis": 85,
    "execution_start": 1652940521685,
    "source_hash": "a748c995"
   },
   "outputs": [
    {
     "data": {
      "application/vnd.deepnote.dataframe.v3+json": {
       "column_count": 14,
       "columns": [
        {
         "dtype": "float64",
         "name": 0,
         "stats": {
          "histogram": [
           {
            "bin_end": 0.1,
            "bin_start": 0,
            "count": 2
           },
           {
            "bin_end": 0.2,
            "bin_start": 0.1,
            "count": 0
           },
           {
            "bin_end": 0.30000000000000004,
            "bin_start": 0.2,
            "count": 0
           },
           {
            "bin_end": 0.4,
            "bin_start": 0.30000000000000004,
            "count": 0
           },
           {
            "bin_end": 0.5,
            "bin_start": 0.4,
            "count": 0
           },
           {
            "bin_end": 0.6000000000000001,
            "bin_start": 0.5,
            "count": 0
           },
           {
            "bin_end": 0.7000000000000001,
            "bin_start": 0.6000000000000001,
            "count": 0
           },
           {
            "bin_end": 0.8,
            "bin_start": 0.7000000000000001,
            "count": 0
           },
           {
            "bin_end": 0.9,
            "bin_start": 0.8,
            "count": 0
           },
           {
            "bin_end": 1,
            "bin_start": 0.9,
            "count": 3
           }
          ],
          "max": "1.0",
          "min": "0.0",
          "nan_count": 0,
          "unique_count": 2
         }
        },
        {
         "dtype": "float64",
         "name": 1,
         "stats": {
          "histogram": [
           {
            "bin_end": -0.7714285714285714,
            "bin_start": -0.8571428571428571,
            "count": 1
           },
           {
            "bin_end": -0.6857142857142857,
            "bin_start": -0.7714285714285714,
            "count": 1
           },
           {
            "bin_end": -0.6,
            "bin_start": -0.6857142857142857,
            "count": 0
           },
           {
            "bin_end": -0.5142857142857142,
            "bin_start": -0.6,
            "count": 1
           },
           {
            "bin_end": -0.4285714285714285,
            "bin_start": -0.5142857142857142,
            "count": 0
           },
           {
            "bin_end": -0.34285714285714286,
            "bin_start": -0.4285714285714285,
            "count": 0
           },
           {
            "bin_end": -0.2571428571428571,
            "bin_start": -0.34285714285714286,
            "count": 1
           },
           {
            "bin_end": -0.17142857142857137,
            "bin_start": -0.2571428571428571,
            "count": 0
           },
           {
            "bin_end": -0.08571428571428563,
            "bin_start": -0.17142857142857137,
            "count": 0
           },
           {
            "bin_end": 0,
            "bin_start": -0.08571428571428563,
            "count": 1
           }
          ],
          "max": "0.0",
          "min": "-0.8571428571428571",
          "nan_count": 0,
          "unique_count": 5
         }
        },
        {
         "dtype": "float64",
         "name": 2,
         "stats": {
          "histogram": [
           {
            "bin_end": -0.35,
            "bin_start": -0.5,
            "count": 2
           },
           {
            "bin_end": -0.2,
            "bin_start": -0.35,
            "count": 0
           },
           {
            "bin_end": -0.050000000000000044,
            "bin_start": -0.2,
            "count": 0
           },
           {
            "bin_end": 0.09999999999999998,
            "bin_start": -0.050000000000000044,
            "count": 2
           },
           {
            "bin_end": 0.25,
            "bin_start": 0.09999999999999998,
            "count": 0
           },
           {
            "bin_end": 0.3999999999999999,
            "bin_start": 0.25,
            "count": 0
           },
           {
            "bin_end": 0.55,
            "bin_start": 0.3999999999999999,
            "count": 0
           },
           {
            "bin_end": 0.7,
            "bin_start": 0.55,
            "count": 0
           },
           {
            "bin_end": 0.8499999999999999,
            "bin_start": 0.7,
            "count": 0
           },
           {
            "bin_end": 1,
            "bin_start": 0.8499999999999999,
            "count": 1
           }
          ],
          "max": "1.0",
          "min": "-0.5",
          "nan_count": 0,
          "unique_count": 3
         }
        },
        {
         "dtype": "float64",
         "name": 3,
         "stats": {
          "histogram": [
           {
            "bin_end": -0.9,
            "bin_start": -1,
            "count": 3
           },
           {
            "bin_end": -0.8,
            "bin_start": -0.9,
            "count": 0
           },
           {
            "bin_end": -0.7,
            "bin_start": -0.8,
            "count": 0
           },
           {
            "bin_end": -0.6,
            "bin_start": -0.7,
            "count": 0
           },
           {
            "bin_end": -0.5,
            "bin_start": -0.6,
            "count": 0
           },
           {
            "bin_end": -0.3999999999999999,
            "bin_start": -0.5,
            "count": 0
           },
           {
            "bin_end": -0.29999999999999993,
            "bin_start": -0.3999999999999999,
            "count": 0
           },
           {
            "bin_end": -0.19999999999999996,
            "bin_start": -0.29999999999999993,
            "count": 0
           },
           {
            "bin_end": -0.09999999999999998,
            "bin_start": -0.19999999999999996,
            "count": 0
           },
           {
            "bin_end": 0,
            "bin_start": -0.09999999999999998,
            "count": 2
           }
          ],
          "max": "0.0",
          "min": "-1.0",
          "nan_count": 0,
          "unique_count": 2
         }
        },
        {
         "dtype": "float64",
         "name": 4,
         "stats": {
          "histogram": [
           {
            "bin_end": 0.15,
            "bin_start": 0,
            "count": 3
           },
           {
            "bin_end": 0.3,
            "bin_start": 0.15,
            "count": 0
           },
           {
            "bin_end": 0.44999999999999996,
            "bin_start": 0.3,
            "count": 0
           },
           {
            "bin_end": 0.6,
            "bin_start": 0.44999999999999996,
            "count": 0
           },
           {
            "bin_end": 0.75,
            "bin_start": 0.6,
            "count": 0
           },
           {
            "bin_end": 0.8999999999999999,
            "bin_start": 0.75,
            "count": 0
           },
           {
            "bin_end": 1.05,
            "bin_start": 0.8999999999999999,
            "count": 1
           },
           {
            "bin_end": 1.2,
            "bin_start": 1.05,
            "count": 0
           },
           {
            "bin_end": 1.3499999999999999,
            "bin_start": 1.2,
            "count": 0
           },
           {
            "bin_end": 1.5,
            "bin_start": 1.3499999999999999,
            "count": 1
           }
          ],
          "max": "1.5",
          "min": "0.0",
          "nan_count": 0,
          "unique_count": 3
         }
        },
        {
         "dtype": "float64",
         "name": 5,
         "stats": {
          "histogram": [
           {
            "bin_end": -0.4,
            "bin_start": -0.5,
            "count": 0
           },
           {
            "bin_end": -0.3,
            "bin_start": -0.4,
            "count": 0
           },
           {
            "bin_end": -0.19999999999999996,
            "bin_start": -0.3,
            "count": 0
           },
           {
            "bin_end": -0.09999999999999998,
            "bin_start": -0.19999999999999996,
            "count": 0
           },
           {
            "bin_end": 0,
            "bin_start": -0.09999999999999998,
            "count": 0
           },
           {
            "bin_end": 0.10000000000000009,
            "bin_start": 0,
            "count": 5
           },
           {
            "bin_end": 0.20000000000000007,
            "bin_start": 0.10000000000000009,
            "count": 0
           },
           {
            "bin_end": 0.30000000000000004,
            "bin_start": 0.20000000000000007,
            "count": 0
           },
           {
            "bin_end": 0.4,
            "bin_start": 0.30000000000000004,
            "count": 0
           },
           {
            "bin_end": 0.5,
            "bin_start": 0.4,
            "count": 0
           }
          ],
          "max": "0.0",
          "min": "0.0",
          "nan_count": 0,
          "unique_count": 1
         }
        },
        {
         "dtype": "float64",
         "name": 6,
         "stats": {
          "histogram": [
           {
            "bin_end": -0.4,
            "bin_start": -0.5,
            "count": 0
           },
           {
            "bin_end": -0.3,
            "bin_start": -0.4,
            "count": 0
           },
           {
            "bin_end": -0.19999999999999996,
            "bin_start": -0.3,
            "count": 0
           },
           {
            "bin_end": -0.09999999999999998,
            "bin_start": -0.19999999999999996,
            "count": 0
           },
           {
            "bin_end": 0,
            "bin_start": -0.09999999999999998,
            "count": 0
           },
           {
            "bin_end": 0.10000000000000009,
            "bin_start": 0,
            "count": 5
           },
           {
            "bin_end": 0.20000000000000007,
            "bin_start": 0.10000000000000009,
            "count": 0
           },
           {
            "bin_end": 0.30000000000000004,
            "bin_start": 0.20000000000000007,
            "count": 0
           },
           {
            "bin_end": 0.4,
            "bin_start": 0.30000000000000004,
            "count": 0
           },
           {
            "bin_end": 0.5,
            "bin_start": 0.4,
            "count": 0
           }
          ],
          "max": "0.0",
          "min": "0.0",
          "nan_count": 0,
          "unique_count": 1
         }
        },
        {
         "dtype": "float64",
         "name": 7,
         "stats": {
          "histogram": [
           {
            "bin_end": 0.1,
            "bin_start": 0,
            "count": 3
           },
           {
            "bin_end": 0.2,
            "bin_start": 0.1,
            "count": 0
           },
           {
            "bin_end": 0.30000000000000004,
            "bin_start": 0.2,
            "count": 0
           },
           {
            "bin_end": 0.4,
            "bin_start": 0.30000000000000004,
            "count": 0
           },
           {
            "bin_end": 0.5,
            "bin_start": 0.4,
            "count": 0
           },
           {
            "bin_end": 0.6000000000000001,
            "bin_start": 0.5,
            "count": 0
           },
           {
            "bin_end": 0.7000000000000001,
            "bin_start": 0.6000000000000001,
            "count": 0
           },
           {
            "bin_end": 0.8,
            "bin_start": 0.7000000000000001,
            "count": 0
           },
           {
            "bin_end": 0.9,
            "bin_start": 0.8,
            "count": 0
           },
           {
            "bin_end": 1,
            "bin_start": 0.9,
            "count": 2
           }
          ],
          "max": "1.0",
          "min": "0.0",
          "nan_count": 0,
          "unique_count": 2
         }
        },
        {
         "dtype": "float64",
         "name": 8,
         "stats": {
          "histogram": [
           {
            "bin_end": 0.1,
            "bin_start": 0,
            "count": 4
           },
           {
            "bin_end": 0.2,
            "bin_start": 0.1,
            "count": 0
           },
           {
            "bin_end": 0.30000000000000004,
            "bin_start": 0.2,
            "count": 0
           },
           {
            "bin_end": 0.4,
            "bin_start": 0.30000000000000004,
            "count": 0
           },
           {
            "bin_end": 0.5,
            "bin_start": 0.4,
            "count": 0
           },
           {
            "bin_end": 0.6000000000000001,
            "bin_start": 0.5,
            "count": 0
           },
           {
            "bin_end": 0.7000000000000001,
            "bin_start": 0.6000000000000001,
            "count": 0
           },
           {
            "bin_end": 0.8,
            "bin_start": 0.7000000000000001,
            "count": 0
           },
           {
            "bin_end": 0.9,
            "bin_start": 0.8,
            "count": 0
           },
           {
            "bin_end": 1,
            "bin_start": 0.9,
            "count": 1
           }
          ],
          "max": "1.0",
          "min": "0.0",
          "nan_count": 0,
          "unique_count": 2
         }
        },
        {
         "dtype": "float64",
         "name": 9,
         "stats": {
          "histogram": [
           {
            "bin_end": -0.6327272727272727,
            "bin_start": -0.7454545454545455,
            "count": 1
           },
           {
            "bin_end": -0.52,
            "bin_start": -0.6327272727272727,
            "count": 0
           },
           {
            "bin_end": -0.40727272727272723,
            "bin_start": -0.52,
            "count": 1
           },
           {
            "bin_end": -0.2945454545454545,
            "bin_start": -0.40727272727272723,
            "count": 1
           },
           {
            "bin_end": -0.18181818181818177,
            "bin_start": -0.2945454545454545,
            "count": 0
           },
           {
            "bin_end": -0.06909090909090898,
            "bin_start": -0.18181818181818177,
            "count": 1
           },
           {
            "bin_end": 0.043636363636363695,
            "bin_start": -0.06909090909090898,
            "count": 0
           },
           {
            "bin_end": 0.15636363636363648,
            "bin_start": 0.043636363636363695,
            "count": 0
           },
           {
            "bin_end": 0.26909090909090916,
            "bin_start": 0.15636363636363648,
            "count": 0
           },
           {
            "bin_end": 0.38181818181818183,
            "bin_start": 0.26909090909090916,
            "count": 1
           }
          ],
          "max": "0.38181818181818183",
          "min": "-0.7454545454545455",
          "nan_count": 0,
          "unique_count": 5
         }
        },
        {
         "dtype": "float64",
         "name": 10,
         "stats": {
          "histogram": [
           {
            "bin_end": -0.22580645161290325,
            "bin_start": -0.45161290322580644,
            "count": 1
           },
           {
            "bin_end": -5.551115123125783e-17,
            "bin_start": -0.22580645161290325,
            "count": 1
           },
           {
            "bin_end": 0.22580645161290308,
            "bin_start": -5.551115123125783e-17,
            "count": 1
           },
           {
            "bin_end": 0.45161290322580633,
            "bin_start": 0.22580645161290308,
            "count": 1
           },
           {
            "bin_end": 0.6774193548387095,
            "bin_start": 0.45161290322580633,
            "count": 0
           },
           {
            "bin_end": 0.9032258064516125,
            "bin_start": 0.6774193548387095,
            "count": 0
           },
           {
            "bin_end": 1.1290322580645158,
            "bin_start": 0.9032258064516125,
            "count": 0
           },
           {
            "bin_end": 1.354838709677419,
            "bin_start": 1.1290322580645158,
            "count": 0
           },
           {
            "bin_end": 1.580645161290322,
            "bin_start": 1.354838709677419,
            "count": 0
           },
           {
            "bin_end": 1.8064516129032258,
            "bin_start": 1.580645161290322,
            "count": 1
           }
          ],
          "max": "1.8064516129032258",
          "min": "-0.45161290322580644",
          "nan_count": 0,
          "unique_count": 5
         }
        },
        {
         "dtype": "float64",
         "name": 11,
         "stats": {
          "histogram": [
           {
            "bin_end": 0.027600000000000766,
            "bin_start": -0.028999999999999203,
            "count": 2
           },
           {
            "bin_end": 0.08420000000000073,
            "bin_start": 0.027600000000000766,
            "count": 0
           },
           {
            "bin_end": 0.1408000000000007,
            "bin_start": 0.08420000000000073,
            "count": 1
           },
           {
            "bin_end": 0.19740000000000069,
            "bin_start": 0.1408000000000007,
            "count": 0
           },
           {
            "bin_end": 0.25400000000000067,
            "bin_start": 0.19740000000000069,
            "count": 0
           },
           {
            "bin_end": 0.3106000000000006,
            "bin_start": 0.25400000000000067,
            "count": 0
           },
           {
            "bin_end": 0.3672000000000006,
            "bin_start": 0.3106000000000006,
            "count": 0
           },
           {
            "bin_end": 0.42380000000000057,
            "bin_start": 0.3672000000000006,
            "count": 1
           },
           {
            "bin_end": 0.48040000000000055,
            "bin_start": 0.42380000000000057,
            "count": 0
           },
           {
            "bin_end": 0.5370000000000005,
            "bin_start": 0.48040000000000055,
            "count": 1
           }
          ],
          "max": "0.5370000000000005",
          "min": "-0.028999999999999203",
          "nan_count": 0,
          "unique_count": 5
         }
        },
        {
         "dtype": "float64",
         "name": 12,
         "stats": {
          "histogram": [
           {
            "bin_end": -0.5642857142857143,
            "bin_start": -0.7857142857142857,
            "count": 1
           },
           {
            "bin_end": -0.3428571428571428,
            "bin_start": -0.5642857142857143,
            "count": 0
           },
           {
            "bin_end": -0.12142857142857133,
            "bin_start": -0.3428571428571428,
            "count": 0
           },
           {
            "bin_end": 0.10000000000000009,
            "bin_start": -0.12142857142857133,
            "count": 1
           },
           {
            "bin_end": 0.3214285714285715,
            "bin_start": 0.10000000000000009,
            "count": 1
           },
           {
            "bin_end": 0.542857142857143,
            "bin_start": 0.3214285714285715,
            "count": 0
           },
           {
            "bin_end": 0.7642857142857143,
            "bin_start": 0.542857142857143,
            "count": 0
           },
           {
            "bin_end": 0.9857142857142859,
            "bin_start": 0.7642857142857143,
            "count": 0
           },
           {
            "bin_end": 1.2071428571428573,
            "bin_start": 0.9857142857142859,
            "count": 0
           },
           {
            "bin_end": 1.4285714285714286,
            "bin_start": 1.2071428571428573,
            "count": 2
           }
          ],
          "max": "1.4285714285714286",
          "min": "-0.7857142857142857",
          "nan_count": 0,
          "unique_count": 4
         }
        },
        {
         "dtype": "float64",
         "name": 13,
         "stats": {
          "histogram": [
           {
            "bin_end": 0.4076923076923077,
            "bin_start": -0.5384615384615384,
            "count": 1
           },
           {
            "bin_end": 1.353846153846154,
            "bin_start": 0.4076923076923077,
            "count": 2
           },
           {
            "bin_end": 2.3,
            "bin_start": 1.353846153846154,
            "count": 0
           },
           {
            "bin_end": 3.246153846153846,
            "bin_start": 2.3,
            "count": 1
           },
           {
            "bin_end": 4.1923076923076925,
            "bin_start": 3.246153846153846,
            "count": 0
           },
           {
            "bin_end": 5.138461538461538,
            "bin_start": 4.1923076923076925,
            "count": 0
           },
           {
            "bin_end": 6.084615384615384,
            "bin_start": 5.138461538461538,
            "count": 0
           },
           {
            "bin_end": 7.030769230769231,
            "bin_start": 6.084615384615384,
            "count": 0
           },
           {
            "bin_end": 7.976923076923077,
            "bin_start": 7.030769230769231,
            "count": 0
           },
           {
            "bin_end": 8.923076923076923,
            "bin_start": 7.976923076923077,
            "count": 1
           }
          ],
          "max": "8.923076923076923",
          "min": "-0.5384615384615384",
          "nan_count": 0,
          "unique_count": 5
         }
        },
        {
         "dtype": "int64",
         "name": "_deepnote_index_column"
        }
       ],
       "row_count": 5,
       "rows": [
        {
         "0": 1,
         "1": -0.2857142857142857,
         "2": -0.5,
         "3": -1,
         "4": 0,
         "5": 0,
         "6": 0,
         "7": 1,
         "8": 1,
         "9": -0.4727272727272727,
         "10": 1.8064516129032258,
         "11": 0.5370000000000005,
         "12": 1.4285714285714286,
         "13": 8.923076923076923,
         "_deepnote_index_column": 0
        },
        {
         "0": 0,
         "1": 0,
         "2": -0.5,
         "3": -1,
         "4": 0,
         "5": 0,
         "6": 0,
         "7": 0,
         "8": 0,
         "9": -0.7454545454545455,
         "10": 0.3225806451612903,
         "11": -0.028999999999999203,
         "12": -0.7857142857142857,
         "13": 1,
         "_deepnote_index_column": 1
        },
        {
         "0": 0,
         "1": -0.7142857142857143,
         "2": 0,
         "3": 0,
         "4": 1.5,
         "5": 0,
         "6": 0,
         "7": 0,
         "8": 0,
         "9": 0.38181818181818183,
         "10": -0.45161290322580644,
         "11": 0.01700000000000017,
         "12": 0.14285714285714285,
         "13": 0.8461538461538461,
         "_deepnote_index_column": 2
        },
        {
         "0": 1,
         "1": -0.8571428571428571,
         "2": 0,
         "3": 0,
         "4": 1,
         "5": 0,
         "6": 0,
         "7": 0,
         "8": 0,
         "9": -0.14545454545454545,
         "10": 0.12903225806451613,
         "11": 0.11900000000000048,
         "12": 0,
         "13": -0.5384615384615384,
         "_deepnote_index_column": 3
        },
        {
         "0": 1,
         "1": -0.5714285714285714,
         "2": 1,
         "3": -1,
         "4": 0,
         "5": 0,
         "6": 0,
         "7": 1,
         "8": 0,
         "9": -0.38181818181818183,
         "10": -0.0967741935483871,
         "11": 0.4190000000000005,
         "12": 1.4285714285714286,
         "13": 3.076923076923077,
         "_deepnote_index_column": 4
        }
       ]
      },
      "text/html": [
       "<div>\n",
       "<style scoped>\n",
       "    .dataframe tbody tr th:only-of-type {\n",
       "        vertical-align: middle;\n",
       "    }\n",
       "\n",
       "    .dataframe tbody tr th {\n",
       "        vertical-align: top;\n",
       "    }\n",
       "\n",
       "    .dataframe thead th {\n",
       "        text-align: right;\n",
       "    }\n",
       "</style>\n",
       "<table border=\"1\" class=\"dataframe\">\n",
       "  <thead>\n",
       "    <tr style=\"text-align: right;\">\n",
       "      <th></th>\n",
       "      <th>0</th>\n",
       "      <th>1</th>\n",
       "      <th>2</th>\n",
       "      <th>3</th>\n",
       "      <th>4</th>\n",
       "      <th>5</th>\n",
       "      <th>6</th>\n",
       "      <th>7</th>\n",
       "      <th>8</th>\n",
       "      <th>9</th>\n",
       "      <th>10</th>\n",
       "      <th>11</th>\n",
       "      <th>12</th>\n",
       "      <th>13</th>\n",
       "    </tr>\n",
       "  </thead>\n",
       "  <tbody>\n",
       "    <tr>\n",
       "      <th>0</th>\n",
       "      <td>1.0</td>\n",
       "      <td>-0.285714</td>\n",
       "      <td>-0.5</td>\n",
       "      <td>-1.0</td>\n",
       "      <td>0.0</td>\n",
       "      <td>0.0</td>\n",
       "      <td>0.0</td>\n",
       "      <td>1.0</td>\n",
       "      <td>1.0</td>\n",
       "      <td>-0.472727</td>\n",
       "      <td>1.806452</td>\n",
       "      <td>0.537</td>\n",
       "      <td>1.428571</td>\n",
       "      <td>8.923077</td>\n",
       "    </tr>\n",
       "    <tr>\n",
       "      <th>1</th>\n",
       "      <td>0.0</td>\n",
       "      <td>0.000000</td>\n",
       "      <td>-0.5</td>\n",
       "      <td>-1.0</td>\n",
       "      <td>0.0</td>\n",
       "      <td>0.0</td>\n",
       "      <td>0.0</td>\n",
       "      <td>0.0</td>\n",
       "      <td>0.0</td>\n",
       "      <td>-0.745455</td>\n",
       "      <td>0.322581</td>\n",
       "      <td>-0.029</td>\n",
       "      <td>-0.785714</td>\n",
       "      <td>1.000000</td>\n",
       "    </tr>\n",
       "    <tr>\n",
       "      <th>2</th>\n",
       "      <td>0.0</td>\n",
       "      <td>-0.714286</td>\n",
       "      <td>0.0</td>\n",
       "      <td>0.0</td>\n",
       "      <td>1.5</td>\n",
       "      <td>0.0</td>\n",
       "      <td>0.0</td>\n",
       "      <td>0.0</td>\n",
       "      <td>0.0</td>\n",
       "      <td>0.381818</td>\n",
       "      <td>-0.451613</td>\n",
       "      <td>0.017</td>\n",
       "      <td>0.142857</td>\n",
       "      <td>0.846154</td>\n",
       "    </tr>\n",
       "    <tr>\n",
       "      <th>3</th>\n",
       "      <td>1.0</td>\n",
       "      <td>-0.857143</td>\n",
       "      <td>0.0</td>\n",
       "      <td>0.0</td>\n",
       "      <td>1.0</td>\n",
       "      <td>0.0</td>\n",
       "      <td>0.0</td>\n",
       "      <td>0.0</td>\n",
       "      <td>0.0</td>\n",
       "      <td>-0.145455</td>\n",
       "      <td>0.129032</td>\n",
       "      <td>0.119</td>\n",
       "      <td>0.000000</td>\n",
       "      <td>-0.538462</td>\n",
       "    </tr>\n",
       "    <tr>\n",
       "      <th>4</th>\n",
       "      <td>1.0</td>\n",
       "      <td>-0.571429</td>\n",
       "      <td>1.0</td>\n",
       "      <td>-1.0</td>\n",
       "      <td>0.0</td>\n",
       "      <td>0.0</td>\n",
       "      <td>0.0</td>\n",
       "      <td>1.0</td>\n",
       "      <td>0.0</td>\n",
       "      <td>-0.381818</td>\n",
       "      <td>-0.096774</td>\n",
       "      <td>0.419</td>\n",
       "      <td>1.428571</td>\n",
       "      <td>3.076923</td>\n",
       "    </tr>\n",
       "  </tbody>\n",
       "</table>\n",
       "</div>"
      ],
      "text/plain": [
       "    0         1    2    3    4    5    6    7    8         9         10  \\\n",
       "0  1.0 -0.285714 -0.5 -1.0  0.0  0.0  0.0  1.0  1.0 -0.472727  1.806452   \n",
       "1  0.0  0.000000 -0.5 -1.0  0.0  0.0  0.0  0.0  0.0 -0.745455  0.322581   \n",
       "2  0.0 -0.714286  0.0  0.0  1.5  0.0  0.0  0.0  0.0  0.381818 -0.451613   \n",
       "3  1.0 -0.857143  0.0  0.0  1.0  0.0  0.0  0.0  0.0 -0.145455  0.129032   \n",
       "4  1.0 -0.571429  1.0 -1.0  0.0  0.0  0.0  1.0  0.0 -0.381818 -0.096774   \n",
       "\n",
       "      11        12        13  \n",
       "0  0.537  1.428571  8.923077  \n",
       "1 -0.029 -0.785714  1.000000  \n",
       "2  0.017  0.142857  0.846154  \n",
       "3  0.119  0.000000 -0.538462  \n",
       "4  0.419  1.428571  3.076923  "
      ]
     },
     "execution_count": 54,
     "metadata": {},
     "output_type": "execute_result"
    }
   ],
   "source": [
    "\n",
    "X_train, X_test, y_train, y_test = train_test_split(train_data, test_data,test_size=0.2, random_state = 0)\n",
    "from sklearn.preprocessing import RobustScaler\n",
    "scaler = RobustScaler()\n",
    "X_train=pd.DataFrame(scaler.fit_transform(X_train))\n",
    "X_test=pd.DataFrame(scaler.transform(X_test))\n",
    "X_train.head()"
   ]
  },
  {
   "cell_type": "code",
   "execution_count": null,
   "metadata": {
    "cell_id": "00086-182f2797-84f2-4cda-9d39-90387bfb37f8",
    "deepnote_cell_height": 1156,
    "deepnote_cell_type": "code",
    "deepnote_to_be_reexecuted": false,
    "execution_millis": 8406,
    "execution_start": 1652940521783,
    "source_hash": "a9faeb04"
   },
   "outputs": [
    {
     "name": "stdout",
     "output_type": "stream",
     "text": [
      "87.85529715762273\n"
     ]
    }
   ],
   "source": [
    "# logistic regression\n",
    "\n",
    "lr = LogisticRegression()\n",
    "lr.fit(X_train, y_train)\n",
    "lr_pred_2 = lr.predict(X_test)\n",
    "\n",
    "lr_accuracy_2 = accuracy_score(lr_pred_2, y_test)*100\n",
    "print(lr_accuracy_2)\n",
    "# print(\"Accuracy for Logistic Regression Model: \" + str(lr_accuracy) + \"%\")\n",
    "\n",
    "# decision tree\n",
    "dtc = DecisionTreeClassifier(min_samples_split=40, random_state=0) \n",
    "dtc.fit(X_train, y_train)\n",
    "dtc_pred_2 = dtc.predict(X_test)\n",
    "\n",
    "dtc_accuracy_2 = accuracy_score(dtc_pred_2, y_test)*100\n",
    "#K-Nearest Neighbor \n",
    "min = 1\n",
    "min_i = 1\n",
    "for i in range(1,62):\n",
    "    knn = KNeighborsClassifier(n_neighbors=i, metric = 'minkowski', p=2)\n",
    "    knn.fit(X_train,y_train)\n",
    "    knn_pred = knn.predict(X_test)\n",
    "    result = np.mean(knn_pred != y_test)\n",
    "    if (result < min):\n",
    "        min = result\n",
    "        min_i = i\n",
    "        \n",
    "knn = KNeighborsClassifier(n_neighbors = min_i, metric = 'minkowski', p=2)\n",
    "knn.fit(X_train, y_train)\n",
    "knn_pred_2 = knn.predict(X_test)\n",
    "knn_accuracy_2 = accuracy_score(y_test,knn_pred_2)*100\n",
    "#Random Forest\n",
    "rfc=RandomForestClassifier(bootstrap= True,\n",
    "                           max_depth= 80,\n",
    "                           max_features= 2,\n",
    "                           min_samples_leaf= 3,\n",
    "                           min_samples_split= 8,\n",
    "                           n_estimators= 300,\n",
    "                           random_state=0)\n",
    "rfc.fit(X_train, y_train)\n",
    "rfc_pred_2=rfc.predict(X_test)\n",
    "rfc_accuracy_2 = accuracy_score(y_test,rfc_pred_2)*100\n",
    "# Support Vector\n",
    "svm = SVC(kernel='rbf', C=10)\n",
    "svm.fit(X_train, y_train)\n",
    "svm_pred_2= svm.predict(X_test)\n",
    "svm_accuracy_2 = accuracy_score(y_test,svm_pred_2)*100\n",
    "#XG Boost\n",
    "xgb = XGBClassifier(learning_rate=0.01, n_estimators=25, max_depth=15,gamma=0.6, subsample=0.52,colsample_bytree=0.6,seed=27, \n",
    "                    reg_lambda=2, booster='dart', colsample_bylevel=0.6, colsample_bynode=0.5)\n",
    "xgb.fit(X_train, y_train)\n",
    "xgb_pred_2 = xgb.predict(X_test)\n",
    "xgb_accuracy_2 = accuracy_score(y_test, xgb_pred_2)*100\n",
    "#Naive Bayes\n",
    "nb = GaussianNB()\n",
    "nb.fit(X_train,y_train)\n",
    "nb_pred_2 = nb.predict(X_test)\n",
    "nb_accuracy_2 = accuracy_score(y_test, nb_pred_2)*100"
   ]
  },
  {
   "cell_type": "code",
   "execution_count": null,
   "metadata": {
    "cell_id": "00087-cd6cf398-a5f9-4046-af9b-adc3122dbb6a",
    "deepnote_cell_height": 324,
    "deepnote_cell_type": "code",
    "deepnote_to_be_reexecuted": false,
    "execution_millis": 6,
    "execution_start": 1652940530203,
    "source_hash": "4dac2852"
   },
   "outputs": [
    {
     "name": "stdout",
     "output_type": "stream",
     "text": [
      "Logistic Regression       87.855297\n",
      "Decision Tree             83.720930\n",
      "Random Forest             87.209302\n",
      "Support Vector Machine    86.434109\n",
      "K Nearest Neighbor        87.338501\n",
      "XG Boost                  87.080103\n",
      "Naive Bayes               85.917313\n",
      "dtype: float64\n"
     ]
    }
   ],
   "source": [
    "values_1 = np.array([lr_accuracy_2, dtc_accuracy_2, rfc_accuracy_2, svm_accuracy_2, knn_accuracy_2, xgb_accuracy_1, nb_accuracy_2])\n",
    "index = [\"Logistic Regression\", \"Decision Tree\", \"Random Forest\", \"Support Vector Machine\", \"K Nearest Neighbor\", \"XG Boost\", \"Naive Bayes\"]\n",
    "# providing an index of results\n",
    "summary_1 = pd.Series(values_1, index = index)\n",
    "print(summary_1)"
   ]
  },
  {
   "cell_type": "code",
   "execution_count": null,
   "metadata": {
    "cell_id": "b1ecc11a307442cfa3f20b05ca350c7d",
    "deepnote_cell_height": 1097,
    "deepnote_cell_type": "code",
    "deepnote_output_heights": [
     280
    ],
    "deepnote_to_be_reexecuted": false,
    "execution_millis": 933,
    "execution_start": 1652941224249,
    "source_hash": "38c3d576",
    "tags": []
   },
   "outputs": [
    {
     "data": {
      "image/png": "[encoded data removed]",
      "text/plain": [
       "<Figure size 432x288 with 1 Axes>"
      ]
     },
     "metadata": {
      "image/png": {
       "height": 278,
       "width": 394
      },
      "needs_background": "light"
     },
     "output_type": "display_data"
    }
   ],
   "source": [
    "#ROC and AUC\n",
    "import sklearn.metrics as metrics\n",
    "\n",
    "lr_fpr, lr_tpr, threshold = metrics.roc_curve(y_test, lr_pred_2)\n",
    "lr_roc_auc = metrics.auc(lr_fpr, lr_tpr)\n",
    "\n",
    "nb_fpr, nb_tpr, threshold = metrics.roc_curve(y_test, nb_pred_2)\n",
    "nb_roc_auc = metrics.auc(nb_fpr, nb_tpr)\n",
    "\n",
    "dtc_fpr, dtc_tpr, threshold = metrics.roc_curve(y_test, dtc_pred_2)\n",
    "dtc_roc_auc = metrics.auc(dtc_fpr, dtc_tpr)\n",
    "\n",
    "knn_fpr, knn_tpr, threshold = metrics.roc_curve(y_test, knn_pred_2)\n",
    "knn_roc_auc = metrics.auc(knn_fpr, knn_tpr)\n",
    "\n",
    "rfc_fpr, rfc_tpr, threshold = metrics.roc_curve(y_test, rfc_pred_2)\n",
    "rfc_roc_auc = metrics.auc(rfc_fpr, rfc_tpr)\n",
    "\n",
    "svm_fpr, svm_tpr, threshold = metrics.roc_curve(y_test, svm_pred_2)\n",
    "svm_roc_auc = metrics.auc(svm_fpr, svm_tpr)\n",
    "\n",
    "xgb_fpr, xgb_tpr, threshold = metrics.roc_curve(y_test, xgb_pred_2)\n",
    "xgb_roc_auc = metrics.auc(xgb_fpr, xgb_tpr)\n",
    "\n",
    "#plot it\n",
    "import matplotlib.pyplot as plt\n",
    "plt.title('Receiver Operating Characteristic')\n",
    "plt.plot(lr_fpr, lr_tpr,  label = 'Logistic Regression AUC = %0.2f' % lr_roc_auc)\n",
    "plt.plot(dtc_fpr, dtc_tpr,  label = 'Decision Tree AUC = %0.2f' % dtc_roc_auc)\n",
    "plt.plot(knn_fpr, knn_tpr,  label = 'K Nearest Neighbor AUC = %0.2f' % knn_roc_auc)\n",
    "plt.plot(rfc_fpr, rfc_tpr,  label = 'Random Forest  AUC = %0.2f' % rfc_roc_auc)\n",
    "plt.plot(svm_fpr, svm_tpr,  label = 'Support Vector Machine AUC = %0.2f' % svm_roc_auc)\n",
    "plt.plot(xgb_fpr, xgb_tpr,  label = 'XG Boost AUC = %0.2f' % xgb_roc_auc)\n",
    "plt.plot(nb_fpr, nb_tpr,  label = 'Naive Bayes AUC = %0.2f' % nb_roc_auc)\n",
    "plt.legend(loc = 'lower right')\n",
    "plt.plot([0, 1], [0, 1],'r--')\n",
    "plt.xlim([0, 1])\n",
    "plt.ylim([0, 1])\n",
    "plt.ylabel('True Positive Rate')\n",
    "plt.xlabel('False Positive Rate')\n",
    "plt.show()"
   ]
  },
  {
   "cell_type": "markdown",
   "metadata": {
    "cell_id": "00088-829c58ef-5ab8-4401-ad6b-d9c6481c7575",
    "deepnote_cell_height": 62,
    "deepnote_cell_type": "markdown"
   },
   "source": [
    "### 3. Stacked Classifier"
   ]
  },
  {
   "cell_type": "code",
   "execution_count": null,
   "metadata": {
    "cell_id": "5aa62b84a05f4b6b90e4ff01dc7d19f9",
    "deepnote_cell_height": 561,
    "deepnote_cell_type": "code",
    "deepnote_to_be_reexecuted": false,
    "execution_millis": 3861,
    "execution_start": 1652940530645,
    "source_hash": "b5612177",
    "tags": []
   },
   "outputs": [
    {
     "name": "stdout",
     "output_type": "stream",
     "text": [
      "Requirement already satisfied: mlxtend==0.19.0 in /root/venv/lib/python3.7/site-packages (0.19.0)\n",
      "Requirement already satisfied: pandas>=0.24.2 in /shared-libs/python3.7/py/lib/python3.7/site-packages (from mlxtend==0.19.0) (1.2.5)\n",
      "Requirement already satisfied: scikit-learn>=0.20.3 in /shared-libs/python3.7/py/lib/python3.7/site-packages (from mlxtend==0.19.0) (1.0.2)\n",
      "Requirement already satisfied: setuptools in /root/venv/lib/python3.7/site-packages (from mlxtend==0.19.0) (47.1.0)\n",
      "Requirement already satisfied: scipy>=1.2.1 in /shared-libs/python3.7/py/lib/python3.7/site-packages (from mlxtend==0.19.0) (1.7.3)\n",
      "Requirement already satisfied: joblib>=0.13.2 in /shared-libs/python3.7/py/lib/python3.7/site-packages (from mlxtend==0.19.0) (1.1.0)\n",
      "Requirement already satisfied: matplotlib>=3.0.0 in /shared-libs/python3.7/py/lib/python3.7/site-packages (from mlxtend==0.19.0) (3.5.2)\n",
      "Requirement already satisfied: numpy>=1.16.2 in /shared-libs/python3.7/py/lib/python3.7/site-packages (from mlxtend==0.19.0) (1.21.6)\n",
      "Requirement already satisfied: python-dateutil>=2.7.3 in /shared-libs/python3.7/py-core/lib/python3.7/site-packages (from pandas>=0.24.2->mlxtend==0.19.0) (2.8.2)\n",
      "Requirement already satisfied: pytz>=2017.3 in /shared-libs/python3.7/py/lib/python3.7/site-packages (from pandas>=0.24.2->mlxtend==0.19.0) (2022.1)\n",
      "Requirement already satisfied: threadpoolctl>=2.0.0 in /shared-libs/python3.7/py/lib/python3.7/site-packages (from scikit-learn>=0.20.3->mlxtend==0.19.0) (3.1.0)\n",
      "Requirement already satisfied: kiwisolver>=1.0.1 in /shared-libs/python3.7/py/lib/python3.7/site-packages (from matplotlib>=3.0.0->mlxtend==0.19.0) (1.4.2)\n",
      "Requirement already satisfied: pillow>=6.2.0 in /shared-libs/python3.7/py/lib/python3.7/site-packages (from matplotlib>=3.0.0->mlxtend==0.19.0) (9.1.0)\n",
      "Requirement already satisfied: fonttools>=4.22.0 in /shared-libs/python3.7/py/lib/python3.7/site-packages (from matplotlib>=3.0.0->mlxtend==0.19.0) (4.33.3)\n",
      "Requirement already satisfied: packaging>=20.0 in /shared-libs/python3.7/py/lib/python3.7/site-packages (from matplotlib>=3.0.0->mlxtend==0.19.0) (21.3)\n",
      "Requirement already satisfied: cycler>=0.10 in /shared-libs/python3.7/py/lib/python3.7/site-packages (from matplotlib>=3.0.0->mlxtend==0.19.0) (0.11.0)\n",
      "Requirement already satisfied: pyparsing>=2.2.1 in /shared-libs/python3.7/py/lib/python3.7/site-packages (from matplotlib>=3.0.0->mlxtend==0.19.0) (3.0.8)\n",
      "Requirement already satisfied: six>=1.5 in /shared-libs/python3.7/py-core/lib/python3.7/site-packages (from python-dateutil>=2.7.3->pandas>=0.24.2->mlxtend==0.19.0) (1.16.0)\n",
      "Requirement already satisfied: typing-extensions; python_version < \"3.8\" in /shared-libs/python3.7/py-core/lib/python3.7/site-packages (from kiwisolver>=1.0.1->matplotlib>=3.0.0->mlxtend==0.19.0) (4.2.0)\n",
      "\u001b[33mWARNING: You are using pip version 20.1.1; however, version 22.1 is available.\n",
      "You should consider upgrading via the '/root/venv/bin/python -m pip install --upgrade pip' command.\u001b[0m\n"
     ]
    }
   ],
   "source": [
    "!pip install mlxtend==0.19.0"
   ]
  },
  {
   "cell_type": "code",
   "execution_count": null,
   "metadata": {
    "cell_id": "00089-d51650e1-0c15-469d-bfd0-b6a324785e93",
    "deepnote_cell_height": 220,
    "deepnote_cell_type": "code",
    "deepnote_to_be_reexecuted": false,
    "execution_millis": 5780,
    "execution_start": 1652940534517,
    "source_hash": "b97e54cc"
   },
   "outputs": [
    {
     "name": "stdout",
     "output_type": "stream",
     "text": [
      "Accuracy of SCV: 87.46770025839793%\n"
     ]
    }
   ],
   "source": [
    "X_train, X_test, y_train, y_test = train_test_split(final_data, test_data,test_size=0.2, random_state = 0)\n",
    "from mlxtend.classifier import StackingCVClassifier\n",
    "scv=StackingCVClassifier(classifiers=[xgb,knn,svm,lr,rfc],meta_classifier= lr,random_state=42)\n",
    "scv.fit(X_train,y_train)\n",
    "scv_pred = scv.predict(X_test)\n",
    "scv_accuracy = accuracy_score(y_test, scv_pred)*100\n",
    "print(\"Accuracy of SCV: \" + str(scv_accuracy) + \"%\")"
   ]
  },
  {
   "cell_type": "markdown",
   "metadata": {
    "cell_id": "00090-91abf9fc-776e-4128-a803-88e9578929a4",
    "deepnote_cell_height": 62,
    "deepnote_cell_type": "markdown"
   },
   "source": [
    "### 4. Cross Validation"
   ]
  },
  {
   "cell_type": "code",
   "execution_count": null,
   "metadata": {
    "cell_id": "00091-1a8dfd14-0ab2-4463-be7c-4f6ca40d3d03",
    "deepnote_cell_height": 873,
    "deepnote_cell_type": "code",
    "deepnote_to_be_reexecuted": false,
    "execution_millis": 65805,
    "execution_start": 1652941456558,
    "source_hash": "e7dcd2b2"
   },
   "outputs": [],
   "source": [
    "#Our Cross Validation\n",
    "from sklearn.model_selection import ShuffleSplit\n",
    "models = [lr, dtc, rfc, svm, knn, xgb, nb]\n",
    "from sklearn.model_selection import StratifiedKFold\n",
    "skf = ShuffleSplit(n_splits=10, test_size=0.2, random_state=42)\n",
    "#model = KNeighborsClassifier(n_neighbors = 18, metric = 'minkowski', p=2)\n",
    "result = pd.concat([final_data, test_data], axis=1)\n",
    "values_2 = []\n",
    "fpr_array = []\n",
    "tpr_array = []\n",
    "\n",
    "\n",
    "\n",
    "\n",
    "def training(model, train, test, fold_no):\n",
    "    X_train = train.drop(['TenYearCHD'], axis = 1)\n",
    "    y_train = train.TenYearCHD\n",
    "    X_test = test.drop(['TenYearCHD'], axis = 1)\n",
    "    y_test = test.TenYearCHD\n",
    "    model.fit(X_train, y_train)\n",
    "    pred = model.predict(X_test)\n",
    "    fpr, tpr, threshold = metrics.roc_curve(y_test, pred)\n",
    "    score = accuracy_score(y_test,pred)\n",
    "    return score, fpr, tpr\n",
    "#     print('For Fold {} the accuracy is {}'.format(str(fold_no),score))\n",
    "\n",
    "\n",
    "\n",
    "for model in models:\n",
    "    fold_no = 1\n",
    "    max = 0\n",
    "    fpr = []\n",
    "    tpr = []\n",
    "    for train_index,test_index in skf.split(final_data, test_data):\n",
    "        train = result.iloc[train_index,:]\n",
    "        test = result.iloc[test_index,:]\n",
    "        score, fpr, tpr = training(model, train, test, fold_no)\n",
    "        if score > max:\n",
    "            max = score\n",
    "            fpr = fpr\n",
    "            tpr = tpr \n",
    "        fold_no += 1\n",
    "    fpr_array.append(fpr)\n",
    "    tpr_array.append(tpr)\n",
    "    values_2.append(max*100)"
   ]
  },
  {
   "cell_type": "code",
   "execution_count": null,
   "metadata": {
    "cell_id": "00092-27540dc6-e981-4235-bb18-ecf8fe760ebd",
    "deepnote_cell_height": 851,
    "deepnote_cell_type": "code",
    "deepnote_output_heights": [
     null,
     280
    ],
    "deepnote_to_be_reexecuted": false,
    "execution_millis": 1468,
    "execution_start": 1652941528930,
    "owner_user_id": "64e1f166-751b-4b70-b66e-ca572753345a",
    "source_hash": "d4d4eb15"
   },
   "outputs": [
    {
     "name": "stdout",
     "output_type": "stream",
     "text": [
      "Logistic Regression       88.372093\n",
      "Decision Tree             87.209302\n",
      "Random Forest             88.242894\n",
      "Support Vector Machine    88.372093\n",
      "K Nearest Neighbor        88.372093\n",
      "XG Boost                  88.372093\n",
      "Naive Bayes               85.658915\n",
      "dtype: float64\n"
     ]
    },
    {
     "data": {
      "image/png": "[encoded data removed]",
      "text/plain": [
       "<Figure size 432x288 with 1 Axes>"
      ]
     },
     "metadata": {
      "image/png": {
       "height": 278,
       "width": 394
      },
      "needs_background": "light"
     },
     "output_type": "display_data"
    }
   ],
   "source": [
    "#Provide an index \n",
    "index = [\"Logistic Regression\", \"Decision Tree\", \"Random Forest\", \"Support Vector Machine\", \"K Nearest Neighbor\", \"XG Boost\", \"Naive Bayes\"]\n",
    "summary_1 = pd.Series(values_2, index = index)\n",
    "print(summary_1)\n",
    "\n",
    "\n",
    "plt.title('Receiver Operating Characteristic')\n",
    "for i in range(0,7):  \n",
    "    auc = metrics.auc(fpr_array[i], tpr_array[i])\n",
    "    plt.plot(fpr_array[i], tpr_array[i],  label = index[i]+' = %0.2f' % auc)\n",
    "plt.legend(loc = 'lower right')\n",
    "plt.plot([0, 1], [0, 1],'r--')\n",
    "plt.xlim([0, 1])\n",
    "plt.ylim([0, 1])\n",
    "plt.ylabel('True Positive Rate')\n",
    "plt.xlabel('False Positive Rate')\n",
    "plt.show()"
   ]
  },
  {
   "cell_type": "markdown",
   "metadata": {
    "created_in_deepnote_cell": true,
    "deepnote_cell_type": "markdown",
    "tags": []
   },
   "source": [
    "<a style='text-decoration:none;line-height:16px;display:flex;color:#5B5B62;padding:10px;justify-content:end;' href='https://deepnote.com?utm_source=created-in-deepnote-cell&projectId=5be57678-e2e8-457b-83d7-6b5c45823df3' target=\"_blank\">\n",
    "<img alt='Created in deepnote.com' style='display:inline;max-height:16px;margin:0px;margin-right:7.5px;' src='data:image/svg+xml;base64,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' > </img>\n",
    "Created in <span style='font-weight:600;margin-left:4px;'>Deepnote</span></a>"
   ]
  }
 ],
 "metadata": {
  "deepnote": {
   "is_reactive": false
  },
  "deepnote_execution_queue": [],
  "deepnote_notebook_id": "64eb9228-dab7-4974-9630-b82ba43bda9e",
  "kernelspec": {
   "display_name": "Python 3 (ipykernel)",
   "language": "python",
   "name": "python3"
  },
  "language_info": {
   "codemirror_mode": {
    "name": "ipython",
    "version": 3
   },
   "file_extension": ".py",
   "mimetype": "text/x-python",
   "name": "python",
   "nbconvert_exporter": "python",
   "pygments_lexer": "ipython3",
   "version": "3.8.12"
  }
 },
 "nbformat": 4,
 "nbformat_minor": 2
}
